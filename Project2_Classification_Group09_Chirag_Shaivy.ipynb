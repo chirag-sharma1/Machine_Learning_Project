{
 "cells": [
  {
   "cell_type": "markdown",
   "metadata": {},
   "source": [
    "## CLASSIFICATION MODELS ON TWITTER DATA"
   ]
  },
  {
   "cell_type": "code",
   "execution_count": null,
   "metadata": {},
   "outputs": [],
   "source": [
    "import numpy as np\n",
    "import pandas as pd\n",
    "import matplotlib.pyplot as plt\n",
    "%matplotlib inline\n",
    "import seaborn as sns\n",
    "from sklearn.preprocessing import MinMaxScaler\n",
    "from sklearn.model_selection import GridSearchCV, train_test_split, cross_val_score\n",
    "from sklearn.linear_model import LinearRegression\n",
    "from sklearn.svm import SVR\n",
    "from sklearn.neighbors import KNeighborsRegressor\n",
    "from sklearn.metrics import r2_score\n",
    "from sklearn.metrics import  accuracy_score\n",
    "import warnings\n",
    "warnings.simplefilter('ignore')\n",
    "classification_result = pd.DataFrame(index=None, columns=['model','train roc_auc','test roc_auc', 'train accuracy', 'test accuracy'])\n",
    "\n"
   ]
  },
  {
   "cell_type": "code",
   "execution_count": null,
   "metadata": {},
   "outputs": [],
   "source": [
    "df = pd.read_csv('Twitter-Absolute-Sigma-500.data', header = None)\n"
   ]
  },
  {
   "cell_type": "code",
   "execution_count": 202,
   "metadata": {},
   "outputs": [],
   "source": [
    "df.columns = ['NCD_0', 'NCD_1', 'NCD_2', 'NCD_3', 'NCD_4', 'NCD_5', 'NCD_6',\n",
    "'AI_0', 'AI_1', 'AI_2', 'AI_3', 'AI_4', 'AI_5', 'AI_6', \n",
    "'AS(NA)_0','AS(NA)_1', 'AS(NA)_2', 'AS(NA)_3', 'AS(NA)_4', 'AS(NA)_5', 'AS(NA)_6', \n",
    "'BL_0', 'BL_1', 'BL_2', 'BL_3', 'BL_4', 'BL_5', 'BL_6', \n",
    "'NAC_0', 'NAC_1', 'NAC_2', 'NAC_3', 'NAC_4', 'NAC_5', 'NAC_6', \n",
    "'AS(NAC)_0', 'AS(NAC)_1', 'AS(NAC)_2', 'AS(NAC)_3', 'AS(NAC)_4', 'AS(NAC)_5', 'AS(NAC)_6', \n",
    "'CS_0', 'CS_1', 'CS_2', 'CS_3', 'CS_4', 'CS_5', 'CS_6', \n",
    "'AT_0', 'AT_1', 'AT_2', 'AT_3', 'AT_4', 'AT_5', 'AT_6', \n",
    "'NA_0', 'NA_1', 'NA_2', 'NA_3', 'NA_4', 'NA_5', 'NA_6',\n",
    "'ADL_0', 'ADL_1', 'ADL_2', 'ADL_3', 'ADL_4', 'ADL_5', 'ADL_6', \n",
    "'NAD_0', 'NAD_1', 'NAD_2', 'NAD_3', 'NAD_4', 'NAD_5', 'NAD_6',\n",
    "'buzz']"
   ]
  },
  {
   "cell_type": "code",
   "execution_count": 203,
   "metadata": {},
   "outputs": [],
   "source": [
    "X = df.drop('buzz', axis = 1)\n",
    "y = df['buzz']"
   ]
  },
  {
   "cell_type": "markdown",
   "metadata": {},
   "source": [
    "## EXPLORE"
   ]
  },
  {
   "cell_type": "code",
   "execution_count": 145,
   "metadata": {},
   "outputs": [
    {
     "name": "stdout",
     "output_type": "stream",
     "text": [
      "<class 'pandas.core.frame.DataFrame'>\n",
      "RangeIndex: 140707 entries, 0 to 140706\n",
      "Data columns (total 78 columns):\n",
      "NCD_0        140707 non-null int64\n",
      "NCD_1        140707 non-null int64\n",
      "NCD_2        140707 non-null int64\n",
      "NCD_3        140707 non-null int64\n",
      "NCD_4        140707 non-null int64\n",
      "NCD_5        140707 non-null int64\n",
      "NCD_6        140707 non-null int64\n",
      "AI_0         140707 non-null int64\n",
      "AI_1         140707 non-null int64\n",
      "AI_2         140707 non-null int64\n",
      "AI_3         140707 non-null int64\n",
      "AI_4         140707 non-null int64\n",
      "AI_5         140707 non-null int64\n",
      "AI_6         140707 non-null int64\n",
      "AS(NA)_0     140707 non-null float64\n",
      "AS(NA)_1     140707 non-null float64\n",
      "AS(NA)_2     140707 non-null float64\n",
      "AS(NA)_3     140707 non-null float64\n",
      "AS(NA)_4     140707 non-null float64\n",
      "AS(NA)_5     140707 non-null float64\n",
      "AS(NA)_6     140707 non-null float64\n",
      "BL_0         140707 non-null float64\n",
      "BL_1         140707 non-null float64\n",
      "BL_2         140707 non-null float64\n",
      "BL_3         140707 non-null float64\n",
      "BL_4         140707 non-null float64\n",
      "BL_5         140707 non-null float64\n",
      "BL_6         140707 non-null float64\n",
      "NAC_0        140707 non-null int64\n",
      "NAC_1        140707 non-null int64\n",
      "NAC_2        140707 non-null int64\n",
      "NAC_3        140707 non-null int64\n",
      "NAC_4        140707 non-null int64\n",
      "NAC_5        140707 non-null int64\n",
      "NAC_6        140707 non-null int64\n",
      "AS(NAC)_0    140707 non-null float64\n",
      "AS(NAC)_1    140707 non-null float64\n",
      "AS(NAC)_2    140707 non-null float64\n",
      "AS(NAC)_3    140707 non-null float64\n",
      "AS(NAC)_4    140707 non-null float64\n",
      "AS(NAC)_5    140707 non-null float64\n",
      "AS(NAC)_6    140707 non-null float64\n",
      "CS_0         140707 non-null float64\n",
      "CS_1         140707 non-null float64\n",
      "CS_2         140707 non-null float64\n",
      "CS_3         140707 non-null float64\n",
      "CS_4         140707 non-null float64\n",
      "CS_5         140707 non-null float64\n",
      "CS_6         140707 non-null float64\n",
      "AT_0         140707 non-null float64\n",
      "AT_1         140707 non-null float64\n",
      "AT_2         140707 non-null float64\n",
      "AT_3         140707 non-null float64\n",
      "AT_4         140707 non-null float64\n",
      "AT_5         140707 non-null float64\n",
      "AT_6         140707 non-null float64\n",
      "NA_0         140707 non-null int64\n",
      "NA_1         140707 non-null int64\n",
      "NA_2         140707 non-null int64\n",
      "NA_3         140707 non-null int64\n",
      "NA_4         140707 non-null int64\n",
      "NA_5         140707 non-null int64\n",
      "NA_6         140707 non-null int64\n",
      "ADL_0        140707 non-null float64\n",
      "ADL_1        140707 non-null float64\n",
      "ADL_2        140707 non-null float64\n",
      "ADL_3        140707 non-null float64\n",
      "ADL_4        140707 non-null float64\n",
      "ADL_5        140707 non-null float64\n",
      "ADL_6        140707 non-null float64\n",
      "NAD_0        140707 non-null int64\n",
      "NAD_1        140707 non-null int64\n",
      "NAD_2        140707 non-null int64\n",
      "NAD_3        140707 non-null int64\n",
      "NAD_4        140707 non-null int64\n",
      "NAD_5        140707 non-null int64\n",
      "NAD_6        140707 non-null int64\n",
      "buzz         140707 non-null float64\n",
      "dtypes: float64(43), int64(35)\n",
      "memory usage: 83.7 MB\n"
     ]
    }
   ],
   "source": [
    "df.info()"
   ]
  },
  {
   "cell_type": "code",
   "execution_count": 146,
   "metadata": {},
   "outputs": [
    {
     "data": {
      "text/html": [
       "<div>\n",
       "<style scoped>\n",
       "    .dataframe tbody tr th:only-of-type {\n",
       "        vertical-align: middle;\n",
       "    }\n",
       "\n",
       "    .dataframe tbody tr th {\n",
       "        vertical-align: top;\n",
       "    }\n",
       "\n",
       "    .dataframe thead th {\n",
       "        text-align: right;\n",
       "    }\n",
       "</style>\n",
       "<table border=\"1\" class=\"dataframe\">\n",
       "  <thead>\n",
       "    <tr style=\"text-align: right;\">\n",
       "      <th></th>\n",
       "      <th>NCD_0</th>\n",
       "      <th>NCD_1</th>\n",
       "      <th>NCD_2</th>\n",
       "      <th>NCD_3</th>\n",
       "      <th>NCD_4</th>\n",
       "      <th>NCD_5</th>\n",
       "      <th>NCD_6</th>\n",
       "      <th>AI_0</th>\n",
       "      <th>AI_1</th>\n",
       "      <th>AI_2</th>\n",
       "      <th>...</th>\n",
       "      <th>ADL_5</th>\n",
       "      <th>ADL_6</th>\n",
       "      <th>NAD_0</th>\n",
       "      <th>NAD_1</th>\n",
       "      <th>NAD_2</th>\n",
       "      <th>NAD_3</th>\n",
       "      <th>NAD_4</th>\n",
       "      <th>NAD_5</th>\n",
       "      <th>NAD_6</th>\n",
       "      <th>buzz</th>\n",
       "    </tr>\n",
       "  </thead>\n",
       "  <tbody>\n",
       "    <tr>\n",
       "      <th>count</th>\n",
       "      <td>140707.000000</td>\n",
       "      <td>140707.000000</td>\n",
       "      <td>140707.000000</td>\n",
       "      <td>140707.000000</td>\n",
       "      <td>140707.000000</td>\n",
       "      <td>140707.000000</td>\n",
       "      <td>140707.000000</td>\n",
       "      <td>140707.000000</td>\n",
       "      <td>140707.000000</td>\n",
       "      <td>140707.000000</td>\n",
       "      <td>...</td>\n",
       "      <td>140707.000000</td>\n",
       "      <td>140707.000000</td>\n",
       "      <td>140707.000000</td>\n",
       "      <td>140707.000000</td>\n",
       "      <td>140707.000000</td>\n",
       "      <td>140707.000000</td>\n",
       "      <td>140707.000000</td>\n",
       "      <td>140707.000000</td>\n",
       "      <td>140707.000000</td>\n",
       "      <td>140707.000000</td>\n",
       "    </tr>\n",
       "    <tr>\n",
       "      <th>mean</th>\n",
       "      <td>172.279823</td>\n",
       "      <td>155.150625</td>\n",
       "      <td>165.464476</td>\n",
       "      <td>176.820549</td>\n",
       "      <td>186.937700</td>\n",
       "      <td>216.209208</td>\n",
       "      <td>243.866510</td>\n",
       "      <td>87.050154</td>\n",
       "      <td>78.639236</td>\n",
       "      <td>84.269574</td>\n",
       "      <td>...</td>\n",
       "      <td>1.113444</td>\n",
       "      <td>1.196131</td>\n",
       "      <td>172.838807</td>\n",
       "      <td>155.630878</td>\n",
       "      <td>165.938674</td>\n",
       "      <td>177.314810</td>\n",
       "      <td>187.463794</td>\n",
       "      <td>216.776294</td>\n",
       "      <td>244.479194</td>\n",
       "      <td>0.197396</td>\n",
       "    </tr>\n",
       "    <tr>\n",
       "      <th>std</th>\n",
       "      <td>509.872276</td>\n",
       "      <td>471.573236</td>\n",
       "      <td>495.360236</td>\n",
       "      <td>528.351277</td>\n",
       "      <td>560.331281</td>\n",
       "      <td>632.188378</td>\n",
       "      <td>707.402192</td>\n",
       "      <td>234.731748</td>\n",
       "      <td>218.448179</td>\n",
       "      <td>233.536510</td>\n",
       "      <td>...</td>\n",
       "      <td>1.374287</td>\n",
       "      <td>1.826150</td>\n",
       "      <td>510.937549</td>\n",
       "      <td>472.462733</td>\n",
       "      <td>496.233557</td>\n",
       "      <td>529.286514</td>\n",
       "      <td>561.309487</td>\n",
       "      <td>633.203935</td>\n",
       "      <td>708.436795</td>\n",
       "      <td>0.398035</td>\n",
       "    </tr>\n",
       "    <tr>\n",
       "      <th>min</th>\n",
       "      <td>0.000000</td>\n",
       "      <td>0.000000</td>\n",
       "      <td>0.000000</td>\n",
       "      <td>0.000000</td>\n",
       "      <td>0.000000</td>\n",
       "      <td>0.000000</td>\n",
       "      <td>0.000000</td>\n",
       "      <td>0.000000</td>\n",
       "      <td>0.000000</td>\n",
       "      <td>0.000000</td>\n",
       "      <td>...</td>\n",
       "      <td>0.000000</td>\n",
       "      <td>0.000000</td>\n",
       "      <td>0.000000</td>\n",
       "      <td>0.000000</td>\n",
       "      <td>0.000000</td>\n",
       "      <td>0.000000</td>\n",
       "      <td>0.000000</td>\n",
       "      <td>0.000000</td>\n",
       "      <td>0.000000</td>\n",
       "      <td>0.000000</td>\n",
       "    </tr>\n",
       "    <tr>\n",
       "      <th>25%</th>\n",
       "      <td>3.000000</td>\n",
       "      <td>2.000000</td>\n",
       "      <td>3.000000</td>\n",
       "      <td>3.000000</td>\n",
       "      <td>3.000000</td>\n",
       "      <td>4.000000</td>\n",
       "      <td>5.000000</td>\n",
       "      <td>2.000000</td>\n",
       "      <td>2.000000</td>\n",
       "      <td>2.000000</td>\n",
       "      <td>...</td>\n",
       "      <td>1.000000</td>\n",
       "      <td>1.000000</td>\n",
       "      <td>3.000000</td>\n",
       "      <td>2.000000</td>\n",
       "      <td>3.000000</td>\n",
       "      <td>3.000000</td>\n",
       "      <td>3.000000</td>\n",
       "      <td>4.000000</td>\n",
       "      <td>6.000000</td>\n",
       "      <td>0.000000</td>\n",
       "    </tr>\n",
       "    <tr>\n",
       "      <th>50%</th>\n",
       "      <td>22.000000</td>\n",
       "      <td>19.000000</td>\n",
       "      <td>20.000000</td>\n",
       "      <td>22.000000</td>\n",
       "      <td>23.000000</td>\n",
       "      <td>28.000000</td>\n",
       "      <td>33.000000</td>\n",
       "      <td>13.000000</td>\n",
       "      <td>11.000000</td>\n",
       "      <td>13.000000</td>\n",
       "      <td>...</td>\n",
       "      <td>1.000000</td>\n",
       "      <td>1.000000</td>\n",
       "      <td>22.000000</td>\n",
       "      <td>19.000000</td>\n",
       "      <td>21.000000</td>\n",
       "      <td>22.000000</td>\n",
       "      <td>23.000000</td>\n",
       "      <td>28.000000</td>\n",
       "      <td>33.000000</td>\n",
       "      <td>0.000000</td>\n",
       "    </tr>\n",
       "    <tr>\n",
       "      <th>75%</th>\n",
       "      <td>125.000000</td>\n",
       "      <td>112.000000</td>\n",
       "      <td>119.000000</td>\n",
       "      <td>126.000000</td>\n",
       "      <td>133.000000</td>\n",
       "      <td>161.000000</td>\n",
       "      <td>186.000000</td>\n",
       "      <td>70.000000</td>\n",
       "      <td>64.000000</td>\n",
       "      <td>67.000000</td>\n",
       "      <td>...</td>\n",
       "      <td>1.100000</td>\n",
       "      <td>1.119048</td>\n",
       "      <td>126.000000</td>\n",
       "      <td>113.000000</td>\n",
       "      <td>119.000000</td>\n",
       "      <td>127.000000</td>\n",
       "      <td>134.000000</td>\n",
       "      <td>162.000000</td>\n",
       "      <td>187.000000</td>\n",
       "      <td>0.000000</td>\n",
       "    </tr>\n",
       "    <tr>\n",
       "      <th>max</th>\n",
       "      <td>24210.000000</td>\n",
       "      <td>22899.000000</td>\n",
       "      <td>20495.000000</td>\n",
       "      <td>27007.000000</td>\n",
       "      <td>30957.000000</td>\n",
       "      <td>28603.000000</td>\n",
       "      <td>37505.000000</td>\n",
       "      <td>15105.000000</td>\n",
       "      <td>15730.000000</td>\n",
       "      <td>16389.000000</td>\n",
       "      <td>...</td>\n",
       "      <td>185.666672</td>\n",
       "      <td>295.000000</td>\n",
       "      <td>24301.000000</td>\n",
       "      <td>22980.000000</td>\n",
       "      <td>20495.000000</td>\n",
       "      <td>27071.000000</td>\n",
       "      <td>31028.000000</td>\n",
       "      <td>28697.000000</td>\n",
       "      <td>37505.000000</td>\n",
       "      <td>1.000000</td>\n",
       "    </tr>\n",
       "  </tbody>\n",
       "</table>\n",
       "<p>8 rows × 78 columns</p>\n",
       "</div>"
      ],
      "text/plain": [
       "               NCD_0          NCD_1          NCD_2          NCD_3  \\\n",
       "count  140707.000000  140707.000000  140707.000000  140707.000000   \n",
       "mean      172.279823     155.150625     165.464476     176.820549   \n",
       "std       509.872276     471.573236     495.360236     528.351277   \n",
       "min         0.000000       0.000000       0.000000       0.000000   \n",
       "25%         3.000000       2.000000       3.000000       3.000000   \n",
       "50%        22.000000      19.000000      20.000000      22.000000   \n",
       "75%       125.000000     112.000000     119.000000     126.000000   \n",
       "max     24210.000000   22899.000000   20495.000000   27007.000000   \n",
       "\n",
       "               NCD_4          NCD_5          NCD_6           AI_0  \\\n",
       "count  140707.000000  140707.000000  140707.000000  140707.000000   \n",
       "mean      186.937700     216.209208     243.866510      87.050154   \n",
       "std       560.331281     632.188378     707.402192     234.731748   \n",
       "min         0.000000       0.000000       0.000000       0.000000   \n",
       "25%         3.000000       4.000000       5.000000       2.000000   \n",
       "50%        23.000000      28.000000      33.000000      13.000000   \n",
       "75%       133.000000     161.000000     186.000000      70.000000   \n",
       "max     30957.000000   28603.000000   37505.000000   15105.000000   \n",
       "\n",
       "                AI_1           AI_2      ...                ADL_5  \\\n",
       "count  140707.000000  140707.000000      ...        140707.000000   \n",
       "mean       78.639236      84.269574      ...             1.113444   \n",
       "std       218.448179     233.536510      ...             1.374287   \n",
       "min         0.000000       0.000000      ...             0.000000   \n",
       "25%         2.000000       2.000000      ...             1.000000   \n",
       "50%        11.000000      13.000000      ...             1.000000   \n",
       "75%        64.000000      67.000000      ...             1.100000   \n",
       "max     15730.000000   16389.000000      ...           185.666672   \n",
       "\n",
       "               ADL_6          NAD_0          NAD_1          NAD_2  \\\n",
       "count  140707.000000  140707.000000  140707.000000  140707.000000   \n",
       "mean        1.196131     172.838807     155.630878     165.938674   \n",
       "std         1.826150     510.937549     472.462733     496.233557   \n",
       "min         0.000000       0.000000       0.000000       0.000000   \n",
       "25%         1.000000       3.000000       2.000000       3.000000   \n",
       "50%         1.000000      22.000000      19.000000      21.000000   \n",
       "75%         1.119048     126.000000     113.000000     119.000000   \n",
       "max       295.000000   24301.000000   22980.000000   20495.000000   \n",
       "\n",
       "               NAD_3          NAD_4          NAD_5          NAD_6  \\\n",
       "count  140707.000000  140707.000000  140707.000000  140707.000000   \n",
       "mean      177.314810     187.463794     216.776294     244.479194   \n",
       "std       529.286514     561.309487     633.203935     708.436795   \n",
       "min         0.000000       0.000000       0.000000       0.000000   \n",
       "25%         3.000000       3.000000       4.000000       6.000000   \n",
       "50%        22.000000      23.000000      28.000000      33.000000   \n",
       "75%       127.000000     134.000000     162.000000     187.000000   \n",
       "max     27071.000000   31028.000000   28697.000000   37505.000000   \n",
       "\n",
       "                buzz  \n",
       "count  140707.000000  \n",
       "mean        0.197396  \n",
       "std         0.398035  \n",
       "min         0.000000  \n",
       "25%         0.000000  \n",
       "50%         0.000000  \n",
       "75%         0.000000  \n",
       "max         1.000000  \n",
       "\n",
       "[8 rows x 78 columns]"
      ]
     },
     "execution_count": 146,
     "metadata": {},
     "output_type": "execute_result"
    }
   ],
   "source": [
    "df.describe()"
   ]
  },
  {
   "cell_type": "code",
   "execution_count": null,
   "metadata": {},
   "outputs": [],
   "source": []
  },
  {
   "cell_type": "markdown",
   "metadata": {},
   "source": [
    "## CLASSIFICATION"
   ]
  },
  {
   "cell_type": "code",
   "execution_count": 148,
   "metadata": {},
   "outputs": [],
   "source": [
    "_, sample_data, _, sample_target = train_test_split(X, y, shuffle = True, test_size = 0.1)"
   ]
  },
  {
   "cell_type": "code",
   "execution_count": 149,
   "metadata": {},
   "outputs": [],
   "source": [
    "X_train_unscaled, X_test_unscaled, y_train, y_test = train_test_split(sample_data, sample_target, test_size = 0.3, random_state = 101)"
   ]
  },
  {
   "cell_type": "code",
   "execution_count": 150,
   "metadata": {},
   "outputs": [],
   "source": [
    "MinMax = MinMaxScaler()\n",
    "X_train = MinMax.fit_transform(X_train_unscaled)\n",
    "X_test = MinMax.transform(X_test_unscaled)"
   ]
  },
  {
   "cell_type": "markdown",
   "metadata": {},
   "source": [
    "## KNN CLASSIFICATION"
   ]
  },
  {
   "cell_type": "code",
   "execution_count": 151,
   "metadata": {
    "scrolled": true
   },
   "outputs": [
    {
     "data": {
      "text/plain": [
       "array([0.97018671, 0.97784019, 0.98110348])"
      ]
     },
     "execution_count": 151,
     "metadata": {},
     "output_type": "execute_result"
    }
   ],
   "source": [
    "from sklearn.neighbors import KNeighborsClassifier\n",
    "from sklearn.metrics import roc_auc_score\n",
    "\n",
    "knn = KNeighborsClassifier()\n",
    "param_grid = {'n_neighbors' : [3,5,7]}\n",
    "grid_search = GridSearchCV(knn, param_grid, cv = 5, scoring='roc_auc')\n",
    "grid_search.fit(X_train, y_train)\n",
    "grid_search.cv_results_['mean_test_score']"
   ]
  },
  {
   "cell_type": "code",
   "execution_count": 152,
   "metadata": {},
   "outputs": [
    {
     "data": {
      "text/plain": [
       "{'n_neighbors': 7}"
      ]
     },
     "execution_count": 152,
     "metadata": {},
     "output_type": "execute_result"
    }
   ],
   "source": [
    "grid_search.best_params_"
   ]
  },
  {
   "cell_type": "code",
   "execution_count": 153,
   "metadata": {},
   "outputs": [
    {
     "data": {
      "text/plain": [
       "0.981103478355209"
      ]
     },
     "execution_count": 153,
     "metadata": {},
     "output_type": "execute_result"
    }
   ],
   "source": [
    "grid_search.best_score_"
   ]
  },
  {
   "cell_type": "code",
   "execution_count": 154,
   "metadata": {},
   "outputs": [],
   "source": [
    "y_knn_predict = grid_search.predict(X_test)\n",
    "y_knn_train_predict = grid_search.predict(X_train)"
   ]
  },
  {
   "cell_type": "code",
   "execution_count": 155,
   "metadata": {},
   "outputs": [
    {
     "name": "stdout",
     "output_type": "stream",
     "text": [
      "Train roc_auc_score: 0.97\n",
      "Test roc_auc_score: 0.95 \n"
     ]
    }
   ],
   "source": [
    "from sklearn.metrics import roc_auc_score\n",
    "print('Train roc_auc_score: %.2f'%roc_auc_score(y_knn_train_predict, y_train))\n",
    "print('Test roc_auc_score: %.2f '%roc_auc_score(y_knn_predict, y_test))"
   ]
  },
  {
   "cell_type": "code",
   "execution_count": 176,
   "metadata": {},
   "outputs": [
    {
     "data": {
      "text/html": [
       "<div>\n",
       "<style scoped>\n",
       "    .dataframe tbody tr th:only-of-type {\n",
       "        vertical-align: middle;\n",
       "    }\n",
       "\n",
       "    .dataframe tbody tr th {\n",
       "        vertical-align: top;\n",
       "    }\n",
       "\n",
       "    .dataframe thead th {\n",
       "        text-align: right;\n",
       "    }\n",
       "</style>\n",
       "<table border=\"1\" class=\"dataframe\">\n",
       "  <thead>\n",
       "    <tr style=\"text-align: right;\">\n",
       "      <th></th>\n",
       "      <th>model</th>\n",
       "      <th>train roc_auc</th>\n",
       "      <th>test roc_auc</th>\n",
       "      <th>train accuracy</th>\n",
       "      <th>test accuracy</th>\n",
       "    </tr>\n",
       "  </thead>\n",
       "  <tbody>\n",
       "    <tr>\n",
       "      <th>0</th>\n",
       "      <td>K Neighbors Classifier</td>\n",
       "      <td>0.955902</td>\n",
       "      <td>0.930112</td>\n",
       "      <td>0.976038</td>\n",
       "      <td>0.962577</td>\n",
       "    </tr>\n",
       "  </tbody>\n",
       "</table>\n",
       "</div>"
      ],
      "text/plain": [
       "                    model  train roc_auc  test roc_auc  train accuracy  \\\n",
       "0  K Neighbors Classifier       0.955902      0.930112        0.976038   \n",
       "\n",
       "   test accuracy  \n",
       "0       0.962577  "
      ]
     },
     "execution_count": 176,
     "metadata": {},
     "output_type": "execute_result"
    }
   ],
   "source": [
    "knn = KNeighborsClassifier(n_neighbors=5)\n",
    "knn.fit(X_train, y_train)\n",
    "predict_test = knn.predict(X_test)\n",
    "predict_train = knn.predict(X_train)\n",
    "train_roc_auc = roc_auc_score(y_train, predict_train)\n",
    "test_roc_auc = roc_auc_score(y_test, predict_test)\n",
    "train_accuracy = accuracy_score(y_train, predict_train)\n",
    "test_accuracy = accuracy_score(y_test, predict_test)\n",
    "\n",
    "classification_result = classification_result.append(pd.Series({'model':'K Neighbors Classifier','train roc_auc':train_roc_auc,'test roc_auc':test_roc_auc, 'train accuracy': train_accuracy, 'test accuracy': test_accuracy}),ignore_index=True)\n",
    "classification_result"
   ]
  },
  {
   "cell_type": "markdown",
   "metadata": {},
   "source": [
    "## LINEAR SVC"
   ]
  },
  {
   "cell_type": "code",
   "execution_count": 157,
   "metadata": {},
   "outputs": [
    {
     "data": {
      "text/plain": [
       "GridSearchCV(cv=5, error_score='raise',\n",
       "       estimator=SVC(C=1.0, cache_size=200, class_weight=None, coef0=0.0,\n",
       "  decision_function_shape='ovr', degree=3, gamma='auto', kernel='linear',\n",
       "  max_iter=-1, probability=False, random_state=0, shrinking=True,\n",
       "  tol=0.001, verbose=False),\n",
       "       fit_params=None, iid=True, n_jobs=1,\n",
       "       param_grid={'C': [0.001, 0.01, 0.1, 0.5, 1, 10, 50, 100, 1000], 'max_iter': [1000, 10000]},\n",
       "       pre_dispatch='2*n_jobs', refit=True, return_train_score=True,\n",
       "       scoring=None, verbose=0)"
      ]
     },
     "execution_count": 157,
     "metadata": {},
     "output_type": "execute_result"
    }
   ],
   "source": [
    "from sklearn.svm import SVC\n",
    "\n",
    "param_grid = {'C': [0.001, 0.01, 0.1, 0.5, 1, 10, 50, 100, 1000], 'max_iter':[1000,10000] }\n",
    "\n",
    "grid_search = GridSearchCV(SVC(random_state=0,kernel='linear'), param_grid, cv=5, return_train_score=True)\n",
    "grid_search.fit(X_train, y_train)\n"
   ]
  },
  {
   "cell_type": "code",
   "execution_count": 158,
   "metadata": {},
   "outputs": [
    {
     "data": {
      "text/plain": [
       "GridSearchCV(cv=5, error_score='raise',\n",
       "       estimator=LinearSVC(C=1.0, class_weight=None, dual=True, fit_intercept=True,\n",
       "     intercept_scaling=1, loss='squared_hinge', max_iter=1000,\n",
       "     multi_class='ovr', penalty='l2', random_state=None, tol=0.0001,\n",
       "     verbose=0),\n",
       "       fit_params=None, iid=True, n_jobs=1,\n",
       "       param_grid={'C': [0.001, 0.01, 0.1, 1, 10, 100]},\n",
       "       pre_dispatch='2*n_jobs', refit=True, return_train_score=True,\n",
       "       scoring='roc_auc', verbose=0)"
      ]
     },
     "execution_count": 158,
     "metadata": {},
     "output_type": "execute_result"
    }
   ],
   "source": [
    "grid_svc_lin.fit(X_train, y_train)"
   ]
  },
  {
   "cell_type": "code",
   "execution_count": 160,
   "metadata": {},
   "outputs": [
    {
     "data": {
      "text/plain": [
       "{'C': 10}"
      ]
     },
     "execution_count": 160,
     "metadata": {},
     "output_type": "execute_result"
    }
   ],
   "source": [
    "grid_svc_lin.best_params_"
   ]
  },
  {
   "cell_type": "code",
   "execution_count": 177,
   "metadata": {},
   "outputs": [
    {
     "data": {
      "text/html": [
       "<div>\n",
       "<style scoped>\n",
       "    .dataframe tbody tr th:only-of-type {\n",
       "        vertical-align: middle;\n",
       "    }\n",
       "\n",
       "    .dataframe tbody tr th {\n",
       "        vertical-align: top;\n",
       "    }\n",
       "\n",
       "    .dataframe thead th {\n",
       "        text-align: right;\n",
       "    }\n",
       "</style>\n",
       "<table border=\"1\" class=\"dataframe\">\n",
       "  <thead>\n",
       "    <tr style=\"text-align: right;\">\n",
       "      <th></th>\n",
       "      <th>model</th>\n",
       "      <th>train roc_auc</th>\n",
       "      <th>test roc_auc</th>\n",
       "      <th>train accuracy</th>\n",
       "      <th>test accuracy</th>\n",
       "    </tr>\n",
       "  </thead>\n",
       "  <tbody>\n",
       "    <tr>\n",
       "      <th>0</th>\n",
       "      <td>K Neighbors Classifier</td>\n",
       "      <td>0.955902</td>\n",
       "      <td>0.930112</td>\n",
       "      <td>0.976038</td>\n",
       "      <td>0.962577</td>\n",
       "    </tr>\n",
       "    <tr>\n",
       "      <th>1</th>\n",
       "      <td>Linear SVM</td>\n",
       "      <td>0.949074</td>\n",
       "      <td>0.941717</td>\n",
       "      <td>0.970352</td>\n",
       "      <td>0.967551</td>\n",
       "    </tr>\n",
       "  </tbody>\n",
       "</table>\n",
       "</div>"
      ],
      "text/plain": [
       "                    model  train roc_auc  test roc_auc  train accuracy  \\\n",
       "0  K Neighbors Classifier       0.955902      0.930112        0.976038   \n",
       "1              Linear SVM       0.949074      0.941717        0.970352   \n",
       "\n",
       "   test accuracy  \n",
       "0       0.962577  \n",
       "1       0.967551  "
      ]
     },
     "execution_count": 177,
     "metadata": {},
     "output_type": "execute_result"
    }
   ],
   "source": [
    "svc = SVC(C = 50, max_iter = 1000, kernel = 'linear', random_state = 0)\n",
    "svc.fit(X_train, y_train)\n",
    "predict_test = svc.predict(X_test)\n",
    "predict_train = svc.predict(X_train)\n",
    "train_roc_auc = roc_auc_score(y_train, predict_train)\n",
    "test_roc_auc = roc_auc_score(y_test, predict_test)\n",
    "train_accuracy = accuracy_score(y_train, predict_train)\n",
    "test_accuracy = accuracy_score(y_test, predict_test)\n",
    "\n",
    "classification_result = classification_result.append(pd.Series({'model':'Linear SVM','train roc_auc':train_roc_auc,'test roc_auc':test_roc_auc, 'train accuracy': train_accuracy, 'test accuracy': test_accuracy}),ignore_index=True)\n",
    "classification_result"
   ]
  },
  {
   "cell_type": "markdown",
   "metadata": {},
   "source": [
    "## LOGISTIC REGRESSION"
   ]
  },
  {
   "cell_type": "code",
   "execution_count": 169,
   "metadata": {},
   "outputs": [],
   "source": [
    "from sklearn.linear_model import LogisticRegression\n",
    "from sklearn.metrics import  accuracy_score\n"
   ]
  },
  {
   "cell_type": "code",
   "execution_count": 170,
   "metadata": {},
   "outputs": [
    {
     "data": {
      "text/plain": [
       "GridSearchCV(cv=5, error_score='raise',\n",
       "       estimator=LogisticRegression(C=1.0, class_weight=None, dual=False, fit_intercept=True,\n",
       "          intercept_scaling=1, max_iter=100, multi_class='ovr', n_jobs=1,\n",
       "          penalty='l2', random_state=None, solver='liblinear', tol=0.0001,\n",
       "          verbose=0, warm_start=False),\n",
       "       fit_params=None, iid=True, n_jobs=1,\n",
       "       param_grid={'penalty': ['l1', 'l2']}, pre_dispatch='2*n_jobs',\n",
       "       refit=True, return_train_score=True, scoring=None, verbose=0)"
      ]
     },
     "execution_count": 170,
     "metadata": {},
     "output_type": "execute_result"
    }
   ],
   "source": [
    "logr = LogisticRegression()\n",
    "param_grid = {'penalty': ['l1', 'l2']}\n",
    "grid_search = GridSearchCV(logr, param_grid, cv = 5, return_train_score= True)\n",
    "grid_search.fit(X_train, y_train)"
   ]
  },
  {
   "cell_type": "code",
   "execution_count": 171,
   "metadata": {},
   "outputs": [
    {
     "data": {
      "text/plain": [
       "{'mean_fit_time': array([0.23674169, 0.11422696]),\n",
       " 'std_fit_time': array([0.02131809, 0.00539736]),\n",
       " 'mean_score_time': array([0.00039897, 0.00068097]),\n",
       " 'std_score_time': array([0.00048864, 0.00036045]),\n",
       " 'param_penalty': masked_array(data=['l1', 'l2'],\n",
       "              mask=[False, False],\n",
       "        fill_value='?',\n",
       "             dtype=object),\n",
       " 'params': [{'penalty': 'l1'}, {'penalty': 'l2'}],\n",
       " 'split0_test_score': array([0.96548223, 0.95329949]),\n",
       " 'split1_test_score': array([0.96294416, 0.94619289]),\n",
       " 'split2_test_score': array([0.96649746, 0.96294416]),\n",
       " 'split3_test_score': array([0.97005076, 0.96040609]),\n",
       " 'split4_test_score': array([0.96597257, 0.95226003]),\n",
       " 'mean_test_score': array([0.96618946, 0.95502081]),\n",
       " 'std_test_score': array([0.00228413, 0.0060052 ]),\n",
       " 'rank_test_score': array([1, 2]),\n",
       " 'split0_train_score': array([0.96674705, 0.95786267]),\n",
       " 'split1_train_score': array([0.96738165, 0.95659348]),\n",
       " 'split2_train_score': array([0.96750857, 0.95494352]),\n",
       " 'split3_train_score': array([0.96623937, 0.95367432]),\n",
       " 'split4_train_score': array([0.96700508, 0.95532995]),\n",
       " 'mean_train_score': array([0.96697634, 0.95568079]),\n",
       " 'std_train_score': array([0.00045696, 0.00143431])}"
      ]
     },
     "execution_count": 171,
     "metadata": {},
     "output_type": "execute_result"
    }
   ],
   "source": [
    "grid_search.cv_results_"
   ]
  },
  {
   "cell_type": "code",
   "execution_count": 172,
   "metadata": {},
   "outputs": [
    {
     "data": {
      "text/plain": [
       "{'penalty': 'l1'}"
      ]
     },
     "execution_count": 172,
     "metadata": {},
     "output_type": "execute_result"
    }
   ],
   "source": [
    "grid_search.best_params_"
   ]
  },
  {
   "cell_type": "code",
   "execution_count": 173,
   "metadata": {},
   "outputs": [
    {
     "data": {
      "text/plain": [
       "0.9661894608589705"
      ]
     },
     "execution_count": 173,
     "metadata": {},
     "output_type": "execute_result"
    }
   ],
   "source": [
    "grid_search.best_score_"
   ]
  },
  {
   "cell_type": "code",
   "execution_count": 178,
   "metadata": {},
   "outputs": [
    {
     "data": {
      "text/html": [
       "<div>\n",
       "<style scoped>\n",
       "    .dataframe tbody tr th:only-of-type {\n",
       "        vertical-align: middle;\n",
       "    }\n",
       "\n",
       "    .dataframe tbody tr th {\n",
       "        vertical-align: top;\n",
       "    }\n",
       "\n",
       "    .dataframe thead th {\n",
       "        text-align: right;\n",
       "    }\n",
       "</style>\n",
       "<table border=\"1\" class=\"dataframe\">\n",
       "  <thead>\n",
       "    <tr style=\"text-align: right;\">\n",
       "      <th></th>\n",
       "      <th>model</th>\n",
       "      <th>train roc_auc</th>\n",
       "      <th>test roc_auc</th>\n",
       "      <th>train accuracy</th>\n",
       "      <th>test accuracy</th>\n",
       "    </tr>\n",
       "  </thead>\n",
       "  <tbody>\n",
       "    <tr>\n",
       "      <th>0</th>\n",
       "      <td>K Neighbors Classifier</td>\n",
       "      <td>0.955902</td>\n",
       "      <td>0.930112</td>\n",
       "      <td>0.976038</td>\n",
       "      <td>0.962577</td>\n",
       "    </tr>\n",
       "    <tr>\n",
       "      <th>1</th>\n",
       "      <td>Linear SVM</td>\n",
       "      <td>0.949074</td>\n",
       "      <td>0.941717</td>\n",
       "      <td>0.970352</td>\n",
       "      <td>0.967551</td>\n",
       "    </tr>\n",
       "    <tr>\n",
       "      <th>2</th>\n",
       "      <td>Logistic Regression</td>\n",
       "      <td>0.935908</td>\n",
       "      <td>0.931878</td>\n",
       "      <td>0.967509</td>\n",
       "      <td>0.966840</td>\n",
       "    </tr>\n",
       "  </tbody>\n",
       "</table>\n",
       "</div>"
      ],
      "text/plain": [
       "                    model  train roc_auc  test roc_auc  train accuracy  \\\n",
       "0  K Neighbors Classifier       0.955902      0.930112        0.976038   \n",
       "1              Linear SVM       0.949074      0.941717        0.970352   \n",
       "2     Logistic Regression       0.935908      0.931878        0.967509   \n",
       "\n",
       "   test accuracy  \n",
       "0       0.962577  \n",
       "1       0.967551  \n",
       "2       0.966840  "
      ]
     },
     "execution_count": 178,
     "metadata": {},
     "output_type": "execute_result"
    }
   ],
   "source": [
    "logr = LogisticRegression(penalty = 'l1')\n",
    "logr.fit(X_train,y_train)\n",
    "predict_logr = logr.predict(X_test)\n",
    "predict_testlogr = logr.predict(X_test)\n",
    "predict_trainlogr = logr.predict(X_train)\n",
    "train_roc_auc_logr = roc_auc_score(y_train, predict_trainlogr)\n",
    "test_roc_auc_logr = roc_auc_score(y_test, predict_testlogr)\n",
    "train_accuracy_logr = accuracy_score(y_train, predict_trainlogr)\n",
    "test_accuracy_logr = accuracy_score(y_test, predict_testlogr)\n",
    "classification_result = classification_result.append(pd.Series({'model':'Logistic Regression','train roc_auc':train_roc_auc_logr,'test roc_auc':test_roc_auc_logr, 'train accuracy': train_accuracy_logr, 'test accuracy': test_accuracy_logr}),ignore_index=True)\n",
    "classification_result"
   ]
  },
  {
   "cell_type": "markdown",
   "metadata": {},
   "source": [
    "## POLYNOMIAL SVM\n"
   ]
  },
  {
   "cell_type": "code",
   "execution_count": 180,
   "metadata": {},
   "outputs": [
    {
     "data": {
      "text/plain": [
       "GridSearchCV(cv=5, error_score='raise',\n",
       "       estimator=SVC(C=1.0, cache_size=200, class_weight=None, coef0=0.0,\n",
       "  decision_function_shape='ovr', degree=3, gamma='auto', kernel='poly',\n",
       "  max_iter=-1, probability=False, random_state=0, shrinking=True,\n",
       "  tol=0.001, verbose=False),\n",
       "       fit_params=None, iid=True, n_jobs=1,\n",
       "       param_grid={'C': [0.001, 0.01, 0.1, 0.5, 1, 10, 50, 100, 1000], 'max_iter': [1000, 10000], 'gamma': [0.001, 0.01, 0.1, 0.5, 1, 10]},\n",
       "       pre_dispatch='2*n_jobs', refit=True, return_train_score=True,\n",
       "       scoring=None, verbose=0)"
      ]
     },
     "execution_count": 180,
     "metadata": {},
     "output_type": "execute_result"
    }
   ],
   "source": [
    "param_grid = {'C': [0.001, 0.01, 0.1, 0.5, 1, 10, 50, 100, 1000], 'max_iter':[1000,10000], 'gamma':[0.001, 0.01, 0.1, 0.5, 1, 10] }\n",
    "\n",
    "grid_search = GridSearchCV(SVC(random_state=0,kernel='poly'), param_grid, cv=5, return_train_score=True)\n",
    "grid_search.fit(X_train, y_train)"
   ]
  },
  {
   "cell_type": "code",
   "execution_count": 181,
   "metadata": {},
   "outputs": [
    {
     "data": {
      "text/plain": [
       "{'mean_fit_time': array([1.30484915, 2.24606323, 1.30398078, 2.32230129, 1.3190659 ,\n",
       "        2.13705764, 1.09989204, 1.10659981, 0.73950267, 0.7370018 ,\n",
       "        0.44156737, 0.83195906, 1.31972308, 2.13118191, 1.29716063,\n",
       "        2.30272417, 1.41333323, 2.04666128, 0.74935336, 0.75486765,\n",
       "        0.56650248, 0.61847482, 0.39743195, 1.18375707, 1.2981627 ,\n",
       "        2.16059227, 1.29329805, 2.16091013, 1.16125402, 1.16614084,\n",
       "        0.5516561 , 0.56080117, 0.53008623, 0.5386508 , 0.32455359,\n",
       "        1.07268634, 1.29075861, 2.13473616, 1.29599738, 2.12784863,\n",
       "        0.83578839, 0.83052835, 0.53150816, 0.55463467, 0.52045913,\n",
       "        0.63352003, 0.3176898 , 1.2607964 , 1.31037812, 2.13510461,\n",
       "        1.31276278, 2.13250313, 0.73739448, 0.74032135, 0.53081245,\n",
       "        0.54678283, 0.44373879, 0.72052245, 0.31789055, 1.04711046,\n",
       "        1.30154786, 2.16697221, 1.28392057, 2.15442715, 0.61277156,\n",
       "        0.61150336, 0.50157175, 0.80153012, 0.32835078, 1.13296056,\n",
       "        0.32219176, 1.05451975, 1.30002508, 2.16429501, 1.37246265,\n",
       "        1.85761046, 0.58883319, 0.6215364 , 0.35167928, 1.14972353,\n",
       "        0.33211803, 1.18840051, 0.35862441, 1.13641076, 1.31310301,\n",
       "        2.39455094, 1.22462606, 1.16298256, 0.52793264, 0.53559442,\n",
       "        0.33324509, 1.17387214, 0.33586431, 1.1065671 , 0.31094155,\n",
       "        1.04667411, 1.29749227, 2.23439522, 0.77816358, 0.75779562,\n",
       "        0.47101932, 0.89360485, 0.42819042, 1.22287903, 0.32558289,\n",
       "        1.0420404 , 0.33464012, 1.12005529]),\n",
       " 'std_fit_time': array([0.01856603, 0.19648477, 0.0144581 , 0.17477011, 0.03997827,\n",
       "        0.01699943, 0.01553499, 0.0213309 , 0.01295606, 0.00097522,\n",
       "        0.01343317, 0.0480407 , 0.02459663, 0.00710308, 0.01000531,\n",
       "        0.17626571, 0.09614976, 0.06767992, 0.0544986 , 0.03201612,\n",
       "        0.00624302, 0.04761289, 0.05517147, 0.08044494, 0.00670562,\n",
       "        0.02364495, 0.01049591, 0.03900068, 0.01455441, 0.01303824,\n",
       "        0.01011706, 0.00613913, 0.00669229, 0.01093514, 0.01173927,\n",
       "        0.01909149, 0.00956241, 0.01816939, 0.00751508, 0.00650563,\n",
       "        0.00994622, 0.01242392, 0.01157264, 0.04084703, 0.00602483,\n",
       "        0.01473496, 0.0058892 , 0.14052192, 0.02684318, 0.01223762,\n",
       "        0.0412832 , 0.01017386, 0.0106461 , 0.01384259, 0.00663977,\n",
       "        0.01042471, 0.0108191 , 0.01666371, 0.01384679, 0.01801608,\n",
       "        0.00795117, 0.04400452, 0.00292779, 0.06883306, 0.01356516,\n",
       "        0.03631467, 0.03863174, 0.02703131, 0.01219476, 0.01192637,\n",
       "        0.00945574, 0.01864407, 0.01038651, 0.05888369, 0.10040099,\n",
       "        0.3259165 , 0.01958619, 0.10677619, 0.02168203, 0.03859199,\n",
       "        0.01507338, 0.04510772, 0.03387308, 0.06282606, 0.01953254,\n",
       "        0.22720587, 0.09773228, 0.01149483, 0.00718658, 0.0091499 ,\n",
       "        0.0092257 , 0.03999097, 0.01222495, 0.05309718, 0.01214703,\n",
       "        0.01709954, 0.01619695, 0.12238836, 0.03248432, 0.0103016 ,\n",
       "        0.01097613, 0.10317757, 0.05630501, 0.07143156, 0.02163292,\n",
       "        0.02716619, 0.01882377, 0.06646955]),\n",
       " 'mean_score_time': array([0.26565232, 0.42274814, 0.26845098, 0.46099734, 0.28498106,\n",
       "        0.412286  , 0.22873135, 0.22865658, 0.14390883, 0.14948092,\n",
       "        0.07522302, 0.09661245, 0.26841269, 0.41829085, 0.27604599,\n",
       "        0.45152626, 0.28682208, 0.38640609, 0.14998598, 0.14742723,\n",
       "        0.10497279, 0.11024518, 0.06092138, 0.10783148, 0.27306519,\n",
       "        0.41718669, 0.26625495, 0.4210578 , 0.24068236, 0.2432435 ,\n",
       "        0.10929017, 0.0999752 , 0.09714704, 0.0895288 , 0.05036159,\n",
       "        0.11499667, 0.26804781, 0.41398373, 0.27061448, 0.4162941 ,\n",
       "        0.16232781, 0.1690619 , 0.1026196 , 0.10422192, 0.08742242,\n",
       "        0.08747649, 0.05623546, 0.13147349, 0.26659617, 0.41310363,\n",
       "        0.26801434, 0.41653357, 0.1507267 , 0.14848595, 0.09218745,\n",
       "        0.09086671, 0.0749876 , 0.09271722, 0.05366859, 0.11420722,\n",
       "        0.26867175, 0.41537976, 0.2686851 , 0.41480031, 0.10962501,\n",
       "        0.11673784, 0.07685065, 0.09032412, 0.04901567, 0.1106883 ,\n",
       "        0.04934616, 0.1220499 , 0.2657886 , 0.41388955, 0.3366416 ,\n",
       "        0.31198039, 0.09677029, 0.09576535, 0.05444074, 0.09516044,\n",
       "        0.05206118, 0.12127862, 0.05526037, 0.12053428, 0.26555915,\n",
       "        0.46345544, 0.23845067, 0.23785963, 0.09500256, 0.09059935,\n",
       "        0.05236163, 0.11931524, 0.05068169, 0.11478133, 0.05310073,\n",
       "        0.11266279, 0.26684179, 0.42254825, 0.16011205, 0.14952822,\n",
       "        0.08244457, 0.09239192, 0.05846071, 0.13175454, 0.04977713,\n",
       "        0.11188426, 0.0520216 , 0.11773238]),\n",
       " 'std_score_time': array([6.78549187e-03, 8.99230585e-03, 4.25106570e-03, 5.83138476e-02,\n",
       "        1.90423678e-02, 9.34208475e-03, 6.88523061e-03, 7.42375475e-03,\n",
       "        6.61229614e-03, 6.91596715e-03, 5.78061190e-03, 6.19055472e-03,\n",
       "        5.69986246e-03, 6.26301050e-03, 2.04421132e-02, 4.62399598e-02,\n",
       "        1.29781611e-02, 1.31648978e-02, 9.83227041e-03, 6.47734534e-03,\n",
       "        7.29713515e-03, 4.57799309e-03, 6.14417535e-03, 7.40221328e-03,\n",
       "        6.49796288e-03, 1.72727464e-02, 3.95614058e-03, 6.66100454e-03,\n",
       "        5.92789124e-03, 4.29071098e-03, 8.47754976e-03, 7.63962026e-03,\n",
       "        4.95566017e-03, 6.07785100e-03, 9.86426041e-03, 7.41571654e-03,\n",
       "        7.59624276e-03, 2.25734019e-03, 6.45050695e-03, 6.41999157e-03,\n",
       "        6.82581862e-03, 3.44278568e-03, 5.08796583e-03, 2.09936744e-02,\n",
       "        6.57804669e-03, 7.65077813e-03, 7.63793157e-03, 1.53133723e-02,\n",
       "        8.20555143e-04, 6.51716167e-03, 6.59221746e-03, 3.94272878e-03,\n",
       "        5.48348601e-03, 1.03203601e-02, 3.06027128e-03, 7.01241249e-03,\n",
       "        6.26945814e-03, 5.44718749e-03, 6.78826509e-03, 6.33523137e-03,\n",
       "        6.23657030e-03, 8.17591159e-03, 6.24835506e-03, 2.15439241e-02,\n",
       "        8.78856058e-03, 9.01484674e-03, 9.15226237e-03, 4.13417993e-03,\n",
       "        7.01746838e-03, 4.41871718e-03, 3.96200127e-03, 3.58960919e-03,\n",
       "        4.72729476e-04, 9.25267537e-03, 1.17668906e-01, 4.67254070e-02,\n",
       "        1.09207219e-03, 8.92337354e-04, 3.38006610e-03, 1.35832434e-03,\n",
       "        2.54854858e-03, 2.49095354e-03, 5.96974931e-03, 1.29720309e-02,\n",
       "        2.20778179e-05, 3.87101052e-02, 8.70166791e-03, 7.11884371e-03,\n",
       "        5.48695955e-03, 6.25100176e-03, 6.82741617e-03, 6.31690162e-03,\n",
       "        3.03119516e-03, 9.78702393e-03, 7.65812969e-03, 6.16571013e-03,\n",
       "        3.77070221e-03, 8.57384873e-03, 6.94628888e-03, 6.27172484e-03,\n",
       "        5.79241648e-03, 8.76919071e-03, 5.56802466e-03, 2.19547416e-03,\n",
       "        6.38642657e-03, 2.00950233e-03, 5.70104431e-03, 5.69172478e-03]),\n",
       " 'param_C': masked_array(data=[0.001, 0.001, 0.001, 0.001, 0.001, 0.001, 0.001, 0.001,\n",
       "                    0.001, 0.001, 0.001, 0.001, 0.01, 0.01, 0.01, 0.01,\n",
       "                    0.01, 0.01, 0.01, 0.01, 0.01, 0.01, 0.01, 0.01, 0.1,\n",
       "                    0.1, 0.1, 0.1, 0.1, 0.1, 0.1, 0.1, 0.1, 0.1, 0.1, 0.1,\n",
       "                    0.5, 0.5, 0.5, 0.5, 0.5, 0.5, 0.5, 0.5, 0.5, 0.5, 0.5,\n",
       "                    0.5, 1, 1, 1, 1, 1, 1, 1, 1, 1, 1, 1, 1, 10, 10, 10,\n",
       "                    10, 10, 10, 10, 10, 10, 10, 10, 10, 50, 50, 50, 50, 50,\n",
       "                    50, 50, 50, 50, 50, 50, 50, 100, 100, 100, 100, 100,\n",
       "                    100, 100, 100, 100, 100, 100, 100, 1000, 1000, 1000,\n",
       "                    1000, 1000, 1000, 1000, 1000, 1000, 1000, 1000, 1000],\n",
       "              mask=[False, False, False, False, False, False, False, False,\n",
       "                    False, False, False, False, False, False, False, False,\n",
       "                    False, False, False, False, False, False, False, False,\n",
       "                    False, False, False, False, False, False, False, False,\n",
       "                    False, False, False, False, False, False, False, False,\n",
       "                    False, False, False, False, False, False, False, False,\n",
       "                    False, False, False, False, False, False, False, False,\n",
       "                    False, False, False, False, False, False, False, False,\n",
       "                    False, False, False, False, False, False, False, False,\n",
       "                    False, False, False, False, False, False, False, False,\n",
       "                    False, False, False, False, False, False, False, False,\n",
       "                    False, False, False, False, False, False, False, False,\n",
       "                    False, False, False, False, False, False, False, False,\n",
       "                    False, False, False, False],\n",
       "        fill_value='?',\n",
       "             dtype=object),\n",
       " 'param_gamma': masked_array(data=[0.001, 0.001, 0.01, 0.01, 0.1, 0.1, 0.5, 0.5, 1, 1, 10,\n",
       "                    10, 0.001, 0.001, 0.01, 0.01, 0.1, 0.1, 0.5, 0.5, 1, 1,\n",
       "                    10, 10, 0.001, 0.001, 0.01, 0.01, 0.1, 0.1, 0.5, 0.5,\n",
       "                    1, 1, 10, 10, 0.001, 0.001, 0.01, 0.01, 0.1, 0.1, 0.5,\n",
       "                    0.5, 1, 1, 10, 10, 0.001, 0.001, 0.01, 0.01, 0.1, 0.1,\n",
       "                    0.5, 0.5, 1, 1, 10, 10, 0.001, 0.001, 0.01, 0.01, 0.1,\n",
       "                    0.1, 0.5, 0.5, 1, 1, 10, 10, 0.001, 0.001, 0.01, 0.01,\n",
       "                    0.1, 0.1, 0.5, 0.5, 1, 1, 10, 10, 0.001, 0.001, 0.01,\n",
       "                    0.01, 0.1, 0.1, 0.5, 0.5, 1, 1, 10, 10, 0.001, 0.001,\n",
       "                    0.01, 0.01, 0.1, 0.1, 0.5, 0.5, 1, 1, 10, 10],\n",
       "              mask=[False, False, False, False, False, False, False, False,\n",
       "                    False, False, False, False, False, False, False, False,\n",
       "                    False, False, False, False, False, False, False, False,\n",
       "                    False, False, False, False, False, False, False, False,\n",
       "                    False, False, False, False, False, False, False, False,\n",
       "                    False, False, False, False, False, False, False, False,\n",
       "                    False, False, False, False, False, False, False, False,\n",
       "                    False, False, False, False, False, False, False, False,\n",
       "                    False, False, False, False, False, False, False, False,\n",
       "                    False, False, False, False, False, False, False, False,\n",
       "                    False, False, False, False, False, False, False, False,\n",
       "                    False, False, False, False, False, False, False, False,\n",
       "                    False, False, False, False, False, False, False, False,\n",
       "                    False, False, False, False],\n",
       "        fill_value='?',\n",
       "             dtype=object),\n",
       " 'param_max_iter': masked_array(data=[1000, 10000, 1000, 10000, 1000, 10000, 1000, 10000,\n",
       "                    1000, 10000, 1000, 10000, 1000, 10000, 1000, 10000,\n",
       "                    1000, 10000, 1000, 10000, 1000, 10000, 1000, 10000,\n",
       "                    1000, 10000, 1000, 10000, 1000, 10000, 1000, 10000,\n",
       "                    1000, 10000, 1000, 10000, 1000, 10000, 1000, 10000,\n",
       "                    1000, 10000, 1000, 10000, 1000, 10000, 1000, 10000,\n",
       "                    1000, 10000, 1000, 10000, 1000, 10000, 1000, 10000,\n",
       "                    1000, 10000, 1000, 10000, 1000, 10000, 1000, 10000,\n",
       "                    1000, 10000, 1000, 10000, 1000, 10000, 1000, 10000,\n",
       "                    1000, 10000, 1000, 10000, 1000, 10000, 1000, 10000,\n",
       "                    1000, 10000, 1000, 10000, 1000, 10000, 1000, 10000,\n",
       "                    1000, 10000, 1000, 10000, 1000, 10000, 1000, 10000,\n",
       "                    1000, 10000, 1000, 10000, 1000, 10000, 1000, 10000,\n",
       "                    1000, 10000, 1000, 10000],\n",
       "              mask=[False, False, False, False, False, False, False, False,\n",
       "                    False, False, False, False, False, False, False, False,\n",
       "                    False, False, False, False, False, False, False, False,\n",
       "                    False, False, False, False, False, False, False, False,\n",
       "                    False, False, False, False, False, False, False, False,\n",
       "                    False, False, False, False, False, False, False, False,\n",
       "                    False, False, False, False, False, False, False, False,\n",
       "                    False, False, False, False, False, False, False, False,\n",
       "                    False, False, False, False, False, False, False, False,\n",
       "                    False, False, False, False, False, False, False, False,\n",
       "                    False, False, False, False, False, False, False, False,\n",
       "                    False, False, False, False, False, False, False, False,\n",
       "                    False, False, False, False, False, False, False, False,\n",
       "                    False, False, False, False],\n",
       "        fill_value='?',\n",
       "             dtype=object),\n",
       " 'params': [{'C': 0.001, 'gamma': 0.001, 'max_iter': 1000},\n",
       "  {'C': 0.001, 'gamma': 0.001, 'max_iter': 10000},\n",
       "  {'C': 0.001, 'gamma': 0.01, 'max_iter': 1000},\n",
       "  {'C': 0.001, 'gamma': 0.01, 'max_iter': 10000},\n",
       "  {'C': 0.001, 'gamma': 0.1, 'max_iter': 1000},\n",
       "  {'C': 0.001, 'gamma': 0.1, 'max_iter': 10000},\n",
       "  {'C': 0.001, 'gamma': 0.5, 'max_iter': 1000},\n",
       "  {'C': 0.001, 'gamma': 0.5, 'max_iter': 10000},\n",
       "  {'C': 0.001, 'gamma': 1, 'max_iter': 1000},\n",
       "  {'C': 0.001, 'gamma': 1, 'max_iter': 10000},\n",
       "  {'C': 0.001, 'gamma': 10, 'max_iter': 1000},\n",
       "  {'C': 0.001, 'gamma': 10, 'max_iter': 10000},\n",
       "  {'C': 0.01, 'gamma': 0.001, 'max_iter': 1000},\n",
       "  {'C': 0.01, 'gamma': 0.001, 'max_iter': 10000},\n",
       "  {'C': 0.01, 'gamma': 0.01, 'max_iter': 1000},\n",
       "  {'C': 0.01, 'gamma': 0.01, 'max_iter': 10000},\n",
       "  {'C': 0.01, 'gamma': 0.1, 'max_iter': 1000},\n",
       "  {'C': 0.01, 'gamma': 0.1, 'max_iter': 10000},\n",
       "  {'C': 0.01, 'gamma': 0.5, 'max_iter': 1000},\n",
       "  {'C': 0.01, 'gamma': 0.5, 'max_iter': 10000},\n",
       "  {'C': 0.01, 'gamma': 1, 'max_iter': 1000},\n",
       "  {'C': 0.01, 'gamma': 1, 'max_iter': 10000},\n",
       "  {'C': 0.01, 'gamma': 10, 'max_iter': 1000},\n",
       "  {'C': 0.01, 'gamma': 10, 'max_iter': 10000},\n",
       "  {'C': 0.1, 'gamma': 0.001, 'max_iter': 1000},\n",
       "  {'C': 0.1, 'gamma': 0.001, 'max_iter': 10000},\n",
       "  {'C': 0.1, 'gamma': 0.01, 'max_iter': 1000},\n",
       "  {'C': 0.1, 'gamma': 0.01, 'max_iter': 10000},\n",
       "  {'C': 0.1, 'gamma': 0.1, 'max_iter': 1000},\n",
       "  {'C': 0.1, 'gamma': 0.1, 'max_iter': 10000},\n",
       "  {'C': 0.1, 'gamma': 0.5, 'max_iter': 1000},\n",
       "  {'C': 0.1, 'gamma': 0.5, 'max_iter': 10000},\n",
       "  {'C': 0.1, 'gamma': 1, 'max_iter': 1000},\n",
       "  {'C': 0.1, 'gamma': 1, 'max_iter': 10000},\n",
       "  {'C': 0.1, 'gamma': 10, 'max_iter': 1000},\n",
       "  {'C': 0.1, 'gamma': 10, 'max_iter': 10000},\n",
       "  {'C': 0.5, 'gamma': 0.001, 'max_iter': 1000},\n",
       "  {'C': 0.5, 'gamma': 0.001, 'max_iter': 10000},\n",
       "  {'C': 0.5, 'gamma': 0.01, 'max_iter': 1000},\n",
       "  {'C': 0.5, 'gamma': 0.01, 'max_iter': 10000},\n",
       "  {'C': 0.5, 'gamma': 0.1, 'max_iter': 1000},\n",
       "  {'C': 0.5, 'gamma': 0.1, 'max_iter': 10000},\n",
       "  {'C': 0.5, 'gamma': 0.5, 'max_iter': 1000},\n",
       "  {'C': 0.5, 'gamma': 0.5, 'max_iter': 10000},\n",
       "  {'C': 0.5, 'gamma': 1, 'max_iter': 1000},\n",
       "  {'C': 0.5, 'gamma': 1, 'max_iter': 10000},\n",
       "  {'C': 0.5, 'gamma': 10, 'max_iter': 1000},\n",
       "  {'C': 0.5, 'gamma': 10, 'max_iter': 10000},\n",
       "  {'C': 1, 'gamma': 0.001, 'max_iter': 1000},\n",
       "  {'C': 1, 'gamma': 0.001, 'max_iter': 10000},\n",
       "  {'C': 1, 'gamma': 0.01, 'max_iter': 1000},\n",
       "  {'C': 1, 'gamma': 0.01, 'max_iter': 10000},\n",
       "  {'C': 1, 'gamma': 0.1, 'max_iter': 1000},\n",
       "  {'C': 1, 'gamma': 0.1, 'max_iter': 10000},\n",
       "  {'C': 1, 'gamma': 0.5, 'max_iter': 1000},\n",
       "  {'C': 1, 'gamma': 0.5, 'max_iter': 10000},\n",
       "  {'C': 1, 'gamma': 1, 'max_iter': 1000},\n",
       "  {'C': 1, 'gamma': 1, 'max_iter': 10000},\n",
       "  {'C': 1, 'gamma': 10, 'max_iter': 1000},\n",
       "  {'C': 1, 'gamma': 10, 'max_iter': 10000},\n",
       "  {'C': 10, 'gamma': 0.001, 'max_iter': 1000},\n",
       "  {'C': 10, 'gamma': 0.001, 'max_iter': 10000},\n",
       "  {'C': 10, 'gamma': 0.01, 'max_iter': 1000},\n",
       "  {'C': 10, 'gamma': 0.01, 'max_iter': 10000},\n",
       "  {'C': 10, 'gamma': 0.1, 'max_iter': 1000},\n",
       "  {'C': 10, 'gamma': 0.1, 'max_iter': 10000},\n",
       "  {'C': 10, 'gamma': 0.5, 'max_iter': 1000},\n",
       "  {'C': 10, 'gamma': 0.5, 'max_iter': 10000},\n",
       "  {'C': 10, 'gamma': 1, 'max_iter': 1000},\n",
       "  {'C': 10, 'gamma': 1, 'max_iter': 10000},\n",
       "  {'C': 10, 'gamma': 10, 'max_iter': 1000},\n",
       "  {'C': 10, 'gamma': 10, 'max_iter': 10000},\n",
       "  {'C': 50, 'gamma': 0.001, 'max_iter': 1000},\n",
       "  {'C': 50, 'gamma': 0.001, 'max_iter': 10000},\n",
       "  {'C': 50, 'gamma': 0.01, 'max_iter': 1000},\n",
       "  {'C': 50, 'gamma': 0.01, 'max_iter': 10000},\n",
       "  {'C': 50, 'gamma': 0.1, 'max_iter': 1000},\n",
       "  {'C': 50, 'gamma': 0.1, 'max_iter': 10000},\n",
       "  {'C': 50, 'gamma': 0.5, 'max_iter': 1000},\n",
       "  {'C': 50, 'gamma': 0.5, 'max_iter': 10000},\n",
       "  {'C': 50, 'gamma': 1, 'max_iter': 1000},\n",
       "  {'C': 50, 'gamma': 1, 'max_iter': 10000},\n",
       "  {'C': 50, 'gamma': 10, 'max_iter': 1000},\n",
       "  {'C': 50, 'gamma': 10, 'max_iter': 10000},\n",
       "  {'C': 100, 'gamma': 0.001, 'max_iter': 1000},\n",
       "  {'C': 100, 'gamma': 0.001, 'max_iter': 10000},\n",
       "  {'C': 100, 'gamma': 0.01, 'max_iter': 1000},\n",
       "  {'C': 100, 'gamma': 0.01, 'max_iter': 10000},\n",
       "  {'C': 100, 'gamma': 0.1, 'max_iter': 1000},\n",
       "  {'C': 100, 'gamma': 0.1, 'max_iter': 10000},\n",
       "  {'C': 100, 'gamma': 0.5, 'max_iter': 1000},\n",
       "  {'C': 100, 'gamma': 0.5, 'max_iter': 10000},\n",
       "  {'C': 100, 'gamma': 1, 'max_iter': 1000},\n",
       "  {'C': 100, 'gamma': 1, 'max_iter': 10000},\n",
       "  {'C': 100, 'gamma': 10, 'max_iter': 1000},\n",
       "  {'C': 100, 'gamma': 10, 'max_iter': 10000},\n",
       "  {'C': 1000, 'gamma': 0.001, 'max_iter': 1000},\n",
       "  {'C': 1000, 'gamma': 0.001, 'max_iter': 10000},\n",
       "  {'C': 1000, 'gamma': 0.01, 'max_iter': 1000},\n",
       "  {'C': 1000, 'gamma': 0.01, 'max_iter': 10000},\n",
       "  {'C': 1000, 'gamma': 0.1, 'max_iter': 1000},\n",
       "  {'C': 1000, 'gamma': 0.1, 'max_iter': 10000},\n",
       "  {'C': 1000, 'gamma': 0.5, 'max_iter': 1000},\n",
       "  {'C': 1000, 'gamma': 0.5, 'max_iter': 10000},\n",
       "  {'C': 1000, 'gamma': 1, 'max_iter': 1000},\n",
       "  {'C': 1000, 'gamma': 1, 'max_iter': 10000},\n",
       "  {'C': 1000, 'gamma': 10, 'max_iter': 1000},\n",
       "  {'C': 1000, 'gamma': 10, 'max_iter': 10000}],\n",
       " 'split0_test_score': array([0.91878173, 0.80203046, 0.91878173, 0.80203046, 0.91878173,\n",
       "        0.80406091, 0.94873096, 0.94873096, 0.95888325, 0.95888325,\n",
       "        0.91675127, 0.96598985, 0.91878173, 0.80203046, 0.91878173,\n",
       "        0.80203046, 0.91878173, 0.87208122, 0.95939086, 0.95939086,\n",
       "        0.96446701, 0.96446701, 0.84010152, 0.93959391, 0.91878173,\n",
       "        0.80203046, 0.91878173, 0.80203046, 0.94213198, 0.94213198,\n",
       "        0.96446701, 0.96446701, 0.96598985, 0.96548223, 0.42385787,\n",
       "        0.4715736 , 0.91878173, 0.80203046, 0.91878173, 0.80304569,\n",
       "        0.95380711, 0.95380711, 0.96649746, 0.96700508, 0.45025381,\n",
       "        0.96700508, 0.42385787, 0.52944162, 0.91878173, 0.80203046,\n",
       "        0.91878173, 0.80406091, 0.95888325, 0.95888325, 0.96649746,\n",
       "        0.96649746, 0.47563452, 0.96649746, 0.42385787, 0.52944162,\n",
       "        0.91878173, 0.80203046, 0.91878173, 0.87208122, 0.96446701,\n",
       "        0.96446701, 0.75888325, 0.96548223, 0.86040609, 0.93045685,\n",
       "        0.42385787, 0.52944162, 0.91878173, 0.80203046, 0.94771574,\n",
       "        0.9284264 , 0.96649746, 0.96649746, 0.9319797 , 0.95888325,\n",
       "        0.92436548, 0.32639594, 0.42385787, 0.52944162, 0.91878173,\n",
       "        0.80203046, 0.94213198, 0.94213198, 0.96548223, 0.96548223,\n",
       "        0.65431472, 0.81573604, 0.92436548, 0.42893401, 0.42385787,\n",
       "        0.52944162, 0.91878173, 0.80406091, 0.95888325, 0.95888325,\n",
       "        0.46751269, 0.96649746, 0.92436548, 0.8751269 , 0.92436548,\n",
       "        0.42690355, 0.42385787, 0.52944162]),\n",
       " 'split1_test_score': array([0.93654822, 0.80203046, 0.93654822, 0.80203046, 0.93654822,\n",
       "        0.80609137, 0.93451777, 0.93451777, 0.95431472, 0.95431472,\n",
       "        0.48477157, 0.96548223, 0.93654822, 0.80203046, 0.93654822,\n",
       "        0.80203046, 0.93654822, 0.86852792, 0.95431472, 0.95431472,\n",
       "        0.96243655, 0.96243655, 0.45583756, 0.93502538, 0.93654822,\n",
       "        0.80203046, 0.93654822, 0.80203046, 0.9319797 , 0.9319797 ,\n",
       "        0.96294416, 0.96294416, 0.96446701, 0.96446701, 0.43807107,\n",
       "        0.65786802, 0.93654822, 0.80203046, 0.93654822, 0.80253807,\n",
       "        0.94873096, 0.94873096, 0.96395939, 0.96497462, 0.93147208,\n",
       "        0.96497462, 0.43807107, 0.75685279, 0.93654822, 0.80203046,\n",
       "        0.93654822, 0.80609137, 0.95431472, 0.95431472, 0.96497462,\n",
       "        0.96395939, 0.87461929, 0.96548223, 0.43807107, 0.75685279,\n",
       "        0.93654822, 0.80203046, 0.93654822, 0.86852792, 0.96243655,\n",
       "        0.96243655, 0.47005076, 0.96598985, 0.94974619, 0.9284264 ,\n",
       "        0.43807107, 0.75685279, 0.93654822, 0.80203046, 0.93604061,\n",
       "        0.91827411, 0.96497462, 0.96497462, 0.43147208, 0.96142132,\n",
       "        0.74060914, 0.4142132 , 0.43807107, 0.75685279, 0.93654822,\n",
       "        0.80203046, 0.93147208, 0.93147208, 0.96497462, 0.96446701,\n",
       "        0.92994924, 0.95532995, 0.74060914, 0.91116751, 0.43807107,\n",
       "        0.75685279, 0.93654822, 0.80609137, 0.95431472, 0.95431472,\n",
       "        0.46345178, 0.96548223, 0.74060914, 0.93959391, 0.74060914,\n",
       "        0.38984772, 0.43807107, 0.75685279]),\n",
       " 'split2_test_score': array([0.90761421, 0.80203046, 0.90761421, 0.80203046, 0.90761421,\n",
       "        0.80456853, 0.94873096, 0.94873096, 0.96294416, 0.96294416,\n",
       "        0.44162437, 0.96700508, 0.90761421, 0.80203046, 0.90761421,\n",
       "        0.80203046, 0.90761421, 0.87664975, 0.96395939, 0.96395939,\n",
       "        0.96649746, 0.96649746, 0.47106599, 0.92081218, 0.90761421,\n",
       "        0.80203046, 0.90761421, 0.80203046, 0.94771574, 0.94771574,\n",
       "        0.96751269, 0.96751269, 0.96852792, 0.9680203 , 0.38680203,\n",
       "        0.39746193, 0.90761421, 0.80203046, 0.90761421, 0.80253807,\n",
       "        0.96345178, 0.96345178, 0.96751269, 0.96751269, 0.89340102,\n",
       "        0.9680203 , 0.38680203, 0.89390863, 0.90761421, 0.80203046,\n",
       "        0.90761421, 0.80456853, 0.96294416, 0.96294416, 0.97055838,\n",
       "        0.96852792, 0.82639594, 0.96700508, 0.38680203, 0.89390863,\n",
       "        0.90761421, 0.80203046, 0.90761421, 0.87664975, 0.96649746,\n",
       "        0.96649746, 0.44619289, 0.96700508, 0.43857868, 0.3715736 ,\n",
       "        0.38680203, 0.89390863, 0.90761421, 0.80203046, 0.95989848,\n",
       "        0.92994924, 0.96700508, 0.96700508, 0.46598985, 0.96091371,\n",
       "        0.48324873, 0.53705584, 0.38680203, 0.89390863, 0.90761421,\n",
       "        0.80203046, 0.94771574, 0.94771574, 0.96852792, 0.9680203 ,\n",
       "        0.89238579, 0.42182741, 0.48324873, 0.3822335 , 0.38680203,\n",
       "        0.89390863, 0.90761421, 0.80456853, 0.96294416, 0.96294416,\n",
       "        0.43756345, 0.96700508, 0.48324873, 0.86243655, 0.48324873,\n",
       "        0.55076142, 0.38680203, 0.89390863]),\n",
       " 'split3_test_score': array([0.92436548, 0.80203046, 0.92436548, 0.80203046, 0.92436548,\n",
       "        0.8035533 , 0.94923858, 0.94923858, 0.96598985, 0.96598985,\n",
       "        0.61878173, 0.96751269, 0.92436548, 0.80203046, 0.92436548,\n",
       "        0.80203046, 0.92436548, 0.86649746, 0.9680203 , 0.9680203 ,\n",
       "        0.96598985, 0.96598985, 0.39035533, 0.9142132 , 0.92436548,\n",
       "        0.80203046, 0.92436548, 0.80203046, 0.94365482, 0.94365482,\n",
       "        0.96751269, 0.96751269, 0.97055838, 0.97005076, 0.95989848,\n",
       "        0.87715736, 0.92436548, 0.80203046, 0.92436548, 0.80253807,\n",
       "        0.96192893, 0.96192893, 0.97005076, 0.97005076, 0.84060914,\n",
       "        0.96903553, 0.95989848, 0.94365482, 0.92436548, 0.80203046,\n",
       "        0.92436548, 0.8035533 , 0.96598985, 0.96598985, 0.97005076,\n",
       "        0.97005076, 0.42182741, 0.96751269, 0.95989848, 0.94365482,\n",
       "        0.92436548, 0.80203046, 0.92436548, 0.86649746, 0.96598985,\n",
       "        0.96598985, 0.95279188, 0.9680203 , 0.61675127, 0.92944162,\n",
       "        0.95989848, 0.94365482, 0.92436548, 0.80203046, 0.95380711,\n",
       "        0.9213198 , 0.97005076, 0.97005076, 0.42233503, 0.96649746,\n",
       "        0.34467005, 0.80812183, 0.95989848, 0.94365482, 0.92436548,\n",
       "        0.80203046, 0.94365482, 0.94365482, 0.97005076, 0.97005076,\n",
       "        0.91979695, 0.88680203, 0.34467005, 0.3751269 , 0.95989848,\n",
       "        0.94365482, 0.92436548, 0.8035533 , 0.96598985, 0.96598985,\n",
       "        0.44974619, 0.96751269, 0.34467005, 0.70812183, 0.34467005,\n",
       "        0.7822335 , 0.95989848, 0.94365482]),\n",
       " 'split4_test_score': array([0.9238192 , 0.80192991, 0.9238192 , 0.80192991, 0.9238192 ,\n",
       "        0.80294566, 0.93956323, 0.93956323, 0.95937024, 0.95937024,\n",
       "        0.48958862, 0.9710513 , 0.9238192 , 0.80192991, 0.9238192 ,\n",
       "        0.80192991, 0.9238192 , 0.85931945, 0.95987811, 0.95987811,\n",
       "        0.96851193, 0.96851193, 0.46673438, 0.94768918, 0.9238192 ,\n",
       "        0.80192991, 0.9238192 , 0.80192991, 0.93296089, 0.93296089,\n",
       "        0.96901981, 0.96901981, 0.97155917, 0.97155917, 0.87150838,\n",
       "        0.48908075, 0.9238192 , 0.80192991, 0.9238192 , 0.80192991,\n",
       "        0.95226003, 0.95226003, 0.97155917, 0.97155917, 0.92178771,\n",
       "        0.97054342, 0.87150838, 0.85830371, 0.9238192 , 0.80192991,\n",
       "        0.9238192 , 0.80294566, 0.95937024, 0.95937024, 0.97003555,\n",
       "        0.97155917, 0.6642966 , 0.97155917, 0.87150838, 0.85830371,\n",
       "        0.9238192 , 0.80192991, 0.92331133, 0.85931945, 0.96851193,\n",
       "        0.96851193, 0.45251397, 0.97054342, 0.50939563, 0.94311833,\n",
       "        0.87150838, 0.85830371, 0.9238192 , 0.80192991, 0.94159472,\n",
       "        0.91772473, 0.97155917, 0.97155917, 0.72981209, 0.95733875,\n",
       "        0.92331133, 0.38242763, 0.87150838, 0.85830371, 0.9238192 ,\n",
       "        0.80192991, 0.93296089, 0.93296089, 0.97054342, 0.97155917,\n",
       "        0.46775013, 0.93499238, 0.92331133, 0.9238192 , 0.87150838,\n",
       "        0.85830371, 0.9238192 , 0.80294566, 0.95937024, 0.95937024,\n",
       "        0.89537836, 0.9710513 , 0.92331133, 0.90248857, 0.92331133,\n",
       "        0.35906552, 0.87150838, 0.85830371]),\n",
       " 'mean_test_score': array([0.92222561, 0.80201036, 0.92222561, 0.80201036, 0.92222561,\n",
       "        0.80424409, 0.94415677, 0.94415677, 0.96030054, 0.96030054,\n",
       "        0.59031374, 0.96740786, 0.92222561, 0.80201036, 0.92222561,\n",
       "        0.80201036, 0.92222561, 0.8686161 , 0.9611128 , 0.9611128 ,\n",
       "        0.96558026, 0.96558026, 0.52482486, 0.93146512, 0.92222561,\n",
       "        0.80201036, 0.92222561, 0.80201036, 0.93968931, 0.93968931,\n",
       "        0.96629099, 0.96629099, 0.96822012, 0.96791552, 0.61600162,\n",
       "        0.57863743, 0.92222561, 0.80201036, 0.92222561, 0.80251802,\n",
       "        0.95603615, 0.95603615, 0.96791552, 0.96822012, 0.80749315,\n",
       "        0.96791552, 0.61600162, 0.79642603, 0.92222561, 0.80201036,\n",
       "        0.92222561, 0.80424409, 0.96030054, 0.96030054, 0.96842319,\n",
       "        0.96811859, 0.65255356, 0.96761092, 0.61600162, 0.79642603,\n",
       "        0.92222561, 0.80201036, 0.92212407, 0.8686161 , 0.96558026,\n",
       "        0.96558026, 0.61610316, 0.96740786, 0.67499239, 0.82059092,\n",
       "        0.61600162, 0.79642603, 0.92222561, 0.80201036, 0.94781196,\n",
       "        0.92313941, 0.96801706, 0.96801706, 0.59630419, 0.96101127,\n",
       "        0.68321657, 0.49365418, 0.61600162, 0.79642603, 0.92222561,\n",
       "        0.80201036, 0.93958778, 0.93958778, 0.96791552, 0.96791552,\n",
       "        0.77287034, 0.80292415, 0.68321657, 0.60422378, 0.61600162,\n",
       "        0.79642603, 0.92222561, 0.80424409, 0.96030054, 0.96030054,\n",
       "        0.54269469, 0.96750939, 0.68321657, 0.85754899, 0.68321657,\n",
       "        0.50177683, 0.61600162, 0.79642603]),\n",
       " 'std_test_score': array([9.35577067e-03, 4.02111500e-05, 9.35577067e-03, 4.02111500e-05,\n",
       "        9.35577067e-03, 1.06902771e-03, 6.02810122e-03, 6.02810122e-03,\n",
       "        3.95142138e-03, 3.95142138e-03, 1.73652107e-01, 1.95764382e-03,\n",
       "        9.35577067e-03, 4.02111500e-05, 9.35577067e-03, 4.02111500e-05,\n",
       "        9.35577067e-03, 5.78694600e-03, 4.61584544e-03, 4.61584544e-03,\n",
       "        2.03586547e-03, 2.03586547e-03, 1.60322506e-01, 1.22721602e-02,\n",
       "        9.35577067e-03, 4.02111500e-05, 9.35577067e-03, 4.02111500e-05,\n",
       "        6.17772727e-03, 6.17772727e-03, 2.23421017e-03, 2.23421017e-03,\n",
       "        2.67467280e-03, 2.67044637e-03, 2.46843067e-01, 1.71877970e-01,\n",
       "        9.35577067e-03, 4.02111500e-05, 9.35577067e-03, 3.53664748e-04,\n",
       "        5.69770325e-03, 5.69770325e-03, 2.67044637e-03, 2.32411828e-03,\n",
       "        1.81406104e-01, 1.87868968e-03, 2.46843067e-01, 1.46876644e-01,\n",
       "        9.35577067e-03, 4.02111500e-05, 9.35577067e-03, 1.06902771e-03,\n",
       "        3.95142138e-03, 3.95142138e-03, 2.25433108e-03, 2.67069326e-03,\n",
       "        1.81231215e-01, 2.08474167e-03, 2.46843067e-01, 1.46876644e-01,\n",
       "        9.35577067e-03, 4.02111500e-05, 9.34066899e-03, 5.78694600e-03,\n",
       "        2.03586547e-03, 2.03586547e-03, 2.05287837e-01, 1.79357282e-03,\n",
       "        1.98282469e-01, 2.24586281e-01, 2.46843067e-01, 1.46876644e-01,\n",
       "        9.35577067e-03, 4.02111500e-05, 8.47668083e-03, 5.11126612e-03,\n",
       "        2.41945456e-03, 2.41945456e-03, 2.02450430e-01, 3.10772877e-03,\n",
       "        2.33962220e-01, 1.71720604e-01, 2.46843067e-01, 1.46876644e-01,\n",
       "        9.35577067e-03, 4.02111500e-05, 6.30643382e-03, 6.30643382e-03,\n",
       "        2.29822185e-03, 2.67044637e-03, 1.83122197e-01, 1.96527181e-01,\n",
       "        2.33962220e-01, 2.56448352e-01, 2.46843067e-01, 1.46876644e-01,\n",
       "        9.35577067e-03, 1.06902771e-03, 3.95142138e-03, 3.95142138e-03,\n",
       "        1.76613839e-01, 1.89358120e-03, 2.33962220e-01, 7.92646795e-02,\n",
       "        2.33962220e-01, 1.54633689e-01, 2.46843067e-01, 1.46876644e-01]),\n",
       " 'rank_test_score': array([ 42,  69,  42,  69,  42,  64,  34,  34,  25,  25, 103,  14,  42,\n",
       "         69,  42,  69,  42,  59,  22,  22,  18,  18, 106,  40,  42,  69,\n",
       "         42,  69,  36,  36,  16,  16,   2,   7,  94, 104,  42,  69,  42,\n",
       "         68,  31,  31,   7,   2,  63,   7,  94,  80,  42,  69,  42,  64,\n",
       "         25,  25,   1,   4,  92,  12,  94,  80,  42,  69,  58,  59,  18,\n",
       "         18,  93,  14,  91,  62,  94,  80,  42,  69,  33,  41,   5,   5,\n",
       "        102,  24,  87, 108,  94,  80,  42,  69,  38,  38,   7,   7,  86,\n",
       "         67,  87, 101,  94,  80,  42,  64,  25,  25, 105,  13,  87,  61,\n",
       "         87, 107,  94,  80]),\n",
       " 'split0_train_score': array([0.91813682, 0.80200533, 0.91813682, 0.80200533, 0.91813682,\n",
       "        0.80428988, 0.94415535, 0.94415535, 0.96217794, 0.96217794,\n",
       "        0.9192791 , 0.97220459, 0.91813682, 0.80200533, 0.91813682,\n",
       "        0.80200533, 0.91813682, 0.86660744, 0.9625587 , 0.9625587 ,\n",
       "        0.96852392, 0.96852392, 0.85746922, 0.94098236, 0.91813682,\n",
       "        0.80200533, 0.91813682, 0.80200533, 0.94022084, 0.94022084,\n",
       "        0.96890468, 0.96890468, 0.97182384, 0.97169692, 0.44066506,\n",
       "        0.491306  , 0.91813682, 0.80200533, 0.91813682, 0.80238609,\n",
       "        0.95925879, 0.95925879, 0.97080848, 0.97118924, 0.47226805,\n",
       "        0.97245843, 0.44066506, 0.55336972, 0.91813682, 0.80200533,\n",
       "        0.91813682, 0.80428988, 0.96217794, 0.96217794, 0.97207767,\n",
       "        0.97169692, 0.49029065, 0.97233151, 0.44066506, 0.55336972,\n",
       "        0.91813682, 0.80200533, 0.91813682, 0.86660744, 0.96852392,\n",
       "        0.96852392, 0.7849981 , 0.97258535, 0.87257266, 0.9412362 ,\n",
       "        0.44066506, 0.55336972, 0.91813682, 0.80200533, 0.94415535,\n",
       "        0.92257901, 0.97042772, 0.97042772, 0.93311334, 0.96649321,\n",
       "        0.92410204, 0.35042518, 0.44066506, 0.55336972, 0.91813682,\n",
       "        0.80200533, 0.94022084, 0.94022084, 0.97157   , 0.97169692,\n",
       "        0.67648179, 0.83145069, 0.92410204, 0.44079198, 0.44066506,\n",
       "        0.55336972, 0.91813682, 0.80428988, 0.96217794, 0.96217794,\n",
       "        0.48445234, 0.97220459, 0.92410204, 0.87231882, 0.92410204,\n",
       "        0.45272243, 0.44066506, 0.55336972]),\n",
       " 'split1_train_score': array([0.92625968, 0.80200533, 0.92625968, 0.80200533, 0.92625968,\n",
       "        0.80365529, 0.94605914, 0.94605914, 0.96141642, 0.96141642,\n",
       "        0.46947582, 0.97220459, 0.92625968, 0.80200533, 0.92625968,\n",
       "        0.80200533, 0.9263866 , 0.86990735, 0.96205102, 0.96205102,\n",
       "        0.96776241, 0.96776241, 0.4415535 , 0.92765579, 0.92625968,\n",
       "        0.80200533, 0.92625968, 0.80200533, 0.94098236, 0.94098236,\n",
       "        0.96738165, 0.96738165, 0.97106232, 0.97118924, 0.42924229,\n",
       "        0.64513263, 0.92625968, 0.80200533, 0.92625968, 0.80251301,\n",
       "        0.95748191, 0.95748191, 0.97042772, 0.97017388, 0.92473664,\n",
       "        0.97245843, 0.42924229, 0.73905318, 0.92625968, 0.80200533,\n",
       "        0.92625968, 0.80365529, 0.96141642, 0.96141642, 0.97157   ,\n",
       "        0.9709354 , 0.86533824, 0.97182384, 0.42924229, 0.73905318,\n",
       "        0.92625968, 0.80200533, 0.9263866 , 0.86990735, 0.96776241,\n",
       "        0.96776241, 0.45424546, 0.97233151, 0.94808986, 0.92816347,\n",
       "        0.42924229, 0.73905318, 0.92625968, 0.80200533, 0.94745526,\n",
       "        0.92486356, 0.96979312, 0.96979312, 0.42213479, 0.96522401,\n",
       "        0.71976139, 0.4022084 , 0.42924229, 0.73905318, 0.92625968,\n",
       "        0.80200533, 0.94085544, 0.94085544, 0.97068156, 0.97118924,\n",
       "        0.91547151, 0.95265897, 0.71976139, 0.91001396, 0.42924229,\n",
       "        0.73905318, 0.92625968, 0.80365529, 0.96141642, 0.96141642,\n",
       "        0.45221475, 0.97233151, 0.71976139, 0.939967  , 0.71976139,\n",
       "        0.36984389, 0.42924229, 0.73905318]),\n",
       " 'split2_train_score': array([0.93032111, 0.80200533, 0.93032111, 0.80200533, 0.93032111,\n",
       "        0.80403605, 0.94415535, 0.94415535, 0.96040107, 0.96040107,\n",
       "        0.44815332, 0.97195076, 0.93032111, 0.80200533, 0.93032111,\n",
       "        0.80200533, 0.93019419, 0.86660744, 0.9612895 , 0.9612895 ,\n",
       "        0.96776241, 0.96776241, 0.47404493, 0.93615941, 0.93032111,\n",
       "        0.80200533, 0.93032111, 0.80200533, 0.93958624, 0.93958624,\n",
       "        0.96814317, 0.96814317, 0.9703008 , 0.96941236, 0.39814697,\n",
       "        0.4047468 , 0.93032111, 0.80200533, 0.93032111, 0.80251301,\n",
       "        0.95697424, 0.95697424, 0.96928544, 0.96941236, 0.90138342,\n",
       "        0.97169692, 0.39814697, 0.90646021, 0.93032111, 0.80200533,\n",
       "        0.93032111, 0.80403605, 0.96040107, 0.96040107, 0.97042772,\n",
       "        0.96979312, 0.82612007, 0.97195076, 0.39814697, 0.90646021,\n",
       "        0.93032111, 0.80200533, 0.93019419, 0.86660744, 0.96776241,\n",
       "        0.96776241, 0.448661  , 0.97195076, 0.43736515, 0.38532809,\n",
       "        0.39814697, 0.90646021, 0.93032111, 0.80200533, 0.96002031,\n",
       "        0.92295977, 0.96890468, 0.96890468, 0.46884122, 0.96623937,\n",
       "        0.48280239, 0.53623556, 0.39814697, 0.90646021, 0.93032111,\n",
       "        0.80200533, 0.93958624, 0.93958624, 0.96953928, 0.96941236,\n",
       "        0.90227186, 0.43520751, 0.48280239, 0.39129331, 0.39814697,\n",
       "        0.90646021, 0.93032111, 0.80403605, 0.96040107, 0.96040107,\n",
       "        0.44193426, 0.97195076, 0.48280239, 0.86216525, 0.48280239,\n",
       "        0.55425815, 0.39814697, 0.90646021]),\n",
       " 'split3_train_score': array([0.9251174 , 0.80200533, 0.9251174 , 0.80200533, 0.9251174 ,\n",
       "        0.8044168 , 0.94364767, 0.94364767, 0.95837035, 0.95837035,\n",
       "        0.61924102, 0.97182384, 0.9251174 , 0.80200533, 0.9251174 ,\n",
       "        0.80200533, 0.9251174 , 0.86914583, 0.95976647, 0.95976647,\n",
       "        0.96700089, 0.96700089, 0.38266277, 0.91978677, 0.9251174 ,\n",
       "        0.80200533, 0.9251174 , 0.80200533, 0.93882472, 0.93882472,\n",
       "        0.96801625, 0.96801625, 0.97004696, 0.96979312, 0.95316665,\n",
       "        0.87980708, 0.9251174 , 0.80200533, 0.9251174 , 0.80251301,\n",
       "        0.95468968, 0.95468968, 0.96979312, 0.96953928, 0.84261962,\n",
       "        0.97144308, 0.95316665, 0.94656682, 0.9251174 , 0.80200533,\n",
       "        0.9251174 , 0.8044168 , 0.95837035, 0.95837035, 0.9703008 ,\n",
       "        0.97004696, 0.42188095, 0.97195076, 0.95316665, 0.94656682,\n",
       "        0.9251174 , 0.80200533, 0.9251174 , 0.86914583, 0.96700089,\n",
       "        0.96700089, 0.95037441, 0.97182384, 0.61467191, 0.93247874,\n",
       "        0.95316665, 0.94656682, 0.9251174 , 0.80200533, 0.94440919,\n",
       "        0.92422896, 0.9696662 , 0.9696662 , 0.42289631, 0.96763549,\n",
       "        0.3421754 , 0.8075898 , 0.95316665, 0.94656682, 0.9251174 ,\n",
       "        0.80200533, 0.93882472, 0.93882472, 0.96979312, 0.96979312,\n",
       "        0.92067521, 0.88209164, 0.3421754 , 0.37631679, 0.95316665,\n",
       "        0.94656682, 0.9251174 , 0.8044168 , 0.95837035, 0.95837035,\n",
       "        0.44688412, 0.97195076, 0.3421754 , 0.71443077, 0.3421754 ,\n",
       "        0.78207894, 0.95316665, 0.94656682]),\n",
       " 'split4_train_score': array([0.91370558, 0.80203046, 0.91294416, 0.80203046, 0.91370558,\n",
       "        0.80469543, 0.94390863, 0.94390863, 0.95939086, 0.95939086,\n",
       "        0.49060914, 0.97081218, 0.91370558, 0.80203046, 0.91294416,\n",
       "        0.80203046, 0.91370558, 0.87093909, 0.96091371, 0.96091371,\n",
       "        0.96675127, 0.96675127, 0.46725888, 0.94961929, 0.91370558,\n",
       "        0.80203046, 0.91294416, 0.80203046, 0.93946701, 0.93946701,\n",
       "        0.96662437, 0.96662437, 0.96903553, 0.96890863, 0.86154822,\n",
       "        0.48895939, 0.91370558, 0.80203046, 0.91294416, 0.80266497,\n",
       "        0.95647208, 0.95647208, 0.96840102, 0.96814721, 0.91154822,\n",
       "        0.97068528, 0.86154822, 0.86027919, 0.91370558, 0.80203046,\n",
       "        0.91294416, 0.80469543, 0.95951777, 0.95951777, 0.97005076,\n",
       "        0.96967005, 0.65164975, 0.97055838, 0.86154822, 0.86027919,\n",
       "        0.91370558, 0.80203046, 0.91243655, 0.87093909, 0.96675127,\n",
       "        0.96675127, 0.45139594, 0.97093909, 0.50774112, 0.94060914,\n",
       "        0.86154822, 0.86027919, 0.91370558, 0.80203046, 0.9465736 ,\n",
       "        0.92474619, 0.9680203 , 0.9678934 , 0.73375635, 0.96751269,\n",
       "        0.91751269, 0.37791878, 0.86154822, 0.86027919, 0.91370558,\n",
       "        0.80203046, 0.93946701, 0.93946701, 0.96941624, 0.96890863,\n",
       "        0.47474619, 0.93489848, 0.91751269, 0.92309645, 0.86154822,\n",
       "        0.86027919, 0.91370558, 0.80469543, 0.95939086, 0.95939086,\n",
       "        0.89035533, 0.97093909, 0.91751269, 0.90304569, 0.91751269,\n",
       "        0.34885787, 0.86154822, 0.86027919]),\n",
       " 'mean_train_score': array([0.92270812, 0.80201036, 0.92255583, 0.80201036, 0.92270812,\n",
       "        0.80421869, 0.94438523, 0.94438523, 0.96035133, 0.96035133,\n",
       "        0.58935168, 0.97179919, 0.92270812, 0.80201036, 0.92255583,\n",
       "        0.80201036, 0.92270812, 0.86864143, 0.96131588, 0.96131588,\n",
       "        0.96756018, 0.96756018, 0.52459786, 0.93484073, 0.92270812,\n",
       "        0.80201036, 0.92255583, 0.80201036, 0.93981623, 0.93981623,\n",
       "        0.96781402, 0.96781402, 0.97045389, 0.97020005, 0.61655384,\n",
       "        0.58199038, 0.92270812, 0.80201036, 0.92255583, 0.80251802,\n",
       "        0.95697534, 0.95697534, 0.96974316, 0.96969239, 0.81051119,\n",
       "        0.97174843, 0.61655384, 0.80114582, 0.92270812, 0.80201036,\n",
       "        0.92255583, 0.80421869, 0.96037671, 0.96037671, 0.97088539,\n",
       "        0.97042849, 0.65105593, 0.97172305, 0.61655384, 0.80114582,\n",
       "        0.92270812, 0.80201036, 0.92245431, 0.86864143, 0.96756018,\n",
       "        0.96756018, 0.61793498, 0.97192611, 0.67608814, 0.82556313,\n",
       "        0.61655384, 0.80114582, 0.92270812, 0.80201036, 0.94852274,\n",
       "        0.9238755 , 0.96936241, 0.96933703, 0.5961484 , 0.96662095,\n",
       "        0.67727078, 0.49487554, 0.61655384, 0.80114582, 0.92270812,\n",
       "        0.80201036, 0.93979085, 0.93979085, 0.97020004, 0.97020005,\n",
       "        0.77792931, 0.80726146, 0.67727078, 0.6083025 , 0.61655384,\n",
       "        0.80114582, 0.92270812, 0.80421869, 0.96035133, 0.96035133,\n",
       "        0.54316816, 0.97187534, 0.67727078, 0.8583855 , 0.67727078,\n",
       "        0.50155226, 0.61655384, 0.80114582]),\n",
       " 'std_train_score': array([5.97190439e-03, 1.00504908e-05, 6.20469923e-03, 1.00504908e-05,\n",
       "        5.97190439e-03, 3.52812493e-04, 8.57767012e-04, 8.57767012e-04,\n",
       "        1.36529698e-03, 1.36529698e-03, 1.75386864e-01, 5.15066663e-04,\n",
       "        5.97190439e-03, 1.00504908e-05, 6.20469923e-03, 1.00504908e-05,\n",
       "        5.95515704e-03, 1.75558797e-03, 9.64173613e-04, 9.64173613e-04,\n",
       "        6.28925785e-04, 6.28925785e-04, 1.69522055e-01, 1.03547979e-02,\n",
       "        5.97190439e-03, 1.00504908e-05, 6.20469923e-03, 1.00504908e-05,\n",
       "        7.32325220e-04, 7.32325220e-04, 7.66942286e-04, 7.66942286e-04,\n",
       "        9.43154267e-04, 1.06516754e-03, 2.39605705e-01, 1.67913931e-01,\n",
       "        5.97190439e-03, 1.00504908e-05, 6.20469923e-03, 8.84043116e-05,\n",
       "        1.47974748e-03, 1.47974748e-03, 8.50514959e-04, 9.96175591e-04,\n",
       "        1.71436909e-01, 6.68490078e-04, 2.39605705e-01, 1.42115191e-01,\n",
       "        5.97190439e-03, 1.00504908e-05, 6.20469923e-03, 3.52812493e-04,\n",
       "        1.34827962e-03, 1.34827962e-03, 7.92217404e-04, 7.73349674e-04,\n",
       "        1.76029180e-01, 6.06721025e-04, 2.39605705e-01, 1.42115191e-01,\n",
       "        5.97190439e-03, 1.00504908e-05, 6.34754927e-03, 1.75558797e-03,\n",
       "        6.28925785e-04, 6.28925785e-04, 2.10527553e-01, 5.62892127e-04,\n",
       "        2.00844439e-01, 2.20172893e-01, 2.39605705e-01, 1.42115191e-01,\n",
       "        5.97190439e-03, 1.00504908e-05, 5.88435372e-03, 9.35817103e-04,\n",
       "        8.27459434e-04, 8.69133365e-04, 2.04443371e-01, 8.87450119e-04,\n",
       "        2.32617354e-01, 1.68898103e-01, 2.39605705e-01, 1.42115191e-01,\n",
       "        5.97190439e-03, 1.00504908e-05, 6.92586431e-04, 6.92586431e-04,\n",
       "        8.15495131e-04, 1.06516754e-03, 1.77181783e-01, 1.90809044e-01,\n",
       "        2.32617354e-01, 2.52624293e-01, 2.39605705e-01, 1.42115191e-01,\n",
       "        5.97190439e-03, 3.52812493e-04, 1.36529698e-03, 1.36529698e-03,\n",
       "        1.74228540e-01, 4.90805313e-04, 2.32617354e-01, 7.69174402e-02,\n",
       "        2.32617354e-01, 1.57810112e-01, 2.39605705e-01, 1.42115191e-01])}"
      ]
     },
     "execution_count": 181,
     "metadata": {},
     "output_type": "execute_result"
    }
   ],
   "source": [
    "grid_search.cv_results_"
   ]
  },
  {
   "cell_type": "code",
   "execution_count": 182,
   "metadata": {},
   "outputs": [
    {
     "data": {
      "text/plain": [
       "{'C': 1, 'gamma': 0.5, 'max_iter': 1000}"
      ]
     },
     "execution_count": 182,
     "metadata": {},
     "output_type": "execute_result"
    }
   ],
   "source": [
    "grid_search.best_params_"
   ]
  },
  {
   "cell_type": "code",
   "execution_count": 183,
   "metadata": {},
   "outputs": [
    {
     "data": {
      "text/plain": [
       "0.9684231901715911"
      ]
     },
     "execution_count": 183,
     "metadata": {},
     "output_type": "execute_result"
    }
   ],
   "source": [
    "grid_search.best_score_"
   ]
  },
  {
   "cell_type": "code",
   "execution_count": 185,
   "metadata": {},
   "outputs": [
    {
     "data": {
      "text/html": [
       "<div>\n",
       "<style scoped>\n",
       "    .dataframe tbody tr th:only-of-type {\n",
       "        vertical-align: middle;\n",
       "    }\n",
       "\n",
       "    .dataframe tbody tr th {\n",
       "        vertical-align: top;\n",
       "    }\n",
       "\n",
       "    .dataframe thead th {\n",
       "        text-align: right;\n",
       "    }\n",
       "</style>\n",
       "<table border=\"1\" class=\"dataframe\">\n",
       "  <thead>\n",
       "    <tr style=\"text-align: right;\">\n",
       "      <th></th>\n",
       "      <th>model</th>\n",
       "      <th>train roc_auc</th>\n",
       "      <th>test roc_auc</th>\n",
       "      <th>train accuracy</th>\n",
       "      <th>test accuracy</th>\n",
       "    </tr>\n",
       "  </thead>\n",
       "  <tbody>\n",
       "    <tr>\n",
       "      <th>0</th>\n",
       "      <td>K Neighbors Classifier</td>\n",
       "      <td>0.955902</td>\n",
       "      <td>0.930112</td>\n",
       "      <td>0.976038</td>\n",
       "      <td>0.962577</td>\n",
       "    </tr>\n",
       "    <tr>\n",
       "      <th>1</th>\n",
       "      <td>Linear SVM</td>\n",
       "      <td>0.949074</td>\n",
       "      <td>0.941717</td>\n",
       "      <td>0.970352</td>\n",
       "      <td>0.967551</td>\n",
       "    </tr>\n",
       "    <tr>\n",
       "      <th>2</th>\n",
       "      <td>Logistic Regression</td>\n",
       "      <td>0.935908</td>\n",
       "      <td>0.931878</td>\n",
       "      <td>0.967509</td>\n",
       "      <td>0.966840</td>\n",
       "    </tr>\n",
       "    <tr>\n",
       "      <th>3</th>\n",
       "      <td>Polynomial SVM</td>\n",
       "      <td>0.955124</td>\n",
       "      <td>0.945907</td>\n",
       "      <td>0.970454</td>\n",
       "      <td>0.964946</td>\n",
       "    </tr>\n",
       "  </tbody>\n",
       "</table>\n",
       "</div>"
      ],
      "text/plain": [
       "                    model  train roc_auc  test roc_auc  train accuracy  \\\n",
       "0  K Neighbors Classifier       0.955902      0.930112        0.976038   \n",
       "1              Linear SVM       0.949074      0.941717        0.970352   \n",
       "2     Logistic Regression       0.935908      0.931878        0.967509   \n",
       "3          Polynomial SVM       0.955124      0.945907        0.970454   \n",
       "\n",
       "   test accuracy  \n",
       "0       0.962577  \n",
       "1       0.967551  \n",
       "2       0.966840  \n",
       "3       0.964946  "
      ]
     },
     "execution_count": 185,
     "metadata": {},
     "output_type": "execute_result"
    }
   ],
   "source": [
    "svc = SVC(C = 1, max_iter = 1000, gamma = 0.5, kernel = 'poly', random_state = 0)\n",
    "svc.fit(X_train, y_train)\n",
    "predict_test = svc.predict(X_test)\n",
    "predict_train = svc.predict(X_train)\n",
    "train_roc_auc = roc_auc_score(y_train, predict_train)\n",
    "test_roc_auc = roc_auc_score(y_test, predict_test)\n",
    "train_accuracy = accuracy_score(y_train, predict_train)\n",
    "test_accuracy = accuracy_score(y_test, predict_test)\n",
    "\n",
    "classification_result = classification_result.append(pd.Series({'model':'Polynomial SVM','train roc_auc':train_roc_auc,'test roc_auc':test_roc_auc, 'train accuracy': train_accuracy, 'test accuracy': test_accuracy}),ignore_index=True)\n",
    "classification_result"
   ]
  },
  {
   "cell_type": "markdown",
   "metadata": {},
   "source": [
    "## RADIAL SVM"
   ]
  },
  {
   "cell_type": "code",
   "execution_count": null,
   "metadata": {},
   "outputs": [],
   "source": [
    "param_grid = {'C':[0.001, 0.01, 0.1, 0.5, 1, 10, 50, 100, 1000], 'max_iter':[1000,10000], 'gamma':[0.001, 0.01, 0.1, 0.5, 1, 10]}\n",
    "\n",
    "grid_search = GridSearchCV(SVC(random_state=0,kernel='rbf'), param_grid, cv=5, return_train_score=True)\n",
    "grid_search.fit(X_train, y_train)"
   ]
  },
  {
   "cell_type": "code",
   "execution_count": null,
   "metadata": {},
   "outputs": [],
   "source": [
    "grid_search.cv_results_"
   ]
  },
  {
   "cell_type": "code",
   "execution_count": 112,
   "metadata": {},
   "outputs": [
    {
     "data": {
      "text/plain": [
       "{'C': 100, 'gamma': 0.1, 'max_iter': 1000}"
      ]
     },
     "execution_count": 112,
     "metadata": {},
     "output_type": "execute_result"
    }
   ],
   "source": [
    "grid_search.best_params_"
   ]
  },
  {
   "cell_type": "code",
   "execution_count": 113,
   "metadata": {},
   "outputs": [
    {
     "data": {
      "text/plain": [
       "0.9552123552123553"
      ]
     },
     "execution_count": 113,
     "metadata": {},
     "output_type": "execute_result"
    }
   ],
   "source": [
    "grid_search.best_score_"
   ]
  },
  {
   "cell_type": "code",
   "execution_count": 114,
   "metadata": {},
   "outputs": [
    {
     "data": {
      "text/html": [
       "<div>\n",
       "<style scoped>\n",
       "    .dataframe tbody tr th:only-of-type {\n",
       "        vertical-align: middle;\n",
       "    }\n",
       "\n",
       "    .dataframe tbody tr th {\n",
       "        vertical-align: top;\n",
       "    }\n",
       "\n",
       "    .dataframe thead th {\n",
       "        text-align: right;\n",
       "    }\n",
       "</style>\n",
       "<table border=\"1\" class=\"dataframe\">\n",
       "  <thead>\n",
       "    <tr style=\"text-align: right;\">\n",
       "      <th></th>\n",
       "      <th>model</th>\n",
       "      <th>train roc_auc</th>\n",
       "      <th>test roc_auc</th>\n",
       "      <th>train accuracy</th>\n",
       "      <th>test accuracy</th>\n",
       "    </tr>\n",
       "  </thead>\n",
       "  <tbody>\n",
       "    <tr>\n",
       "      <th>0</th>\n",
       "      <td>K Neighbors Classifier</td>\n",
       "      <td>0.921906</td>\n",
       "      <td>0.922898</td>\n",
       "      <td>0.959073</td>\n",
       "      <td>0.955036</td>\n",
       "    </tr>\n",
       "    <tr>\n",
       "      <th>1</th>\n",
       "      <td>Linear SVM</td>\n",
       "      <td>0.929995</td>\n",
       "      <td>0.940442</td>\n",
       "      <td>0.962934</td>\n",
       "      <td>0.962230</td>\n",
       "    </tr>\n",
       "    <tr>\n",
       "      <th>2</th>\n",
       "      <td>Logistic Regression</td>\n",
       "      <td>0.890555</td>\n",
       "      <td>0.886818</td>\n",
       "      <td>0.947490</td>\n",
       "      <td>0.944245</td>\n",
       "    </tr>\n",
       "    <tr>\n",
       "      <th>3</th>\n",
       "      <td>Polynomial SVM</td>\n",
       "      <td>0.933797</td>\n",
       "      <td>0.928415</td>\n",
       "      <td>0.964479</td>\n",
       "      <td>0.958633</td>\n",
       "    </tr>\n",
       "    <tr>\n",
       "      <th>4</th>\n",
       "      <td>Radial SVM</td>\n",
       "      <td>0.931448</td>\n",
       "      <td>0.916389</td>\n",
       "      <td>0.965251</td>\n",
       "      <td>0.955036</td>\n",
       "    </tr>\n",
       "  </tbody>\n",
       "</table>\n",
       "</div>"
      ],
      "text/plain": [
       "                    model  train roc_auc  test roc_auc  train accuracy  \\\n",
       "0  K Neighbors Classifier       0.921906      0.922898        0.959073   \n",
       "1              Linear SVM       0.929995      0.940442        0.962934   \n",
       "2     Logistic Regression       0.890555      0.886818        0.947490   \n",
       "3          Polynomial SVM       0.933797      0.928415        0.964479   \n",
       "4              Radial SVM       0.931448      0.916389        0.965251   \n",
       "\n",
       "   test accuracy  \n",
       "0       0.955036  \n",
       "1       0.962230  \n",
       "2       0.944245  \n",
       "3       0.958633  \n",
       "4       0.955036  "
      ]
     },
     "execution_count": 114,
     "metadata": {},
     "output_type": "execute_result"
    }
   ],
   "source": [
    "svc = SVC(C = 100, max_iter = 1000, gamma = 0.1, kernel = 'rbf', random_state = 0)\n",
    "svc.fit(X_train, y_train)\n",
    "predict_test = svc.predict(X_test)\n",
    "predict_train = svc.predict(X_train)\n",
    "train_roc_auc = roc_auc_score(y_train, predict_train)\n",
    "test_roc_auc = roc_auc_score(y_test, predict_test)\n",
    "train_accuracy = accuracy_score(y_train, predict_train)\n",
    "test_accuracy = accuracy_score(y_test, predict_test)\n",
    "\n",
    "classification_results = classification_results.append(pd.Series({'model':'Radial SVM','train roc_auc':train_roc_auc,'test roc_auc':test_roc_auc, 'train accuracy': train_accuracy, 'test accuracy': test_accuracy}),ignore_index=True)\n",
    "classification_results"
   ]
  },
  {
   "cell_type": "markdown",
   "metadata": {},
   "source": [
    "## DECISION TREE CLASSIFIER"
   ]
  },
  {
   "cell_type": "code",
   "execution_count": 190,
   "metadata": {},
   "outputs": [
    {
     "data": {
      "text/plain": [
       "GridSearchCV(cv=5, error_score='raise',\n",
       "       estimator=DecisionTreeClassifier(class_weight=None, criterion='gini', max_depth=None,\n",
       "            max_features=None, max_leaf_nodes=None,\n",
       "            min_impurity_decrease=0.0, min_impurity_split=None,\n",
       "            min_samples_leaf=1, min_samples_split=2,\n",
       "            min_weight_fraction_leaf=0.0, presort=False, random_state=10,\n",
       "            splitter='best'),\n",
       "       fit_params=None, iid=True, n_jobs=1,\n",
       "       param_grid={'max_depth': [5, 10, 20, 50, 100]},\n",
       "       pre_dispatch='2*n_jobs', refit=True, return_train_score=True,\n",
       "       scoring=None, verbose=0)"
      ]
     },
     "execution_count": 190,
     "metadata": {},
     "output_type": "execute_result"
    }
   ],
   "source": [
    "from sklearn.tree import DecisionTreeClassifier\n",
    "dtc = DecisionTreeClassifier(random_state=10)\n",
    "param_grid = {'max_depth': [5, 10, 20, 50, 100]}\n",
    "\n",
    "grid_search = GridSearchCV(dtc, param_grid, cv = 5, return_train_score=True)\n",
    "grid_search.fit(X_train, y_train)"
   ]
  },
  {
   "cell_type": "code",
   "execution_count": 191,
   "metadata": {},
   "outputs": [
    {
     "data": {
      "text/plain": [
       "{'mean_fit_time': array([2.68828535, 5.19343076, 7.5341146 , 8.4768208 , 8.46947641]),\n",
       " 'std_fit_time': array([0.09499156, 0.17755106, 0.62829591, 0.29382737, 0.27973008]),\n",
       " 'mean_score_time': array([0.01419725, 0.01514297, 0.01504579, 0.01560054, 0.01438198]),\n",
       " 'std_score_time': array([1.80943653e-03, 1.65362148e-03, 2.38841890e-03, 2.34309066e-05,\n",
       "        3.09234038e-03]),\n",
       " 'param_max_depth': masked_array(data=[5, 10, 20, 50, 100],\n",
       "              mask=[False, False, False, False, False],\n",
       "        fill_value='?',\n",
       "             dtype=object),\n",
       " 'params': [{'max_depth': 5},\n",
       "  {'max_depth': 10},\n",
       "  {'max_depth': 20},\n",
       "  {'max_depth': 50},\n",
       "  {'max_depth': 100}],\n",
       " 'split0_test_score': array([0.96502538, 0.9613198 , 0.94928934, 0.94771574, 0.94771574]),\n",
       " 'split1_test_score': array([0.96542972, 0.96060714, 0.9512158 , 0.94730697, 0.94730697]),\n",
       " 'split2_test_score': array([0.96563277, 0.96147013, 0.95162191, 0.95101274, 0.95101274]),\n",
       " 'split3_test_score': array([0.96283887, 0.96024977, 0.95106102, 0.95004569, 0.95004569]),\n",
       " 'split4_test_score': array([0.9640065 , 0.96075744, 0.95161945, 0.94872576, 0.94872576]),\n",
       " 'mean_test_score': array([0.96458668, 0.96088087, 0.95096148, 0.94896136, 0.94896136]),\n",
       " 'std_test_score': array([0.00103816, 0.0004535 , 0.00086486, 0.00139486, 0.00139486]),\n",
       " 'rank_test_score': array([1, 2, 3, 4, 4]),\n",
       " 'split0_train_score': array([0.96671066, 0.97964312, 0.9973729 , 1.        , 1.        ]),\n",
       " 'split1_train_score': array([0.96682531, 0.97927533, 0.99738562, 1.        , 1.        ]),\n",
       " 'split2_train_score': array([0.96653341, 0.97980836, 0.99821055, 1.        , 1.        ]),\n",
       " 'split3_train_score': array([0.96666074, 0.98012589, 0.9985913 , 1.        , 1.        ]),\n",
       " 'split4_train_score': array([0.96732068, 0.98027819, 0.99807097, 1.        , 1.        ]),\n",
       " 'mean_train_score': array([0.96681016, 0.97982618, 0.99792627, 1.        , 1.        ]),\n",
       " 'std_train_score': array([0.00027191, 0.00035536, 0.00047802, 0.        , 0.        ])}"
      ]
     },
     "execution_count": 191,
     "metadata": {},
     "output_type": "execute_result"
    }
   ],
   "source": [
    "grid_search.cv_results_"
   ]
  },
  {
   "cell_type": "code",
   "execution_count": 192,
   "metadata": {},
   "outputs": [
    {
     "data": {
      "text/plain": [
       "{'max_depth': 5}"
      ]
     },
     "execution_count": 192,
     "metadata": {},
     "output_type": "execute_result"
    }
   ],
   "source": [
    "grid_search.best_params_"
   ]
  },
  {
   "cell_type": "code",
   "execution_count": 194,
   "metadata": {},
   "outputs": [
    {
     "data": {
      "text/plain": [
       "0.9645866753304769"
      ]
     },
     "execution_count": 194,
     "metadata": {},
     "output_type": "execute_result"
    }
   ],
   "source": [
    "grid_search.best_score_"
   ]
  },
  {
   "cell_type": "code",
   "execution_count": 196,
   "metadata": {},
   "outputs": [
    {
     "data": {
      "text/html": [
       "<div>\n",
       "<style scoped>\n",
       "    .dataframe tbody tr th:only-of-type {\n",
       "        vertical-align: middle;\n",
       "    }\n",
       "\n",
       "    .dataframe tbody tr th {\n",
       "        vertical-align: top;\n",
       "    }\n",
       "\n",
       "    .dataframe thead th {\n",
       "        text-align: right;\n",
       "    }\n",
       "</style>\n",
       "<table border=\"1\" class=\"dataframe\">\n",
       "  <thead>\n",
       "    <tr style=\"text-align: right;\">\n",
       "      <th></th>\n",
       "      <th>model</th>\n",
       "      <th>train roc_auc</th>\n",
       "      <th>test roc_auc</th>\n",
       "      <th>train accuracy</th>\n",
       "      <th>test accuracy</th>\n",
       "    </tr>\n",
       "  </thead>\n",
       "  <tbody>\n",
       "    <tr>\n",
       "      <th>0</th>\n",
       "      <td>K Neighbors Classifier</td>\n",
       "      <td>0.955902</td>\n",
       "      <td>0.930112</td>\n",
       "      <td>0.976038</td>\n",
       "      <td>0.962577</td>\n",
       "    </tr>\n",
       "    <tr>\n",
       "      <th>1</th>\n",
       "      <td>Linear SVM</td>\n",
       "      <td>0.949074</td>\n",
       "      <td>0.941717</td>\n",
       "      <td>0.970352</td>\n",
       "      <td>0.967551</td>\n",
       "    </tr>\n",
       "    <tr>\n",
       "      <th>2</th>\n",
       "      <td>Logistic Regression</td>\n",
       "      <td>0.935908</td>\n",
       "      <td>0.931878</td>\n",
       "      <td>0.967509</td>\n",
       "      <td>0.966840</td>\n",
       "    </tr>\n",
       "    <tr>\n",
       "      <th>3</th>\n",
       "      <td>Polynomial SVM</td>\n",
       "      <td>0.955124</td>\n",
       "      <td>0.945907</td>\n",
       "      <td>0.970454</td>\n",
       "      <td>0.964946</td>\n",
       "    </tr>\n",
       "    <tr>\n",
       "      <th>4</th>\n",
       "      <td>Decision Tree Classifier</td>\n",
       "      <td>0.940172</td>\n",
       "      <td>0.934661</td>\n",
       "      <td>0.966902</td>\n",
       "      <td>0.964016</td>\n",
       "    </tr>\n",
       "  </tbody>\n",
       "</table>\n",
       "</div>"
      ],
      "text/plain": [
       "                      model  train roc_auc  test roc_auc  train accuracy  \\\n",
       "0    K Neighbors Classifier       0.955902      0.930112        0.976038   \n",
       "1                Linear SVM       0.949074      0.941717        0.970352   \n",
       "2       Logistic Regression       0.935908      0.931878        0.967509   \n",
       "3            Polynomial SVM       0.955124      0.945907        0.970454   \n",
       "4  Decision Tree Classifier       0.940172      0.934661        0.966902   \n",
       "\n",
       "   test accuracy  \n",
       "0       0.962577  \n",
       "1       0.967551  \n",
       "2       0.966840  \n",
       "3       0.964946  \n",
       "4       0.964016  "
      ]
     },
     "execution_count": 196,
     "metadata": {},
     "output_type": "execute_result"
    }
   ],
   "source": [
    "dtc = DecisionTreeClassifier(max_depth= 5, random_state= 10)\n",
    "dtc.fit(X_train, y_train)\n",
    "predict_test = dtc.predict(X_test)\n",
    "predict_train = dtc.predict(X_train)\n",
    "train_roc_auc = roc_auc_score(y_train, predict_train)\n",
    "test_roc_auc = roc_auc_score(y_test, predict_test)\n",
    "train_accuracy = accuracy_score(y_train, predict_train)\n",
    "test_accuracy = accuracy_score(y_test, predict_test)\n",
    "\n",
    "classification_result = classification_result.append(pd.Series({'model':'Decision Tree Classifier','train roc_auc':train_roc_auc,'test roc_auc':test_roc_auc, 'train accuracy': train_accuracy, 'test accuracy': test_accuracy}),ignore_index=True)\n",
    "classification_result"
   ]
  },
  {
   "cell_type": "markdown",
   "metadata": {},
   "source": [
    "## BEST MODEL"
   ]
  },
  {
   "cell_type": "markdown",
   "metadata": {},
   "source": [
    "## Based on the classification results, we see that Linear SVM has the highest roc_auc, accuracy score for test sets."
   ]
  },
  {
   "cell_type": "markdown",
   "metadata": {},
   "source": [
    "## LINEAR SVM "
   ]
  },
  {
   "cell_type": "code",
   "execution_count": 204,
   "metadata": {},
   "outputs": [],
   "source": [
    "X_train_unscaled, X_test_unscaled, y_train, y_test = train_test_split(X, y, test_size = 0.3, random_state = 101)"
   ]
  },
  {
   "cell_type": "code",
   "execution_count": 205,
   "metadata": {},
   "outputs": [],
   "source": [
    "MinMax = MinMaxScaler(feature_range= (0,1))\n",
    "X_train = MinMax.fit_transform(X_train_unscaled)\n",
    "X_test = MinMax.transform(X_test_unscaled)"
   ]
  },
  {
   "cell_type": "code",
   "execution_count": null,
   "metadata": {},
   "outputs": [],
   "source": [
    "param_grid = {'C': [0.001, 0.01, 0.1, 0.5, 1, 10, 50, 100, 1000], 'max_iter':[1000,10000] }\n",
    "grid_search = GridSearchCV(SVC(random_state=0,kernel='linear'), param_grid, cv=5, return_train_score=True)\n",
    "grid_search.fit(X_train, y_train)"
   ]
  },
  {
   "cell_type": "code",
   "execution_count": null,
   "metadata": {},
   "outputs": [],
   "source": [
    "grid_search.cv_results_"
   ]
  },
  {
   "cell_type": "code",
   "execution_count": null,
   "metadata": {},
   "outputs": [],
   "source": [
    "grid_search.best_params_"
   ]
  },
  {
   "cell_type": "code",
   "execution_count": null,
   "metadata": {},
   "outputs": [],
   "source": [
    "grid_search.best_score_"
   ]
  },
  {
   "cell_type": "code",
   "execution_count": null,
   "metadata": {},
   "outputs": [],
   "source": [
    "svc = SVC(C = 100, max_iter = 10000, kernel = 'linear', random_state = 0)\n",
    "svc.fit(X_train, y_train)\n",
    "predict_test = svc.predict(X_test)\n",
    "predict_train = svc.predict(X_train)\n",
    "print('Train ROC_AUC : %.2f%%'%(roc_auc_score(y_train, predict_train)*100))\n",
    "print('Test ROC_AUC : %.2f%%'%(roc_auc_score(y_test, predict_test)*100))\n",
    "print('Train accuracy : %.2f%%'%(accuracy_score(y_train, predict_train)*100))\n",
    "print('Test accuracy : %.2f%%'%(accuracy_score(y_test, predict_test)*100))\n"
   ]
  },
  {
   "cell_type": "code",
   "execution_count": null,
   "metadata": {},
   "outputs": [],
   "source": []
  }
 ],
 "metadata": {
  "kernelspec": {
   "display_name": "Python 3",
   "language": "python",
   "name": "python3"
  },
  "language_info": {
   "codemirror_mode": {
    "name": "ipython",
    "version": 3
   },
   "file_extension": ".py",
   "mimetype": "text/x-python",
   "name": "python",
   "nbconvert_exporter": "python",
   "pygments_lexer": "ipython3",
   "version": "3.6.6"
  }
 },
 "nbformat": 4,
 "nbformat_minor": 2
}
