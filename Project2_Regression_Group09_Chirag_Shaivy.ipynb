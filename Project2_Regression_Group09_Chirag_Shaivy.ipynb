{
 "cells": [
  {
   "cell_type": "code",
   "execution_count": 5,
   "metadata": {},
   "outputs": [],
   "source": [
    "import numpy as np\n",
    "import pandas as pd\n",
    "from sklearn.neighbors import KNeighborsRegressor\n",
    "import matplotlib.pyplot as plt\n",
    "%matplotlib inline\n",
    "import seaborn as sns\n",
    "from sklearn.svm import SVR\n",
    "from sklearn.metrics import r2_score\n",
    "from sklearn.preprocessing import MinMaxScaler\n",
    "from sklearn.model_selection import GridSearchCV, train_test_split, cross_val_score\n",
    "from sklearn.linear_model import LinearRegression\n",
    "\n",
    "import warnings\n",
    "warnings.simplefilter('ignore')"
   ]
  },
  {
   "cell_type": "markdown",
   "metadata": {},
   "source": [
    "## Data Import & Pre-Processing"
   ]
  },
  {
   "cell_type": "code",
   "execution_count": 6,
   "metadata": {},
   "outputs": [],
   "source": [
    "df = pd.read_csv('Twitter.data', header = None)"
   ]
  },
  {
   "cell_type": "code",
   "execution_count": 7,
   "metadata": {},
   "outputs": [],
   "source": [
    "df.columns = ['NCD_0', 'NCD_1', 'NCD_2', 'NCD_3', 'NCD_4', 'NCD_5', 'NCD_6',\n",
    "'AI_0', 'AI_1', 'AI_2', 'AI_3', 'AI_4', 'AI_5', 'AI_6', \n",
    "'AS(NA)_0','AS(NA)_1', 'AS(NA)_2', 'AS(NA)_3', 'AS(NA)_4', 'AS(NA)_5', 'AS(NA)_6', \n",
    "'BL_0', 'BL_1', 'BL_2', 'BL_3', 'BL_4', 'BL_5', 'BL_6', \n",
    "'NAC_0', 'NAC_1', 'NAC_2', 'NAC_3', 'NAC_4', 'NAC_5', 'NAC_6', \n",
    "'AS(NAC)_0', 'AS(NAC)_1', 'AS(NAC)_2', 'AS(NAC)_3', 'AS(NAC)_4', 'AS(NAC)_5', 'AS(NAC)_6', \n",
    "'CS_0', 'CS_1', 'CS_2', 'CS_3', 'CS_4', 'CS_5', 'CS_6', \n",
    "'AT_0', 'AT_1', 'AT_2', 'AT_3', 'AT_4', 'AT_5', 'AT_6', \n",
    "'NA_0', 'NA_1', 'NA_2', 'NA_3', 'NA_4', 'NA_5', 'NA_6',\n",
    "'ADL_0', 'ADL_1', 'ADL_2', 'ADL_3', 'ADL_4', 'ADL_5', 'ADL_6', \n",
    "'NAD_0', 'NAD_1', 'NAD_2', 'NAD_3', 'NAD_4', 'NAD_5', 'NAD_6',\n",
    "'buzz']"
   ]
  },
  {
   "cell_type": "code",
   "execution_count": 8,
   "metadata": {},
   "outputs": [],
   "source": [
    "X = df.drop('buzz', axis = 1)\n",
    "y = df['buzz']"
   ]
  },
  {
   "cell_type": "code",
   "execution_count": 30,
   "metadata": {},
   "outputs": [
    {
     "data": {
      "text/html": [
       "<div>\n",
       "<style scoped>\n",
       "    .dataframe tbody tr th:only-of-type {\n",
       "        vertical-align: middle;\n",
       "    }\n",
       "\n",
       "    .dataframe tbody tr th {\n",
       "        vertical-align: top;\n",
       "    }\n",
       "\n",
       "    .dataframe thead th {\n",
       "        text-align: right;\n",
       "    }\n",
       "</style>\n",
       "<table border=\"1\" class=\"dataframe\">\n",
       "  <thead>\n",
       "    <tr style=\"text-align: right;\">\n",
       "      <th></th>\n",
       "      <th>NCD_0</th>\n",
       "      <th>NCD_1</th>\n",
       "      <th>NCD_2</th>\n",
       "      <th>NCD_3</th>\n",
       "      <th>NCD_4</th>\n",
       "      <th>NCD_5</th>\n",
       "      <th>NCD_6</th>\n",
       "      <th>AI_0</th>\n",
       "      <th>AI_1</th>\n",
       "      <th>AI_2</th>\n",
       "      <th>...</th>\n",
       "      <th>ADL_5</th>\n",
       "      <th>ADL_6</th>\n",
       "      <th>NAD_0</th>\n",
       "      <th>NAD_1</th>\n",
       "      <th>NAD_2</th>\n",
       "      <th>NAD_3</th>\n",
       "      <th>NAD_4</th>\n",
       "      <th>NAD_5</th>\n",
       "      <th>NAD_6</th>\n",
       "      <th>buzz</th>\n",
       "    </tr>\n",
       "  </thead>\n",
       "  <tbody>\n",
       "    <tr>\n",
       "      <th>0</th>\n",
       "      <td>0</td>\n",
       "      <td>2</td>\n",
       "      <td>0</td>\n",
       "      <td>0</td>\n",
       "      <td>1</td>\n",
       "      <td>1</td>\n",
       "      <td>1</td>\n",
       "      <td>0</td>\n",
       "      <td>1</td>\n",
       "      <td>0</td>\n",
       "      <td>...</td>\n",
       "      <td>1.0</td>\n",
       "      <td>1.0</td>\n",
       "      <td>0</td>\n",
       "      <td>2</td>\n",
       "      <td>0</td>\n",
       "      <td>0</td>\n",
       "      <td>1</td>\n",
       "      <td>1</td>\n",
       "      <td>1</td>\n",
       "      <td>0.0</td>\n",
       "    </tr>\n",
       "    <tr>\n",
       "      <th>1</th>\n",
       "      <td>2</td>\n",
       "      <td>1</td>\n",
       "      <td>0</td>\n",
       "      <td>0</td>\n",
       "      <td>0</td>\n",
       "      <td>0</td>\n",
       "      <td>4</td>\n",
       "      <td>2</td>\n",
       "      <td>1</td>\n",
       "      <td>0</td>\n",
       "      <td>...</td>\n",
       "      <td>0.0</td>\n",
       "      <td>1.0</td>\n",
       "      <td>2</td>\n",
       "      <td>1</td>\n",
       "      <td>0</td>\n",
       "      <td>0</td>\n",
       "      <td>0</td>\n",
       "      <td>0</td>\n",
       "      <td>4</td>\n",
       "      <td>0.5</td>\n",
       "    </tr>\n",
       "    <tr>\n",
       "      <th>2</th>\n",
       "      <td>1</td>\n",
       "      <td>0</td>\n",
       "      <td>0</td>\n",
       "      <td>0</td>\n",
       "      <td>0</td>\n",
       "      <td>4</td>\n",
       "      <td>1</td>\n",
       "      <td>1</td>\n",
       "      <td>0</td>\n",
       "      <td>0</td>\n",
       "      <td>...</td>\n",
       "      <td>1.0</td>\n",
       "      <td>1.0</td>\n",
       "      <td>1</td>\n",
       "      <td>0</td>\n",
       "      <td>0</td>\n",
       "      <td>0</td>\n",
       "      <td>0</td>\n",
       "      <td>4</td>\n",
       "      <td>1</td>\n",
       "      <td>0.0</td>\n",
       "    </tr>\n",
       "    <tr>\n",
       "      <th>3</th>\n",
       "      <td>1</td>\n",
       "      <td>0</td>\n",
       "      <td>0</td>\n",
       "      <td>1</td>\n",
       "      <td>0</td>\n",
       "      <td>0</td>\n",
       "      <td>1</td>\n",
       "      <td>1</td>\n",
       "      <td>0</td>\n",
       "      <td>0</td>\n",
       "      <td>...</td>\n",
       "      <td>0.0</td>\n",
       "      <td>1.0</td>\n",
       "      <td>1</td>\n",
       "      <td>0</td>\n",
       "      <td>0</td>\n",
       "      <td>1</td>\n",
       "      <td>0</td>\n",
       "      <td>0</td>\n",
       "      <td>1</td>\n",
       "      <td>2.5</td>\n",
       "    </tr>\n",
       "    <tr>\n",
       "      <th>4</th>\n",
       "      <td>0</td>\n",
       "      <td>1</td>\n",
       "      <td>0</td>\n",
       "      <td>0</td>\n",
       "      <td>1</td>\n",
       "      <td>2</td>\n",
       "      <td>3</td>\n",
       "      <td>0</td>\n",
       "      <td>1</td>\n",
       "      <td>0</td>\n",
       "      <td>...</td>\n",
       "      <td>1.0</td>\n",
       "      <td>1.0</td>\n",
       "      <td>0</td>\n",
       "      <td>1</td>\n",
       "      <td>0</td>\n",
       "      <td>0</td>\n",
       "      <td>1</td>\n",
       "      <td>2</td>\n",
       "      <td>3</td>\n",
       "      <td>0.5</td>\n",
       "    </tr>\n",
       "  </tbody>\n",
       "</table>\n",
       "<p>5 rows × 78 columns</p>\n",
       "</div>"
      ],
      "text/plain": [
       "   NCD_0  NCD_1  NCD_2  NCD_3  NCD_4  NCD_5  NCD_6  AI_0  AI_1  AI_2  ...   \\\n",
       "0      0      2      0      0      1      1      1     0     1     0  ...    \n",
       "1      2      1      0      0      0      0      4     2     1     0  ...    \n",
       "2      1      0      0      0      0      4      1     1     0     0  ...    \n",
       "3      1      0      0      1      0      0      1     1     0     0  ...    \n",
       "4      0      1      0      0      1      2      3     0     1     0  ...    \n",
       "\n",
       "   ADL_5  ADL_6  NAD_0  NAD_1  NAD_2  NAD_3  NAD_4  NAD_5  NAD_6  buzz  \n",
       "0    1.0    1.0      0      2      0      0      1      1      1   0.0  \n",
       "1    0.0    1.0      2      1      0      0      0      0      4   0.5  \n",
       "2    1.0    1.0      1      0      0      0      0      4      1   0.0  \n",
       "3    0.0    1.0      1      0      0      1      0      0      1   2.5  \n",
       "4    1.0    1.0      0      1      0      0      1      2      3   0.5  \n",
       "\n",
       "[5 rows x 78 columns]"
      ]
     },
     "execution_count": 30,
     "metadata": {},
     "output_type": "execute_result"
    }
   ],
   "source": [
    "df.head()"
   ]
  },
  {
   "cell_type": "code",
   "execution_count": 31,
   "metadata": {},
   "outputs": [
    {
     "name": "stdout",
     "output_type": "stream",
     "text": [
      "<class 'pandas.core.frame.DataFrame'>\n",
      "RangeIndex: 583250 entries, 0 to 583249\n",
      "Data columns (total 78 columns):\n",
      "NCD_0        583250 non-null int64\n",
      "NCD_1        583250 non-null int64\n",
      "NCD_2        583250 non-null int64\n",
      "NCD_3        583250 non-null int64\n",
      "NCD_4        583250 non-null int64\n",
      "NCD_5        583250 non-null int64\n",
      "NCD_6        583250 non-null int64\n",
      "AI_0         583250 non-null int64\n",
      "AI_1         583250 non-null int64\n",
      "AI_2         583250 non-null int64\n",
      "AI_3         583250 non-null int64\n",
      "AI_4         583250 non-null int64\n",
      "AI_5         583250 non-null int64\n",
      "AI_6         583250 non-null int64\n",
      "AS(NA)_0     583250 non-null float64\n",
      "AS(NA)_1     583250 non-null float64\n",
      "AS(NA)_2     583250 non-null float64\n",
      "AS(NA)_3     583250 non-null float64\n",
      "AS(NA)_4     583250 non-null float64\n",
      "AS(NA)_5     583250 non-null float64\n",
      "AS(NA)_6     583250 non-null float64\n",
      "BL_0         583250 non-null float64\n",
      "BL_1         583250 non-null float64\n",
      "BL_2         583250 non-null float64\n",
      "BL_3         583250 non-null float64\n",
      "BL_4         583250 non-null float64\n",
      "BL_5         583250 non-null float64\n",
      "BL_6         583250 non-null float64\n",
      "NAC_0        583250 non-null int64\n",
      "NAC_1        583250 non-null int64\n",
      "NAC_2        583250 non-null int64\n",
      "NAC_3        583250 non-null int64\n",
      "NAC_4        583250 non-null int64\n",
      "NAC_5        583250 non-null int64\n",
      "NAC_6        583250 non-null int64\n",
      "AS(NAC)_0    583250 non-null float64\n",
      "AS(NAC)_1    583250 non-null float64\n",
      "AS(NAC)_2    583250 non-null float64\n",
      "AS(NAC)_3    583250 non-null float64\n",
      "AS(NAC)_4    583250 non-null float64\n",
      "AS(NAC)_5    583250 non-null float64\n",
      "AS(NAC)_6    583250 non-null float64\n",
      "CS_0         583250 non-null float64\n",
      "CS_1         583250 non-null float64\n",
      "CS_2         583250 non-null float64\n",
      "CS_3         583250 non-null float64\n",
      "CS_4         583250 non-null float64\n",
      "CS_5         583250 non-null float64\n",
      "CS_6         583250 non-null float64\n",
      "AT_0         583250 non-null float64\n",
      "AT_1         583250 non-null float64\n",
      "AT_2         583250 non-null float64\n",
      "AT_3         583250 non-null float64\n",
      "AT_4         583250 non-null float64\n",
      "AT_5         583250 non-null float64\n",
      "AT_6         583250 non-null float64\n",
      "NA_0         583250 non-null int64\n",
      "NA_1         583250 non-null int64\n",
      "NA_2         583250 non-null int64\n",
      "NA_3         583250 non-null int64\n",
      "NA_4         583250 non-null int64\n",
      "NA_5         583250 non-null int64\n",
      "NA_6         583250 non-null int64\n",
      "ADL_0        583250 non-null float64\n",
      "ADL_1        583250 non-null float64\n",
      "ADL_2        583250 non-null float64\n",
      "ADL_3        583250 non-null float64\n",
      "ADL_4        583250 non-null float64\n",
      "ADL_5        583250 non-null float64\n",
      "ADL_6        583250 non-null float64\n",
      "NAD_0        583250 non-null int64\n",
      "NAD_1        583250 non-null int64\n",
      "NAD_2        583250 non-null int64\n",
      "NAD_3        583250 non-null int64\n",
      "NAD_4        583250 non-null int64\n",
      "NAD_5        583250 non-null int64\n",
      "NAD_6        583250 non-null int64\n",
      "buzz         583250 non-null float64\n",
      "dtypes: float64(43), int64(35)\n",
      "memory usage: 347.1 MB\n"
     ]
    }
   ],
   "source": [
    "df.info() "
   ]
  },
  {
   "cell_type": "markdown",
   "metadata": {},
   "source": [
    "#### No missing values found. Proceeding to applying scaling."
   ]
  },
  {
   "cell_type": "code",
   "execution_count": 32,
   "metadata": {},
   "outputs": [],
   "source": [
    "_, sample_data, _, sample_target = train_test_split(X, y, shuffle = True, test_size = 0.1)"
   ]
  },
  {
   "cell_type": "code",
   "execution_count": 33,
   "metadata": {},
   "outputs": [],
   "source": [
    "X_train_unscaled, X_test_unscaled, y_train, y_test = train_test_split(sample_data, sample_target, test_size = 0.3, random_state = 101)"
   ]
  },
  {
   "cell_type": "code",
   "execution_count": 34,
   "metadata": {},
   "outputs": [],
   "source": [
    "MinMax = MinMaxScaler()\n",
    "X_train = MinMax.fit_transform(X_train_unscaled)\n",
    "X_test = MinMax.transform(X_test_unscaled)"
   ]
  },
  {
   "cell_type": "markdown",
   "metadata": {},
   "source": [
    "## 1. K-Neighbours Regression"
   ]
  },
  {
   "cell_type": "code",
   "execution_count": 35,
   "metadata": {},
   "outputs": [
    {
     "data": {
      "text/plain": [
       "GridSearchCV(cv=5, error_score='raise-deprecating',\n",
       "       estimator=KNeighborsRegressor(algorithm='auto', leaf_size=30, metric='minkowski',\n",
       "          metric_params=None, n_jobs=None, n_neighbors=5, p=2,\n",
       "          weights='uniform'),\n",
       "       fit_params=None, iid='warn', n_jobs=None,\n",
       "       param_grid={'n_neighbors': [3, 5, 7]}, pre_dispatch='2*n_jobs',\n",
       "       refit=True, return_train_score=True, scoring=None, verbose=0)"
      ]
     },
     "execution_count": 35,
     "metadata": {},
     "output_type": "execute_result"
    }
   ],
   "source": [
    "knr = KNeighborsRegressor()\n",
    "param_grid = {'n_neighbors' : [3,5,7]}\n",
    "grid_search = GridSearchCV(knr, param_grid, cv = 5, return_train_score= True)\n",
    "grid_search.fit(X_train, y_train)"
   ]
  },
  {
   "cell_type": "code",
   "execution_count": 36,
   "metadata": {},
   "outputs": [
    {
     "data": {
      "text/plain": [
       "{'mean_fit_time': array([0.71590858, 0.67750077, 0.67097692]),\n",
       " 'std_fit_time': array([0.19653575, 0.20535853, 0.18222153]),\n",
       " 'mean_score_time': array([12.85978913, 13.550629  , 14.23394809]),\n",
       " 'std_score_time': array([3.54547292, 3.2337683 , 3.33031589]),\n",
       " 'param_n_neighbors': masked_array(data=[3, 5, 7],\n",
       "              mask=[False, False, False],\n",
       "        fill_value='?',\n",
       "             dtype=object),\n",
       " 'params': [{'n_neighbors': 3}, {'n_neighbors': 5}, {'n_neighbors': 7}],\n",
       " 'split0_test_score': array([0.91064366, 0.91535684, 0.91543252]),\n",
       " 'split1_test_score': array([0.92002547, 0.91876122, 0.91003921]),\n",
       " 'split2_test_score': array([0.9273173 , 0.9295413 , 0.93392282]),\n",
       " 'split3_test_score': array([0.92786721, 0.93119322, 0.93106709]),\n",
       " 'split4_test_score': array([0.91106597, 0.92989485, 0.92286414]),\n",
       " 'mean_test_score': array([0.91938373, 0.9249491 , 0.92266467]),\n",
       " 'std_test_score': array([0.00749523, 0.00655507, 0.00904542]),\n",
       " 'rank_test_score': array([3, 1, 2]),\n",
       " 'split0_train_score': array([0.96281548, 0.95300918, 0.94525693]),\n",
       " 'split1_train_score': array([0.96348804, 0.95085183, 0.94445976]),\n",
       " 'split2_train_score': array([0.96306461, 0.95326579, 0.94762124]),\n",
       " 'split3_train_score': array([0.96179201, 0.94761351, 0.94305441]),\n",
       " 'split4_train_score': array([0.96352722, 0.95235097, 0.94621418]),\n",
       " 'mean_train_score': array([0.96293747, 0.95141826, 0.9453213 ]),\n",
       " 'std_train_score': array([0.00063151, 0.002079  , 0.0015474 ])}"
      ]
     },
     "execution_count": 36,
     "metadata": {},
     "output_type": "execute_result"
    }
   ],
   "source": [
    "grid_search.cv_results_"
   ]
  },
  {
   "cell_type": "code",
   "execution_count": 37,
   "metadata": {},
   "outputs": [
    {
     "data": {
      "text/plain": [
       "{'n_neighbors': 5}"
      ]
     },
     "execution_count": 37,
     "metadata": {},
     "output_type": "execute_result"
    }
   ],
   "source": [
    "grid_search.best_params_"
   ]
  },
  {
   "cell_type": "code",
   "execution_count": 38,
   "metadata": {},
   "outputs": [
    {
     "data": {
      "text/plain": [
       "0.9249490984086616"
      ]
     },
     "execution_count": 38,
     "metadata": {},
     "output_type": "execute_result"
    }
   ],
   "source": [
    "grid_search.best_score_"
   ]
  },
  {
   "cell_type": "code",
   "execution_count": 39,
   "metadata": {},
   "outputs": [],
   "source": [
    "knr = KNeighborsRegressor(n_neighbors= 5)\n",
    "knr.fit(X_train, y_train)\n",
    "predict_test = knr.predict(X_test)\n",
    "predict_train = knr.predict(X_train)\n",
    "cross_val_train = cross_val_score(knr, X_train, y_train).mean()\n",
    "cross_val_test = cross_val_score(knr, X_test, y_test).mean()\n",
    "train_r2 = r2_score(y_train, predict_train)\n",
    "test_r2 = r2_score(y_test, predict_test)"
   ]
  },
  {
   "cell_type": "code",
   "execution_count": 52,
   "metadata": {},
   "outputs": [
    {
     "data": {
      "text/html": [
       "<div>\n",
       "<style scoped>\n",
       "    .dataframe tbody tr th:only-of-type {\n",
       "        vertical-align: middle;\n",
       "    }\n",
       "\n",
       "    .dataframe tbody tr th {\n",
       "        vertical-align: top;\n",
       "    }\n",
       "\n",
       "    .dataframe thead th {\n",
       "        text-align: right;\n",
       "    }\n",
       "</style>\n",
       "<table border=\"1\" class=\"dataframe\">\n",
       "  <thead>\n",
       "    <tr style=\"text-align: right;\">\n",
       "      <th></th>\n",
       "      <th>model</th>\n",
       "      <th>cross val train</th>\n",
       "      <th>cross val test</th>\n",
       "      <th>train r2</th>\n",
       "      <th>test r2</th>\n",
       "    </tr>\n",
       "  </thead>\n",
       "  <tbody>\n",
       "    <tr>\n",
       "      <th>0</th>\n",
       "      <td>K Neighbor Regression</td>\n",
       "      <td>0.878637</td>\n",
       "      <td>0.844452</td>\n",
       "      <td>0.885631</td>\n",
       "      <td>0.872666</td>\n",
       "    </tr>\n",
       "  </tbody>\n",
       "</table>\n",
       "</div>"
      ],
      "text/plain": [
       "                   model  cross val train  cross val test  train r2   test r2\n",
       "0  K Neighbor Regression         0.878637        0.844452  0.885631  0.872666"
      ]
     },
     "execution_count": 52,
     "metadata": {},
     "output_type": "execute_result"
    }
   ],
   "source": [
    "regression_results = pd.DataFrame(index=None, columns=['model', 'cross val train', 'cross val test', 'train r2', 'test r2'])\n",
    "regression_results = regression_results.append(pd.Series({'model' : 'K Neighbor Regression', 'cross val train' : cross_val_train,  'cross val test' : cross_val_test, 'train r2': train_r2, 'test r2': test_r2}), ignore_index=True)\n",
    "regression_results"
   ]
  },
  {
   "cell_type": "markdown",
   "metadata": {},
   "source": [
    "## 2. Linear Regression"
   ]
  },
  {
   "cell_type": "code",
   "execution_count": 53,
   "metadata": {},
   "outputs": [
    {
     "data": {
      "text/html": [
       "<div>\n",
       "<style scoped>\n",
       "    .dataframe tbody tr th:only-of-type {\n",
       "        vertical-align: middle;\n",
       "    }\n",
       "\n",
       "    .dataframe tbody tr th {\n",
       "        vertical-align: top;\n",
       "    }\n",
       "\n",
       "    .dataframe thead th {\n",
       "        text-align: right;\n",
       "    }\n",
       "</style>\n",
       "<table border=\"1\" class=\"dataframe\">\n",
       "  <thead>\n",
       "    <tr style=\"text-align: right;\">\n",
       "      <th></th>\n",
       "      <th>model</th>\n",
       "      <th>cross val train</th>\n",
       "      <th>cross val test</th>\n",
       "      <th>train r2</th>\n",
       "      <th>test r2</th>\n",
       "    </tr>\n",
       "  </thead>\n",
       "  <tbody>\n",
       "    <tr>\n",
       "      <th>0</th>\n",
       "      <td>K Neighbor Regression</td>\n",
       "      <td>0.878637</td>\n",
       "      <td>0.844452</td>\n",
       "      <td>0.885631</td>\n",
       "      <td>0.872666</td>\n",
       "    </tr>\n",
       "    <tr>\n",
       "      <th>1</th>\n",
       "      <td>Linear Regression</td>\n",
       "      <td>0.909266</td>\n",
       "      <td>0.928121</td>\n",
       "      <td>0.946542</td>\n",
       "      <td>0.930354</td>\n",
       "    </tr>\n",
       "  </tbody>\n",
       "</table>\n",
       "</div>"
      ],
      "text/plain": [
       "                   model  cross val train  cross val test  train r2   test r2\n",
       "0  K Neighbor Regression         0.878637        0.844452  0.885631  0.872666\n",
       "1      Linear Regression         0.909266        0.928121  0.946542  0.930354"
      ]
     },
     "execution_count": 53,
     "metadata": {},
     "output_type": "execute_result"
    }
   ],
   "source": [
    "linear = LinearRegression()\n",
    "linear.fit(X_train, y_train)\n",
    "predict_test = linear.predict(X_test)\n",
    "predict_train = linear.predict(X_train)\n",
    "cross_val_train = cross_val_score(linear, X_train, y_train).mean()\n",
    "cross_val_test = cross_val_score(linear, X_test, y_test).mean()\n",
    "train_r2 = r2_score(y_train, predict_train)\n",
    "test_r2 = r2_score(y_test, predict_test)\n",
    "\n",
    "regression_results = regression_results.append(pd.Series({'model' : 'Linear Regression', 'cross val train' : cross_val_train,  'cross val test' : cross_val_test, 'train r2': train_r2, 'test r2': test_r2}), ignore_index=True)\n",
    "regression_results"
   ]
  },
  {
   "cell_type": "markdown",
   "metadata": {},
   "source": [
    "## 3. Ridge Regression"
   ]
  },
  {
   "cell_type": "code",
   "execution_count": 42,
   "metadata": {},
   "outputs": [
    {
     "data": {
      "text/plain": [
       "GridSearchCV(cv=5, error_score='raise-deprecating',\n",
       "       estimator=Ridge(alpha=1.0, copy_X=True, fit_intercept=True, max_iter=None,\n",
       "   normalize=False, random_state=None, solver='auto', tol=0.001),\n",
       "       fit_params=None, iid='warn', n_jobs=None,\n",
       "       param_grid={'alpha': [1e-10, 1e-08, 0.01, 1, 5, 10, 100]},\n",
       "       pre_dispatch='2*n_jobs', refit=True, return_train_score=True,\n",
       "       scoring=None, verbose=0)"
      ]
     },
     "execution_count": 42,
     "metadata": {},
     "output_type": "execute_result"
    }
   ],
   "source": [
    "from sklearn.linear_model import Ridge\n",
    "param_grid = {'alpha': [1e-10, 1e-8, 1e-2, 1, 5, 10, 100]}\n",
    "grid_search = GridSearchCV(Ridge(), param_grid, cv = 5, return_train_score = True)\n",
    "grid_search.fit(X_train, y_train)"
   ]
  },
  {
   "cell_type": "code",
   "execution_count": 43,
   "metadata": {},
   "outputs": [
    {
     "data": {
      "text/plain": [
       "{'mean_fit_time': array([0.08031306, 0.07680364, 0.07750611, 0.08031359, 0.07750611,\n",
       "        0.07780704, 0.07459831]),\n",
       " 'std_fit_time': array([0.00754552, 0.00258374, 0.00254862, 0.00627294, 0.00121139,\n",
       "        0.00235999, 0.00086273]),\n",
       " 'mean_score_time': array([0.00170498, 0.00150437, 0.00150456, 0.00150437, 0.00180545,\n",
       "        0.00170498, 0.00160465]),\n",
       " 'std_score_time': array([2.45632071e-04, 5.51978917e-07, 1.90734863e-07, 3.81469727e-07,\n",
       "        4.01210842e-04, 2.45048996e-04, 2.00343153e-04]),\n",
       " 'param_alpha': masked_array(data=[1e-10, 1e-08, 0.01, 1, 5, 10, 100],\n",
       "              mask=[False, False, False, False, False, False, False],\n",
       "        fill_value='?',\n",
       "             dtype=object),\n",
       " 'params': [{'alpha': 1e-10},\n",
       "  {'alpha': 1e-08},\n",
       "  {'alpha': 0.01},\n",
       "  {'alpha': 1},\n",
       "  {'alpha': 5},\n",
       "  {'alpha': 10},\n",
       "  {'alpha': 100}],\n",
       " 'split0_test_score': array([0.94582514, 0.94582511, 0.94709079, 0.93864998, 0.92201405,\n",
       "        0.91002857, 0.82174501]),\n",
       " 'split1_test_score': array([0.92660453, 0.92660446, 0.92832762, 0.93810422, 0.92872493,\n",
       "        0.91734063, 0.83027277]),\n",
       " 'split2_test_score': array([0.93753515, 0.93753541, 0.93712315, 0.93197032, 0.92567516,\n",
       "        0.9220211 , 0.87683078]),\n",
       " 'split3_test_score': array([0.93767314, 0.93767337, 0.93712929, 0.92673359, 0.90534908,\n",
       "        0.89061772, 0.80465951]),\n",
       " 'split4_test_score': array([0.82987756, 0.82987792, 0.83707095, 0.85237801, 0.84094694,\n",
       "        0.83299918, 0.84331233]),\n",
       " 'mean_test_score': array([0.91550412, 0.91550427, 0.91734936, 0.91756824, 0.90454305,\n",
       "        0.89460238, 0.83536362]),\n",
       " 'std_test_score': array([0.04324579, 0.04324569, 0.04057503, 0.03288524, 0.03280709,\n",
       "        0.03261118, 0.02423516]),\n",
       " 'rank_test_score': array([4, 3, 2, 1, 5, 6, 7]),\n",
       " 'split0_train_score': array([0.94595849, 0.94595848, 0.94452809, 0.93699883, 0.92073579,\n",
       "        0.90759465, 0.83368211]),\n",
       " 'split1_train_score': array([0.94859164, 0.94859164, 0.94744207, 0.93836563, 0.920263  ,\n",
       "        0.90615017, 0.83350949]),\n",
       " 'split2_train_score': array([0.94779521, 0.94779521, 0.94667436, 0.93949222, 0.92372943,\n",
       "        0.91042237, 0.83603563]),\n",
       " 'split3_train_score': array([0.94777771, 0.94777771, 0.94673643, 0.93934191, 0.92441448,\n",
       "        0.91222551, 0.84354181]),\n",
       " 'split4_train_score': array([0.94931829, 0.94931829, 0.94851012, 0.94103548, 0.92604258,\n",
       "        0.91598542, 0.84542386]),\n",
       " 'mean_train_score': array([0.94788827, 0.94788827, 0.94677822, 0.93904681, 0.92303706,\n",
       "        0.91047562, 0.83843858]),\n",
       " 'std_train_score': array([0.00112113, 0.00112113, 0.00130505, 0.00133405, 0.00220912,\n",
       "        0.00347656, 0.00505037])}"
      ]
     },
     "execution_count": 43,
     "metadata": {},
     "output_type": "execute_result"
    }
   ],
   "source": [
    "grid_search.cv_results_"
   ]
  },
  {
   "cell_type": "code",
   "execution_count": 44,
   "metadata": {},
   "outputs": [
    {
     "data": {
      "text/plain": [
       "0.9175682415897367"
      ]
     },
     "execution_count": 44,
     "metadata": {},
     "output_type": "execute_result"
    }
   ],
   "source": [
    "grid_search.best_score_"
   ]
  },
  {
   "cell_type": "code",
   "execution_count": 45,
   "metadata": {},
   "outputs": [
    {
     "data": {
      "text/plain": [
       "{'alpha': 1}"
      ]
     },
     "execution_count": 45,
     "metadata": {},
     "output_type": "execute_result"
    }
   ],
   "source": [
    "grid_search.best_params_"
   ]
  },
  {
   "cell_type": "code",
   "execution_count": 54,
   "metadata": {},
   "outputs": [
    {
     "data": {
      "text/html": [
       "<div>\n",
       "<style scoped>\n",
       "    .dataframe tbody tr th:only-of-type {\n",
       "        vertical-align: middle;\n",
       "    }\n",
       "\n",
       "    .dataframe tbody tr th {\n",
       "        vertical-align: top;\n",
       "    }\n",
       "\n",
       "    .dataframe thead th {\n",
       "        text-align: right;\n",
       "    }\n",
       "</style>\n",
       "<table border=\"1\" class=\"dataframe\">\n",
       "  <thead>\n",
       "    <tr style=\"text-align: right;\">\n",
       "      <th></th>\n",
       "      <th>model</th>\n",
       "      <th>cross val train</th>\n",
       "      <th>cross val test</th>\n",
       "      <th>train r2</th>\n",
       "      <th>test r2</th>\n",
       "    </tr>\n",
       "  </thead>\n",
       "  <tbody>\n",
       "    <tr>\n",
       "      <th>0</th>\n",
       "      <td>K Neighbor Regression</td>\n",
       "      <td>0.878637</td>\n",
       "      <td>0.844452</td>\n",
       "      <td>0.885631</td>\n",
       "      <td>0.872666</td>\n",
       "    </tr>\n",
       "    <tr>\n",
       "      <th>1</th>\n",
       "      <td>Linear Regression</td>\n",
       "      <td>0.909266</td>\n",
       "      <td>0.928121</td>\n",
       "      <td>0.946542</td>\n",
       "      <td>0.930354</td>\n",
       "    </tr>\n",
       "    <tr>\n",
       "      <th>2</th>\n",
       "      <td>Ridge Regression</td>\n",
       "      <td>0.913961</td>\n",
       "      <td>0.926241</td>\n",
       "      <td>0.938993</td>\n",
       "      <td>0.926606</td>\n",
       "    </tr>\n",
       "  </tbody>\n",
       "</table>\n",
       "</div>"
      ],
      "text/plain": [
       "                   model  cross val train  cross val test  train r2   test r2\n",
       "0  K Neighbor Regression         0.878637        0.844452  0.885631  0.872666\n",
       "1      Linear Regression         0.909266        0.928121  0.946542  0.930354\n",
       "2       Ridge Regression         0.913961        0.926241  0.938993  0.926606"
      ]
     },
     "execution_count": 54,
     "metadata": {},
     "output_type": "execute_result"
    }
   ],
   "source": [
    "ridge = Ridge(alpha = 1)\n",
    "ridge.fit(X_train, y_train)\n",
    "predict_test = ridge.predict(X_test)\n",
    "predict_train = ridge.predict(X_train)\n",
    "cross_val_train = cross_val_score(ridge, X_train, y_train).mean()\n",
    "cross_val_test = cross_val_score(ridge, X_test, y_test).mean()\n",
    "train_r2 = r2_score(y_train, predict_train)\n",
    "test_r2 = r2_score(y_test, predict_test)\n",
    "\n",
    "regression_results = regression_results.append(pd.Series({'model' : 'Ridge Regression', 'cross val train' : cross_val_train,  'cross val test' : cross_val_test, 'train r2': train_r2, 'test r2': test_r2}), ignore_index=True)\n",
    "regression_results"
   ]
  },
  {
   "cell_type": "markdown",
   "metadata": {},
   "source": [
    "## 4. Lasso Regression"
   ]
  },
  {
   "cell_type": "code",
   "execution_count": 47,
   "metadata": {},
   "outputs": [
    {
     "data": {
      "text/plain": [
       "GridSearchCV(cv=5, error_score='raise-deprecating',\n",
       "       estimator=Lasso(alpha=1.0, copy_X=True, fit_intercept=True, max_iter=1000,\n",
       "   normalize=False, positive=False, precompute=False, random_state=None,\n",
       "   selection='cyclic', tol=0.0001, warm_start=False),\n",
       "       fit_params=None, iid='warn', n_jobs=None,\n",
       "       param_grid={'alpha': [0.01, 0.1, 1, 10, 20, 30, 40, 100]},\n",
       "       pre_dispatch='2*n_jobs', refit=True, return_train_score=True,\n",
       "       scoring=None, verbose=0)"
      ]
     },
     "execution_count": 47,
     "metadata": {},
     "output_type": "execute_result"
    }
   ],
   "source": [
    "from sklearn.linear_model import Lasso\n",
    "\n",
    "param_grid = {'alpha':[0.01,0.1,1,10,20,30,40,100]}\n",
    "grid_search = GridSearchCV(Lasso(), param_grid, cv = 5, return_train_score= True)\n",
    "grid_search.fit(X_train, y_train)"
   ]
  },
  {
   "cell_type": "code",
   "execution_count": 48,
   "metadata": {},
   "outputs": [
    {
     "data": {
      "text/plain": [
       "0.9292382283910218"
      ]
     },
     "execution_count": 48,
     "metadata": {},
     "output_type": "execute_result"
    }
   ],
   "source": [
    "grid_search.best_score_"
   ]
  },
  {
   "cell_type": "code",
   "execution_count": 49,
   "metadata": {},
   "outputs": [
    {
     "data": {
      "text/plain": [
       "{'alpha': 0.1}"
      ]
     },
     "execution_count": 49,
     "metadata": {},
     "output_type": "execute_result"
    }
   ],
   "source": [
    "grid_search.best_params_"
   ]
  },
  {
   "cell_type": "code",
   "execution_count": 55,
   "metadata": {},
   "outputs": [
    {
     "data": {
      "text/html": [
       "<div>\n",
       "<style scoped>\n",
       "    .dataframe tbody tr th:only-of-type {\n",
       "        vertical-align: middle;\n",
       "    }\n",
       "\n",
       "    .dataframe tbody tr th {\n",
       "        vertical-align: top;\n",
       "    }\n",
       "\n",
       "    .dataframe thead th {\n",
       "        text-align: right;\n",
       "    }\n",
       "</style>\n",
       "<table border=\"1\" class=\"dataframe\">\n",
       "  <thead>\n",
       "    <tr style=\"text-align: right;\">\n",
       "      <th></th>\n",
       "      <th>model</th>\n",
       "      <th>cross val train</th>\n",
       "      <th>cross val test</th>\n",
       "      <th>train r2</th>\n",
       "      <th>test r2</th>\n",
       "    </tr>\n",
       "  </thead>\n",
       "  <tbody>\n",
       "    <tr>\n",
       "      <th>0</th>\n",
       "      <td>K Neighbor Regression</td>\n",
       "      <td>0.878637</td>\n",
       "      <td>0.844452</td>\n",
       "      <td>0.885631</td>\n",
       "      <td>0.872666</td>\n",
       "    </tr>\n",
       "    <tr>\n",
       "      <th>1</th>\n",
       "      <td>Linear Regression</td>\n",
       "      <td>0.909266</td>\n",
       "      <td>0.928121</td>\n",
       "      <td>0.946542</td>\n",
       "      <td>0.930354</td>\n",
       "    </tr>\n",
       "    <tr>\n",
       "      <th>2</th>\n",
       "      <td>Ridge Regression</td>\n",
       "      <td>0.913961</td>\n",
       "      <td>0.926241</td>\n",
       "      <td>0.938993</td>\n",
       "      <td>0.926606</td>\n",
       "    </tr>\n",
       "    <tr>\n",
       "      <th>3</th>\n",
       "      <td>Lasso Regression</td>\n",
       "      <td>0.927683</td>\n",
       "      <td>0.928711</td>\n",
       "      <td>0.935406</td>\n",
       "      <td>0.929586</td>\n",
       "    </tr>\n",
       "  </tbody>\n",
       "</table>\n",
       "</div>"
      ],
      "text/plain": [
       "                   model  cross val train  cross val test  train r2   test r2\n",
       "0  K Neighbor Regression         0.878637        0.844452  0.885631  0.872666\n",
       "1      Linear Regression         0.909266        0.928121  0.946542  0.930354\n",
       "2       Ridge Regression         0.913961        0.926241  0.938993  0.926606\n",
       "3       Lasso Regression         0.927683        0.928711  0.935406  0.929586"
      ]
     },
     "execution_count": 55,
     "metadata": {},
     "output_type": "execute_result"
    }
   ],
   "source": [
    "lasso = Lasso(alpha =0.1)\n",
    "lasso.fit(X_train, y_train)\n",
    "predict_test = lasso.predict(X_test)\n",
    "predict_train = lasso.predict(X_train)\n",
    "cross_val_train = cross_val_score(lasso, X_train, y_train).mean()\n",
    "cross_val_test = cross_val_score(lasso, X_test, y_test).mean()\n",
    "train_r2 = r2_score(y_train, predict_train)\n",
    "test_r2 = r2_score(y_test, predict_test)\n",
    "\n",
    "regression_results = regression_results.append(pd.Series({'model' : 'Lasso Regression', 'cross val train' : cross_val_train,  'cross val test' : cross_val_test, 'train r2': train_r2, 'test r2': test_r2}), ignore_index=True)\n",
    "regression_results"
   ]
  },
  {
   "cell_type": "markdown",
   "metadata": {},
   "source": [
    "## 5. Simple SVM"
   ]
  },
  {
   "cell_type": "code",
   "execution_count": 12,
   "metadata": {},
   "outputs": [
    {
     "data": {
      "text/plain": [
       "GridSearchCV(cv=5, error_score='raise-deprecating',\n",
       "       estimator=SVR(C=1.0, cache_size=200, coef0=0.0, degree=3, epsilon=0.1,\n",
       "  gamma='auto_deprecated', kernel='linear', max_iter=-1, shrinking=True,\n",
       "  tol=0.001, verbose=False),\n",
       "       fit_params=None, iid='warn', n_jobs=2,\n",
       "       param_grid={'C': [0.1, 0.5, 1, 10, 50], 'epsilon': [0.01, 0.5, 1]},\n",
       "       pre_dispatch='2*n_jobs', refit=True, return_train_score=True,\n",
       "       scoring=None, verbose=0)"
      ]
     },
     "execution_count": 12,
     "metadata": {},
     "output_type": "execute_result"
    }
   ],
   "source": [
    "param_grid = {'C':[0.1, 0.5, 1, 10, 50], 'epsilon' :  [0.01, 0.5, 1]}\n",
    "grid_search = GridSearchCV(SVR(kernel='linear'), param_grid, cv=5, return_train_score=True, n_jobs=2)\n",
    "grid_search.fit(X_train, y_train)"
   ]
  },
  {
   "cell_type": "code",
   "execution_count": 14,
   "metadata": {},
   "outputs": [
    {
     "data": {
      "text/plain": [
       "{'mean_fit_time': array([123.56437731, 127.28441424, 115.09339347, 111.41050372,\n",
       "        111.37901759, 108.99748688, 114.50668325, 112.3049767 ,\n",
       "        114.61859293, 100.89934745,  92.90373306,  84.90833826,\n",
       "        103.87694826,  99.05546632,  89.9586082 ]),\n",
       " 'std_fit_time': array([11.54768049,  8.78480011,  1.34771161,  0.22738729,  3.66819003,\n",
       "         4.50542116,  5.09333371,  2.56879584,  3.56827934,  4.03592316,\n",
       "         0.19356875,  0.5983902 ,  0.97084799,  0.93003536,  3.25657627]),\n",
       " 'mean_score_time': array([19.83152685, 19.29499769, 18.49015775, 18.4751183 , 19.0760201 ,\n",
       "        18.16800351, 19.30522499, 18.57698913, 19.56260891, 18.36781287,\n",
       "        16.26043062, 14.76545568, 18.27468553, 16.37543592, 14.75596476]),\n",
       " 'std_score_time': array([1.60596202, 1.60948933, 0.80055048, 0.51625963, 0.09656609,\n",
       "        0.6681902 , 0.11598563, 1.05982634, 2.29011276, 0.72744966,\n",
       "        0.03625944, 0.09374723, 0.04147268, 0.12181557, 0.24891506]),\n",
       " 'param_C': masked_array(data=[0.1, 0.1, 0.1, 0.5, 0.5, 0.5, 1, 1, 1, 10, 10, 10, 50,\n",
       "                    50, 50],\n",
       "              mask=[False, False, False, False, False, False, False, False,\n",
       "                    False, False, False, False, False, False, False],\n",
       "        fill_value='?',\n",
       "             dtype=object),\n",
       " 'param_epsilon': masked_array(data=[0.01, 0.5, 1, 0.01, 0.5, 1, 0.01, 0.5, 1, 0.01, 0.5, 1,\n",
       "                    0.01, 0.5, 1],\n",
       "              mask=[False, False, False, False, False, False, False, False,\n",
       "                    False, False, False, False, False, False, False],\n",
       "        fill_value='?',\n",
       "             dtype=object),\n",
       " 'params': [{'C': 0.1, 'epsilon': 0.01},\n",
       "  {'C': 0.1, 'epsilon': 0.5},\n",
       "  {'C': 0.1, 'epsilon': 1},\n",
       "  {'C': 0.5, 'epsilon': 0.01},\n",
       "  {'C': 0.5, 'epsilon': 0.5},\n",
       "  {'C': 0.5, 'epsilon': 1},\n",
       "  {'C': 1, 'epsilon': 0.01},\n",
       "  {'C': 1, 'epsilon': 0.5},\n",
       "  {'C': 1, 'epsilon': 1},\n",
       "  {'C': 10, 'epsilon': 0.01},\n",
       "  {'C': 10, 'epsilon': 0.5},\n",
       "  {'C': 10, 'epsilon': 1},\n",
       "  {'C': 50, 'epsilon': 0.01},\n",
       "  {'C': 50, 'epsilon': 0.5},\n",
       "  {'C': 50, 'epsilon': 1}],\n",
       " 'split0_test_score': array([0.02287812, 0.0229238 , 0.02293362, 0.31714508, 0.3171207 ,\n",
       "        0.31709672, 0.56107134, 0.56091526, 0.56109348, 0.87809972,\n",
       "        0.87808894, 0.87810034, 0.91273965, 0.91274126, 0.91274866]),\n",
       " 'split1_test_score': array([0.02605291, 0.02605107, 0.02601905, 0.27657296, 0.27650313,\n",
       "        0.27658775, 0.49309608, 0.49318712, 0.49326483, 0.81285493,\n",
       "        0.8128208 , 0.81277409, 0.87321216, 0.87324466, 0.87329782]),\n",
       " 'split2_test_score': array([0.0144748 , 0.01450389, 0.01449051, 0.30004865, 0.30001635,\n",
       "        0.30005704, 0.53897508, 0.53894591, 0.53915471, 0.85468327,\n",
       "        0.85470183, 0.85470629, 0.89876811, 0.89877556, 0.89883581]),\n",
       " 'split3_test_score': array([0.0016558 , 0.00165666, 0.00165059, 0.29429219, 0.29428926,\n",
       "        0.29428955, 0.53415709, 0.53430893, 0.53461375, 0.84362024,\n",
       "        0.84357993, 0.84340481, 0.88524922, 0.88519311, 0.88518905]),\n",
       " 'split4_test_score': array([0.0176336 , 0.01769148, 0.01770343, 0.28769483, 0.28773101,\n",
       "        0.28771753, 0.51565172, 0.51580178, 0.51599886, 0.8359618 ,\n",
       "        0.83602201, 0.83595327, 0.88998733, 0.89003984, 0.89008697]),\n",
       " 'mean_test_score': array([0.01653943, 0.01656577, 0.01655983, 0.29515083, 0.29513217,\n",
       "        0.2951498 , 0.52859019, 0.52863172, 0.52882504, 0.84504401,\n",
       "        0.84504272, 0.84498778, 0.89199134, 0.89199894, 0.89203171]),\n",
       " 'std_test_score': array([0.00845773, 0.00846397, 0.00846139, 0.01348524, 0.01349027,\n",
       "        0.01346353, 0.02289652, 0.02281193, 0.0228502 , 0.0214774 ,\n",
       "        0.02148145, 0.02150762, 0.01325594, 0.01325217, 0.01324464]),\n",
       " 'rank_test_score': array([15, 13, 14, 10, 12, 11,  9,  8,  7,  4,  5,  6,  3,  2,  1]),\n",
       " 'split0_train_score': array([0.01742885, 0.01747216, 0.01748175, 0.28920027, 0.28917741,\n",
       "        0.28915692, 0.51781962, 0.51767086, 0.51783828, 0.83512146,\n",
       "        0.83510556, 0.83511256, 0.88558726, 0.88559221, 0.88558155]),\n",
       " 'split1_train_score': array([0.01463745, 0.01464492, 0.01460271, 0.2984495 , 0.29836576,\n",
       "        0.29845788, 0.5357851 , 0.53588648, 0.53598224, 0.85168269,\n",
       "        0.85165014, 0.85160636, 0.89571571, 0.89572863, 0.89580365]),\n",
       " 'split2_train_score': array([0.01880134, 0.01882563, 0.01881363, 0.29087475, 0.29084243,\n",
       "        0.29088145, 0.52152867, 0.52149767, 0.52169991, 0.84026406,\n",
       "        0.84028731, 0.84028306, 0.8915034 , 0.89151364, 0.89158082]),\n",
       " 'split3_train_score': array([0.02099628, 0.02099265, 0.02098272, 0.29378019, 0.2937827 ,\n",
       "        0.29377225, 0.52298422, 0.52312687, 0.52340407, 0.84238142,\n",
       "        0.84233762, 0.84213582, 0.89409644, 0.89405047, 0.89406063]),\n",
       " 'split4_train_score': array([0.01824826, 0.01830729, 0.01831935, 0.29516593, 0.29520169,\n",
       "        0.29519023, 0.52726321, 0.52741546, 0.52761263, 0.84364588,\n",
       "        0.84370557, 0.84365719, 0.89188872, 0.89192388, 0.89198235]),\n",
       " 'mean_train_score': array([0.01802244, 0.01804853, 0.01804003, 0.29349413, 0.293474  ,\n",
       "        0.29349175, 0.52507616, 0.52511947, 0.52530743, 0.8426191 ,\n",
       "        0.84261724, 0.842559  , 0.89175831, 0.89176176, 0.8918018 ]),\n",
       " 'std_train_score': array([0.00206456, 0.00206182, 0.00207185, 0.00324748, 0.00323714,\n",
       "        0.00326283, 0.00614952, 0.00622527, 0.00619178, 0.00538554,\n",
       "        0.00537977, 0.00536412, 0.0034436 , 0.00343876, 0.00346093])}"
      ]
     },
     "execution_count": 14,
     "metadata": {},
     "output_type": "execute_result"
    }
   ],
   "source": [
    "grid_search.cv_results_"
   ]
  },
  {
   "cell_type": "code",
   "execution_count": 15,
   "metadata": {},
   "outputs": [
    {
     "data": {
      "text/plain": [
       "{'C': 50, 'epsilon': 1}"
      ]
     },
     "execution_count": 15,
     "metadata": {},
     "output_type": "execute_result"
    }
   ],
   "source": [
    "grid_search.best_params_"
   ]
  },
  {
   "cell_type": "code",
   "execution_count": 20,
   "metadata": {},
   "outputs": [
    {
     "data": {
      "text/plain": [
       "0.8920317131551798"
      ]
     },
     "execution_count": 20,
     "metadata": {},
     "output_type": "execute_result"
    }
   ],
   "source": [
    "grid_search.best_score_"
   ]
  },
  {
   "cell_type": "code",
   "execution_count": 57,
   "metadata": {},
   "outputs": [
    {
     "data": {
      "text/html": [
       "<div>\n",
       "<style scoped>\n",
       "    .dataframe tbody tr th:only-of-type {\n",
       "        vertical-align: middle;\n",
       "    }\n",
       "\n",
       "    .dataframe tbody tr th {\n",
       "        vertical-align: top;\n",
       "    }\n",
       "\n",
       "    .dataframe thead th {\n",
       "        text-align: right;\n",
       "    }\n",
       "</style>\n",
       "<table border=\"1\" class=\"dataframe\">\n",
       "  <thead>\n",
       "    <tr style=\"text-align: right;\">\n",
       "      <th></th>\n",
       "      <th>model</th>\n",
       "      <th>cross val train</th>\n",
       "      <th>cross val test</th>\n",
       "      <th>train r2</th>\n",
       "      <th>test r2</th>\n",
       "    </tr>\n",
       "  </thead>\n",
       "  <tbody>\n",
       "    <tr>\n",
       "      <th>0</th>\n",
       "      <td>K Neighbor Regression</td>\n",
       "      <td>0.878637</td>\n",
       "      <td>0.844452</td>\n",
       "      <td>0.885631</td>\n",
       "      <td>0.872666</td>\n",
       "    </tr>\n",
       "    <tr>\n",
       "      <th>1</th>\n",
       "      <td>Linear Regression</td>\n",
       "      <td>0.909266</td>\n",
       "      <td>0.928121</td>\n",
       "      <td>0.946542</td>\n",
       "      <td>0.930354</td>\n",
       "    </tr>\n",
       "    <tr>\n",
       "      <th>2</th>\n",
       "      <td>Ridge Regression</td>\n",
       "      <td>0.913961</td>\n",
       "      <td>0.926241</td>\n",
       "      <td>0.938993</td>\n",
       "      <td>0.926606</td>\n",
       "    </tr>\n",
       "    <tr>\n",
       "      <th>3</th>\n",
       "      <td>Lasso Regression</td>\n",
       "      <td>0.927683</td>\n",
       "      <td>0.928711</td>\n",
       "      <td>0.935406</td>\n",
       "      <td>0.929586</td>\n",
       "    </tr>\n",
       "    <tr>\n",
       "      <th>4</th>\n",
       "      <td>Linear Regression</td>\n",
       "      <td>0.878637</td>\n",
       "      <td>0.844452</td>\n",
       "      <td>0.885631</td>\n",
       "      <td>0.872666</td>\n",
       "    </tr>\n",
       "    <tr>\n",
       "      <th>5</th>\n",
       "      <td>Simple SVM Regression</td>\n",
       "      <td>0.878637</td>\n",
       "      <td>0.844452</td>\n",
       "      <td>0.885631</td>\n",
       "      <td>0.872666</td>\n",
       "    </tr>\n",
       "  </tbody>\n",
       "</table>\n",
       "</div>"
      ],
      "text/plain": [
       "                   model  cross val train  cross val test  train r2   test r2\n",
       "0  K Neighbor Regression         0.878637        0.844452  0.885631  0.872666\n",
       "1      Linear Regression         0.909266        0.928121  0.946542  0.930354\n",
       "2       Ridge Regression         0.913961        0.926241  0.938993  0.926606\n",
       "3       Lasso Regression         0.927683        0.928711  0.935406  0.929586\n",
       "4      Linear Regression         0.878637        0.844452  0.885631  0.872666\n",
       "5  Simple SVM Regression         0.878637        0.844452  0.885631  0.872666"
      ]
     },
     "execution_count": 57,
     "metadata": {},
     "output_type": "execute_result"
    }
   ],
   "source": [
    "linearsvr = SVR(C = 50, epsilon = 1, kernel = 'linear')\n",
    "linearsvr.fit(X_train, y_train)\n",
    "predict_test = linearsvr.predict(X_test)\n",
    "predict_train = linearsvr.predict(X_train)\n",
    "cross_val_train = cross_val_score(linearsvr, X_train, y_train).mean()\n",
    "cross_val_test = cross_val_score(linearsvr, X_test, y_test).mean()\n",
    "train_r2 = r2_score(y_train, predict_train)\n",
    "test_r2 = r2_score(y_test, predict_test)\n",
    "\n",
    "regression_results = regression_results.append(pd.Series({'model' : 'Simple SVM Regression', 'cross val train' : cross_val_train,  'cross val test' : cross_val_test, 'train r2': train_r2, 'test r2': test_r2}), ignore_index=True)\n",
    "regression_results"
   ]
  },
  {
   "cell_type": "markdown",
   "metadata": {},
   "source": [
    "## 6. SVM With Kernels"
   ]
  },
  {
   "cell_type": "code",
   "execution_count": 58,
   "metadata": {},
   "outputs": [
    {
     "data": {
      "text/plain": [
       "GridSearchCV(cv=5, error_score='raise-deprecating',\n",
       "       estimator=SVR(C=1.0, cache_size=200, coef0=0.0, degree=3, epsilon=0.1,\n",
       "  gamma='auto_deprecated', kernel='rbf', max_iter=-1, shrinking=True,\n",
       "  tol=0.001, verbose=False),\n",
       "       fit_params=None, iid='warn', n_jobs=2,\n",
       "       param_grid={'C': [0.1, 0.5, 1, 10, 50], 'epsilon': [0.01, 0.5, 1]},\n",
       "       pre_dispatch='2*n_jobs', refit=True, return_train_score=True,\n",
       "       scoring=None, verbose=0)"
      ]
     },
     "execution_count": 58,
     "metadata": {},
     "output_type": "execute_result"
    }
   ],
   "source": [
    "param_grid = {'C':[0.1, 0.5, 1, 10, 50], 'epsilon' :  [0.01, 0.5, 1] }\n",
    "grid_search = GridSearchCV(SVR(kernel = 'rbf'), param_grid, cv = 5, return_train_score = True, n_jobs = 2)\n",
    "grid_search.fit(X_train, y_train)"
   ]
  },
  {
   "cell_type": "code",
   "execution_count": 59,
   "metadata": {},
   "outputs": [
    {
     "data": {
      "text/plain": [
       "{'mean_fit_time': array([158.87971244, 151.09532323, 155.8105371 , 148.85533462,\n",
       "        153.497931  , 157.40648098, 174.03361859, 171.17955613,\n",
       "        152.04533367, 172.52824721, 150.72804618, 143.74327483,\n",
       "        140.91304431, 136.07768288, 129.28713083]),\n",
       " 'std_fit_time': array([ 5.46431351,  0.6336711 ,  5.41662393,  2.56342716,  4.42895029,\n",
       "         4.89600913,  8.65158256, 10.66330486,  4.9081642 , 25.58483064,\n",
       "         8.70597686,  3.12745746,  0.57709407,  1.911886  ,  3.20974178]),\n",
       " 'mean_score_time': array([25.51222682, 24.59248948, 24.46890683, 24.51357608, 24.8747438 ,\n",
       "        25.17335443, 28.18734245, 26.7828052 , 24.84144692, 28.85173645,\n",
       "        23.86816006, 25.72148786, 24.15782371, 22.39163041, 21.19645309]),\n",
       " 'std_score_time': array([0.86698787, 0.31367647, 0.66081377, 0.08205536, 0.90803665,\n",
       "        0.63132334, 1.44337104, 2.53957653, 1.51994218, 2.41656539,\n",
       "        0.22337249, 2.79532709, 0.51179137, 0.23369231, 0.54514645]),\n",
       " 'param_C': masked_array(data=[0.1, 0.1, 0.1, 0.5, 0.5, 0.5, 1, 1, 1, 10, 10, 10, 50,\n",
       "                    50, 50],\n",
       "              mask=[False, False, False, False, False, False, False, False,\n",
       "                    False, False, False, False, False, False, False],\n",
       "        fill_value='?',\n",
       "             dtype=object),\n",
       " 'param_epsilon': masked_array(data=[0.01, 0.5, 1, 0.01, 0.5, 1, 0.01, 0.5, 1, 0.01, 0.5, 1,\n",
       "                    0.01, 0.5, 1],\n",
       "              mask=[False, False, False, False, False, False, False, False,\n",
       "                    False, False, False, False, False, False, False],\n",
       "        fill_value='?',\n",
       "             dtype=object),\n",
       " 'params': [{'C': 0.1, 'epsilon': 0.01},\n",
       "  {'C': 0.1, 'epsilon': 0.5},\n",
       "  {'C': 0.1, 'epsilon': 1},\n",
       "  {'C': 0.5, 'epsilon': 0.01},\n",
       "  {'C': 0.5, 'epsilon': 0.5},\n",
       "  {'C': 0.5, 'epsilon': 1},\n",
       "  {'C': 1, 'epsilon': 0.01},\n",
       "  {'C': 1, 'epsilon': 0.5},\n",
       "  {'C': 1, 'epsilon': 1},\n",
       "  {'C': 10, 'epsilon': 0.01},\n",
       "  {'C': 10, 'epsilon': 0.5},\n",
       "  {'C': 10, 'epsilon': 1},\n",
       "  {'C': 50, 'epsilon': 0.01},\n",
       "  {'C': 50, 'epsilon': 0.5},\n",
       "  {'C': 50, 'epsilon': 1}],\n",
       " 'split0_test_score': array([-0.08313284, -0.08320998, -0.083211  , -0.07308434, -0.07301017,\n",
       "        -0.07298083, -0.06549896, -0.06551007, -0.06539524,  0.03846615,\n",
       "         0.0384366 ,  0.03839538,  0.39832835,  0.39827307,  0.39821412]),\n",
       " 'split1_test_score': array([-0.07290311, -0.07289936, -0.0728963 , -0.06299793, -0.0629812 ,\n",
       "        -0.06277082, -0.05537043, -0.05535552, -0.05529889,  0.04981043,\n",
       "         0.04981535,  0.04974204,  0.41091309,  0.41085898,  0.41096224]),\n",
       " 'split2_test_score': array([-0.1022028 , -0.10227248, -0.10225595, -0.08885615, -0.0887949 ,\n",
       "        -0.08874263, -0.07967365, -0.07966142, -0.0796581 ,  0.04219609,\n",
       "         0.0421442 ,  0.04214385,  0.45040266,  0.45039505,  0.45038848]),\n",
       " 'split3_test_score': array([-0.08798844, -0.08795897, -0.08795003, -0.07660074, -0.07660724,\n",
       "        -0.07658492, -0.06862727, -0.06864913, -0.06861148,  0.03648657,\n",
       "         0.0365162 ,  0.03656092,  0.39470988,  0.39467452,  0.39487618]),\n",
       " 'split4_test_score': array([-0.06992568, -0.06991078, -0.06987398, -0.05960239, -0.0596032 ,\n",
       "        -0.059589  , -0.05139626, -0.05141884, -0.05141149,  0.06336599,\n",
       "         0.06337323,  0.0634211 ,  0.45456901,  0.45457215,  0.45445967]),\n",
       " 'mean_test_score': array([-0.08323032, -0.08325006, -0.0832372 , -0.0722281 , -0.07219914,\n",
       "        -0.07213343, -0.06411313, -0.06411881, -0.06407486,  0.04606495,\n",
       "         0.04605702,  0.04605256,  0.42178376,  0.42175391,  0.4217793 ]),\n",
       " 'std_test_score': array([0.01154339, 0.0115679 , 0.01157078, 0.01040129, 0.01038384,\n",
       "        0.01040581, 0.01002563, 0.010021  , 0.01002522, 0.00977543,\n",
       "        0.00978131, 0.00979046, 0.02567161, 0.02569286, 0.02562232]),\n",
       " 'rank_test_score': array([13, 15, 14, 12, 11, 10,  8,  9,  7,  4,  5,  6,  1,  3,  2]),\n",
       " 'split0_train_score': array([-0.08098351, -0.08106519, -0.08106652, -0.07034993, -0.07027205,\n",
       "        -0.07024022, -0.06229662, -0.06230822, -0.06218771,  0.04801975,\n",
       "         0.04798745,  0.04794252,  0.42447808,  0.42442176,  0.42436355]),\n",
       " 'split1_train_score': array([-0.08347092, -0.08346661, -0.08346306, -0.07264273, -0.07262397,\n",
       "        -0.07238873, -0.06442932, -0.06441147, -0.06434979,  0.04704516,\n",
       "         0.04704809,  0.04696482,  0.42634667,  0.42629034,  0.42639943]),\n",
       " 'split2_train_score': array([-0.07819394, -0.07824376, -0.07823162, -0.06772557, -0.06768177,\n",
       "        -0.06764286, -0.05998255, -0.05997272, -0.05996908,  0.04830772,\n",
       "         0.04826985,  0.04826648,  0.41880319,  0.41879842,  0.41879179]),\n",
       " 'split3_train_score': array([-0.07970623, -0.07967969, -0.07967165, -0.06873419, -0.06873879,\n",
       "        -0.06871865, -0.06055708, -0.06057655, -0.06054336,  0.05109801,\n",
       "         0.05111792,  0.05115387,  0.43136157,  0.4313217 ,  0.43151661]),\n",
       " 'split4_train_score': array([-0.0847185 , -0.08470049, -0.08465513, -0.07350918, -0.07351041,\n",
       "        -0.07349726, -0.06540672, -0.06543361, -0.06542645,  0.04161736,\n",
       "         0.04163682,  0.04170825,  0.40846384,  0.40846943,  0.40837378]),\n",
       " 'mean_train_score': array([-0.08141462, -0.08143115, -0.0814176 , -0.07059232, -0.0705654 ,\n",
       "        -0.07049754, -0.06253446, -0.06254052, -0.06249528,  0.0472176 ,\n",
       "         0.04721203,  0.04720719,  0.42189067,  0.42186033,  0.42188903]),\n",
       " 'std_train_score': array([0.00239254, 0.00237456, 0.00236591, 0.00221097, 0.0022203 ,\n",
       "        0.00218882, 0.00211278, 0.00211543, 0.00211269, 0.00310747,\n",
       "        0.00310116, 0.00308338, 0.00782382, 0.0078025 , 0.00789192])}"
      ]
     },
     "execution_count": 59,
     "metadata": {},
     "output_type": "execute_result"
    }
   ],
   "source": [
    "grid_search.cv_results_"
   ]
  },
  {
   "cell_type": "code",
   "execution_count": 60,
   "metadata": {},
   "outputs": [
    {
     "data": {
      "text/plain": [
       "0.42178375803375995"
      ]
     },
     "execution_count": 60,
     "metadata": {},
     "output_type": "execute_result"
    }
   ],
   "source": [
    "grid_search.best_score_"
   ]
  },
  {
   "cell_type": "code",
   "execution_count": 61,
   "metadata": {},
   "outputs": [
    {
     "data": {
      "text/plain": [
       "{'C': 50, 'epsilon': 0.01}"
      ]
     },
     "execution_count": 61,
     "metadata": {},
     "output_type": "execute_result"
    }
   ],
   "source": [
    "grid_search.best_params_"
   ]
  },
  {
   "cell_type": "code",
   "execution_count": null,
   "metadata": {},
   "outputs": [],
   "source": [
    "radialsvr = SVR(C = 50, epsilon = 0.01, kernel = 'rbf')\n",
    "radialsvr.fit(X_train, y_train)\n",
    "predict_test = radialsvr.predict(X_test)\n",
    "predict_train = radialsvr.predict(X_train)\n",
    "cross_val_train = cross_val_score(radialsvr, X_train, y_train).mean()\n",
    "cross_val_test = cross_val_score(radialsvr, X_test, y_test).mean()\n",
    "train_r2 = r2_score(y_train, predict_train)\n",
    "test_r2 = r2_score(y_test, predict_test)\n",
    "\n",
    "regression_results = regression_results.append(pd.Series({'model' : 'SVM With Kernels', 'cross val train' : cross_val_train,  'cross val test' : cross_val_test, 'train r2': train_r2, 'test r2': test_r2}), ignore_index=True)\n",
    "regression_results"
   ]
  },
  {
   "cell_type": "markdown",
   "metadata": {},
   "source": [
    "## 7. Polynomial Regression"
   ]
  },
  {
   "cell_type": "code",
   "execution_count": 75,
   "metadata": {},
   "outputs": [
    {
     "data": {
      "text/plain": [
       "<matplotlib.collections.PathCollection at 0x232160edf28>"
      ]
     },
     "execution_count": 75,
     "metadata": {},
     "output_type": "execute_result"
    },
    {
     "data": {
      "image/png": "[encoded data removed]",
      "text/plain": [
       "<Figure size 432x288 with 1 Axes>"
      ]
     },
     "metadata": {
      "needs_background": "light"
     },
     "output_type": "display_data"
    }
   ],
   "source": [
    "from sklearn.preprocessing import PolynomialFeatures\n",
    "\n",
    "X_train_1 = X_train[:,3].reshape(-1,1)\n",
    "plt.scatter(X_train_1,y_train)"
   ]
  },
  {
   "cell_type": "code",
   "execution_count": 77,
   "metadata": {},
   "outputs": [],
   "source": [
    "train_score_list = []\n",
    "test_score_list = []\n",
    "\n",
    "for n in range(1,3):\n",
    "    poly = PolynomialFeatures(n)\n",
    "    X_train_poly = poly.fit_transform(X_train)\n",
    "    X_test_poly = poly.transform(X_test)\n",
    "    linear.fit(X_train_poly, y_train)\n",
    "    train_score_list.append(linear.score(X_train_poly, y_train))\n",
    "    test_score_list.append(linear.score(X_test_poly, y_test))"
   ]
  },
  {
   "cell_type": "code",
   "execution_count": 78,
   "metadata": {},
   "outputs": [
    {
     "name": "stdout",
     "output_type": "stream",
     "text": [
      "[0.9437237945634788, 0.9673125793226711]\n",
      "[0.9141299359336464, 0.11077737009810229]\n"
     ]
    }
   ],
   "source": [
    "print(train_score_list)\n",
    "print(test_score_list)"
   ]
  },
  {
   "cell_type": "code",
   "execution_count": 79,
   "metadata": {},
   "outputs": [
    {
     "data": {
      "text/plain": [
       "<matplotlib.legend.Legend at 0x232174fcb00>"
      ]
     },
     "execution_count": 79,
     "metadata": {},
     "output_type": "execute_result"
    },
    {
     "data": {
      "image/png": "[encoded data removed]",
      "text/plain": [
       "<Figure size 432x288 with 1 Axes>"
      ]
     },
     "metadata": {
      "needs_background": "light"
     },
     "output_type": "display_data"
    }
   ],
   "source": [
    "%matplotlib inline\n",
    "\n",
    "x_axis = range(1,3)\n",
    "plt.plot(x_axis, train_score_list, c = 'g', label = 'Train Score')\n",
    "plt.plot(x_axis, test_score_list, c = 'b', label = 'Test Score')\n",
    "plt.xlabel('degree')\n",
    "plt.ylabel('accuracy')\n",
    "plt.legend()"
   ]
  },
  {
   "cell_type": "code",
   "execution_count": 80,
   "metadata": {},
   "outputs": [
    {
     "data": {
      "text/plain": [
       "0.7878692869568654"
      ]
     },
     "execution_count": 80,
     "metadata": {},
     "output_type": "execute_result"
    }
   ],
   "source": [
    "poly = PolynomialFeatures(1) #We use degree 1 as it gives us the best score.\n",
    "X_train_poly = poly.fit_transform(X_train_1)\n",
    "\n",
    "linear.fit(X_train_poly, y_train)\n",
    "linear.score(X_train_poly, y_train)"
   ]
  },
  {
   "cell_type": "markdown",
   "metadata": {},
   "source": [
    "## Our best model comes out to be Linear Regression, with an r² value of 0.93"
   ]
  },
  {
   "cell_type": "markdown",
   "metadata": {},
   "source": [
    "## Buzz Prediction using Linear Regression"
   ]
  },
  {
   "cell_type": "code",
   "execution_count": 9,
   "metadata": {},
   "outputs": [],
   "source": [
    "X_train_unscaled, X_test_unscaled, y_train, y_test = train_test_split(X, y, test_size = 0.3, random_state = 101)"
   ]
  },
  {
   "cell_type": "code",
   "execution_count": 10,
   "metadata": {},
   "outputs": [],
   "source": [
    "MinMax = MinMaxScaler()\n",
    "X_train = MinMax.fit_transform(X_train_unscaled)\n",
    "X_test = MinMax.transform(X_test_unscaled)"
   ]
  },
  {
   "cell_type": "code",
   "execution_count": 11,
   "metadata": {},
   "outputs": [],
   "source": [
    "from sklearn import linear_model"
   ]
  },
  {
   "cell_type": "code",
   "execution_count": 14,
   "metadata": {},
   "outputs": [
    {
     "ename": "NameError",
     "evalue": "name 'array' is not defined",
     "output_type": "error",
     "traceback": [
      "\u001b[1;31m---------------------------------------------------------------------------\u001b[0m",
      "\u001b[1;31mNameError\u001b[0m                                 Traceback (most recent call last)",
      "\u001b[1;32m<ipython-input-14-d26d899c9e7c>\u001b[0m in \u001b[0;36m<module>\u001b[1;34m\u001b[0m\n\u001b[0;32m      1\u001b[0m \u001b[0mlm\u001b[0m \u001b[1;33m=\u001b[0m \u001b[0mlinear_model\u001b[0m\u001b[1;33m.\u001b[0m\u001b[0mLinearRegression\u001b[0m\u001b[1;33m(\u001b[0m\u001b[1;33m)\u001b[0m\u001b[1;33m\u001b[0m\u001b[0m\n\u001b[0;32m      2\u001b[0m \u001b[0mmodel\u001b[0m \u001b[1;33m=\u001b[0m \u001b[0mlm\u001b[0m\u001b[1;33m.\u001b[0m\u001b[0mfit\u001b[0m\u001b[1;33m(\u001b[0m\u001b[0mX_train\u001b[0m\u001b[1;33m,\u001b[0m \u001b[0my_train\u001b[0m\u001b[1;33m)\u001b[0m\u001b[1;33m\u001b[0m\u001b[0m\n\u001b[1;32m----> 3\u001b[1;33m \u001b[0marray\u001b[0m\u001b[1;33m.\u001b[0m\u001b[0mreshape\u001b[0m\u001b[1;33m(\u001b[0m\u001b[1;33m-\u001b[0m\u001b[1;36m1\u001b[0m\u001b[1;33m,\u001b[0m \u001b[1;36m1\u001b[0m\u001b[1;33m)\u001b[0m\u001b[1;33m\u001b[0m\u001b[0m\n\u001b[0m\u001b[0;32m      4\u001b[0m \u001b[0mpredictions\u001b[0m \u001b[1;33m=\u001b[0m \u001b[0mlm\u001b[0m\u001b[1;33m.\u001b[0m\u001b[0mpredict\u001b[0m\u001b[1;33m(\u001b[0m\u001b[0my_test\u001b[0m\u001b[1;33m)\u001b[0m\u001b[1;33m\u001b[0m\u001b[0m\n",
      "\u001b[1;31mNameError\u001b[0m: name 'array' is not defined"
     ]
    }
   ],
   "source": [
    "lm = linear_model.LinearRegression()\n",
    "model = lm.fit(X_train, y_train)\n",
    "array.reshape(-1, 1)\n",
    "predictions = lm.predict(y_test)"
   ]
  },
  {
   "cell_type": "markdown",
   "metadata": {},
   "source": [
    "### We now predict the value of Buzz using predictions."
   ]
  },
  {
   "cell_type": "code",
   "execution_count": 94,
   "metadata": {},
   "outputs": [
    {
     "data": {
      "text/plain": [
       "array([ -7.08132402,  21.69424269,  19.9017236 , ..., 853.47554246,\n",
       "        10.40738276,  38.88069286])"
      ]
     },
     "execution_count": 94,
     "metadata": {},
     "output_type": "execute_result"
    }
   ],
   "source": [
    "predictions"
   ]
  },
  {
   "cell_type": "code",
   "execution_count": 87,
   "metadata": {},
   "outputs": [
    {
     "data": {
      "text/plain": [
       "Text(0, 0.5, 'Predictions')"
      ]
     },
     "execution_count": 87,
     "metadata": {},
     "output_type": "execute_result"
    },
    {
     "data": {
      "image/png": "[encoded data removed]",
      "text/plain": [
       "<Figure size 432x288 with 1 Axes>"
      ]
     },
     "metadata": {
      "needs_background": "light"
     },
     "output_type": "display_data"
    }
   ],
   "source": [
    "plt.scatter(y_test, predictions)\n",
    "plt.xlabel('True Values')\n",
    "plt.ylabel('Predictions')"
   ]
  },
  {
   "cell_type": "code",
   "execution_count": 95,
   "metadata": {},
   "outputs": [
    {
     "data": {
      "text/plain": [
       "0.9141299359336496"
      ]
     },
     "execution_count": 95,
     "metadata": {},
     "output_type": "execute_result"
    }
   ],
   "source": [
    "model.score(X_test, y_test)"
   ]
  }
 ],
 "metadata": {
  "kernelspec": {
   "display_name": "Python 3",
   "language": "python",
   "name": "python3"
  },
  "language_info": {
   "codemirror_mode": {
    "name": "ipython",
    "version": 3
   },
   "file_extension": ".py",
   "mimetype": "text/x-python",
   "name": "python",
   "nbconvert_exporter": "python",
   "pygments_lexer": "ipython3",
   "version": "3.6.6"
  }
 },
 "nbformat": 4,
 "nbformat_minor": 2
}
