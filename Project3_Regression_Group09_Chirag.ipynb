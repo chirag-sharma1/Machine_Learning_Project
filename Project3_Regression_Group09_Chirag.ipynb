{
 "cells": [
  {
   "cell_type": "code",
   "execution_count": 1,
   "metadata": {},
   "outputs": [],
   "source": [
    "import numpy as np\n",
    "import pandas as pd\n",
    "import seaborn as sns\n",
    "import matplotlib.pyplot as plt\n",
    "sns.set(color_codes=True)\n",
    "import warnings\n",
    "warnings.filterwarnings('ignore')\n",
    "data=pd.read_csv('Twitter.data',header=None) #Reading the data file."
   ]
  },
  {
   "cell_type": "markdown",
   "metadata": {},
   "source": [
    "### Data Exploration"
   ]
  },
  {
   "cell_type": "code",
   "execution_count": 2,
   "metadata": {},
   "outputs": [
    {
     "data": {
      "text/html": [
       "<div>\n",
       "<style>\n",
       "    .dataframe thead tr:only-child th {\n",
       "        text-align: right;\n",
       "    }\n",
       "\n",
       "    .dataframe thead th {\n",
       "        text-align: left;\n",
       "    }\n",
       "\n",
       "    .dataframe tbody tr th {\n",
       "        vertical-align: top;\n",
       "    }\n",
       "</style>\n",
       "<table border=\"1\" class=\"dataframe\">\n",
       "  <thead>\n",
       "    <tr style=\"text-align: right;\">\n",
       "      <th></th>\n",
       "      <th>0</th>\n",
       "      <th>1</th>\n",
       "      <th>2</th>\n",
       "      <th>3</th>\n",
       "      <th>4</th>\n",
       "      <th>5</th>\n",
       "      <th>6</th>\n",
       "      <th>7</th>\n",
       "      <th>8</th>\n",
       "      <th>9</th>\n",
       "      <th>...</th>\n",
       "      <th>68</th>\n",
       "      <th>69</th>\n",
       "      <th>70</th>\n",
       "      <th>71</th>\n",
       "      <th>72</th>\n",
       "      <th>73</th>\n",
       "      <th>74</th>\n",
       "      <th>75</th>\n",
       "      <th>76</th>\n",
       "      <th>77</th>\n",
       "    </tr>\n",
       "  </thead>\n",
       "  <tbody>\n",
       "    <tr>\n",
       "      <th>0</th>\n",
       "      <td>0</td>\n",
       "      <td>2</td>\n",
       "      <td>0</td>\n",
       "      <td>0</td>\n",
       "      <td>1</td>\n",
       "      <td>1</td>\n",
       "      <td>1</td>\n",
       "      <td>0</td>\n",
       "      <td>1</td>\n",
       "      <td>0</td>\n",
       "      <td>...</td>\n",
       "      <td>1.0</td>\n",
       "      <td>1.0</td>\n",
       "      <td>0</td>\n",
       "      <td>2</td>\n",
       "      <td>0</td>\n",
       "      <td>0</td>\n",
       "      <td>1</td>\n",
       "      <td>1</td>\n",
       "      <td>1</td>\n",
       "      <td>0.0</td>\n",
       "    </tr>\n",
       "    <tr>\n",
       "      <th>1</th>\n",
       "      <td>2</td>\n",
       "      <td>1</td>\n",
       "      <td>0</td>\n",
       "      <td>0</td>\n",
       "      <td>0</td>\n",
       "      <td>0</td>\n",
       "      <td>4</td>\n",
       "      <td>2</td>\n",
       "      <td>1</td>\n",
       "      <td>0</td>\n",
       "      <td>...</td>\n",
       "      <td>0.0</td>\n",
       "      <td>1.0</td>\n",
       "      <td>2</td>\n",
       "      <td>1</td>\n",
       "      <td>0</td>\n",
       "      <td>0</td>\n",
       "      <td>0</td>\n",
       "      <td>0</td>\n",
       "      <td>4</td>\n",
       "      <td>0.5</td>\n",
       "    </tr>\n",
       "    <tr>\n",
       "      <th>2</th>\n",
       "      <td>1</td>\n",
       "      <td>0</td>\n",
       "      <td>0</td>\n",
       "      <td>0</td>\n",
       "      <td>0</td>\n",
       "      <td>4</td>\n",
       "      <td>1</td>\n",
       "      <td>1</td>\n",
       "      <td>0</td>\n",
       "      <td>0</td>\n",
       "      <td>...</td>\n",
       "      <td>1.0</td>\n",
       "      <td>1.0</td>\n",
       "      <td>1</td>\n",
       "      <td>0</td>\n",
       "      <td>0</td>\n",
       "      <td>0</td>\n",
       "      <td>0</td>\n",
       "      <td>4</td>\n",
       "      <td>1</td>\n",
       "      <td>0.0</td>\n",
       "    </tr>\n",
       "    <tr>\n",
       "      <th>3</th>\n",
       "      <td>1</td>\n",
       "      <td>0</td>\n",
       "      <td>0</td>\n",
       "      <td>1</td>\n",
       "      <td>0</td>\n",
       "      <td>0</td>\n",
       "      <td>1</td>\n",
       "      <td>1</td>\n",
       "      <td>0</td>\n",
       "      <td>0</td>\n",
       "      <td>...</td>\n",
       "      <td>0.0</td>\n",
       "      <td>1.0</td>\n",
       "      <td>1</td>\n",
       "      <td>0</td>\n",
       "      <td>0</td>\n",
       "      <td>1</td>\n",
       "      <td>0</td>\n",
       "      <td>0</td>\n",
       "      <td>1</td>\n",
       "      <td>2.5</td>\n",
       "    </tr>\n",
       "    <tr>\n",
       "      <th>4</th>\n",
       "      <td>0</td>\n",
       "      <td>1</td>\n",
       "      <td>0</td>\n",
       "      <td>0</td>\n",
       "      <td>1</td>\n",
       "      <td>2</td>\n",
       "      <td>3</td>\n",
       "      <td>0</td>\n",
       "      <td>1</td>\n",
       "      <td>0</td>\n",
       "      <td>...</td>\n",
       "      <td>1.0</td>\n",
       "      <td>1.0</td>\n",
       "      <td>0</td>\n",
       "      <td>1</td>\n",
       "      <td>0</td>\n",
       "      <td>0</td>\n",
       "      <td>1</td>\n",
       "      <td>2</td>\n",
       "      <td>3</td>\n",
       "      <td>0.5</td>\n",
       "    </tr>\n",
       "  </tbody>\n",
       "</table>\n",
       "<p>5 rows × 78 columns</p>\n",
       "</div>"
      ],
      "text/plain": [
       "   0   1   2   3   4   5   6   7   8   9  ...    68   69  70  71  72  73  74  \\\n",
       "0   0   2   0   0   1   1   1   0   1   0 ...   1.0  1.0   0   2   0   0   1   \n",
       "1   2   1   0   0   0   0   4   2   1   0 ...   0.0  1.0   2   1   0   0   0   \n",
       "2   1   0   0   0   0   4   1   1   0   0 ...   1.0  1.0   1   0   0   0   0   \n",
       "3   1   0   0   1   0   0   1   1   0   0 ...   0.0  1.0   1   0   0   1   0   \n",
       "4   0   1   0   0   1   2   3   0   1   0 ...   1.0  1.0   0   1   0   0   1   \n",
       "\n",
       "   75  76   77  \n",
       "0   1   1  0.0  \n",
       "1   0   4  0.5  \n",
       "2   4   1  0.0  \n",
       "3   0   1  2.5  \n",
       "4   2   3  0.5  \n",
       "\n",
       "[5 rows x 78 columns]"
      ]
     },
     "execution_count": 2,
     "metadata": {},
     "output_type": "execute_result"
    }
   ],
   "source": [
    "data.head()"
   ]
  },
  {
   "cell_type": "code",
   "execution_count": 3,
   "metadata": {},
   "outputs": [],
   "source": [
    "colnames = [\"NCD\",\"AI\",\"AS(NA)\",\"BL\",\"NAC\",\"AS(NAC)\",\"CS\",\"AT\",\"NA\",\"ADL\",\"NAD\",\"Buzz_Magnitude\"]\n",
    "\n",
    "def colrange(n):\n",
    "    if n in range(0,7):\n",
    "        return(colnames[0]+'_'+str(n-0))\n",
    "    elif n in range(7,14) :\n",
    "        return(colnames[1]+'_'+str(n-7))\n",
    "    elif n in range(14,21) :\n",
    "        return(colnames[2]+'_'+str(n-14))\n",
    "    elif n in range(21,28) :\n",
    "        return(colnames[3]+'_'+str(n-21))\n",
    "    elif n in range(28,35) :\n",
    "        return(colnames[4]+'_'+str(n-28))\n",
    "    elif n in range(35,42) :\n",
    "        return(colnames[5]+'_'+str(n-35))\n",
    "    elif n in range(42,49) :\n",
    "        return(colnames[6]+'_'+str(n-42))\n",
    "    elif n in range(49,56) :\n",
    "        return(colnames[7]+'_'+str(n-49))\n",
    "    elif n in range(56,63) :\n",
    "        return(colnames[8]+'_'+str(n-56))\n",
    "    elif n in range(63,70) :\n",
    "        return(colnames[9]+'_'+str(n-63))\n",
    "    elif n in range(70,77) :\n",
    "        return(colnames[10]+'_'+str(n-70))\n",
    "    elif n==77 :\n",
    "        return(colnames[11])    \n",
    "\n",
    "data.columns=[colrange(col) for col in data.columns]"
   ]
  },
  {
   "cell_type": "code",
   "execution_count": 4,
   "metadata": {},
   "outputs": [
    {
     "data": {
      "text/plain": [
       "(583250, 78)"
      ]
     },
     "execution_count": 4,
     "metadata": {},
     "output_type": "execute_result"
    }
   ],
   "source": [
    "data.shape"
   ]
  },
  {
   "cell_type": "code",
   "execution_count": 5,
   "metadata": {
    "scrolled": true
   },
   "outputs": [
    {
     "name": "stdout",
     "output_type": "stream",
     "text": [
      "<class 'pandas.core.frame.DataFrame'>\n",
      "RangeIndex: 583250 entries, 0 to 583249\n",
      "Data columns (total 78 columns):\n",
      "NCD_0             583250 non-null int64\n",
      "NCD_1             583250 non-null int64\n",
      "NCD_2             583250 non-null int64\n",
      "NCD_3             583250 non-null int64\n",
      "NCD_4             583250 non-null int64\n",
      "NCD_5             583250 non-null int64\n",
      "NCD_6             583250 non-null int64\n",
      "AI_0              583250 non-null int64\n",
      "AI_1              583250 non-null int64\n",
      "AI_2              583250 non-null int64\n",
      "AI_3              583250 non-null int64\n",
      "AI_4              583250 non-null int64\n",
      "AI_5              583250 non-null int64\n",
      "AI_6              583250 non-null int64\n",
      "AS(NA)_0          583250 non-null float64\n",
      "AS(NA)_1          583250 non-null float64\n",
      "AS(NA)_2          583250 non-null float64\n",
      "AS(NA)_3          583250 non-null float64\n",
      "AS(NA)_4          583250 non-null float64\n",
      "AS(NA)_5          583250 non-null float64\n",
      "AS(NA)_6          583250 non-null float64\n",
      "BL_0              583250 non-null float64\n",
      "BL_1              583250 non-null float64\n",
      "BL_2              583250 non-null float64\n",
      "BL_3              583250 non-null float64\n",
      "BL_4              583250 non-null float64\n",
      "BL_5              583250 non-null float64\n",
      "BL_6              583250 non-null float64\n",
      "NAC_0             583250 non-null int64\n",
      "NAC_1             583250 non-null int64\n",
      "NAC_2             583250 non-null int64\n",
      "NAC_3             583250 non-null int64\n",
      "NAC_4             583250 non-null int64\n",
      "NAC_5             583250 non-null int64\n",
      "NAC_6             583250 non-null int64\n",
      "AS(NAC)_0         583250 non-null float64\n",
      "AS(NAC)_1         583250 non-null float64\n",
      "AS(NAC)_2         583250 non-null float64\n",
      "AS(NAC)_3         583250 non-null float64\n",
      "AS(NAC)_4         583250 non-null float64\n",
      "AS(NAC)_5         583250 non-null float64\n",
      "AS(NAC)_6         583250 non-null float64\n",
      "CS_0              583250 non-null float64\n",
      "CS_1              583250 non-null float64\n",
      "CS_2              583250 non-null float64\n",
      "CS_3              583250 non-null float64\n",
      "CS_4              583250 non-null float64\n",
      "CS_5              583250 non-null float64\n",
      "CS_6              583250 non-null float64\n",
      "AT_0              583250 non-null float64\n",
      "AT_1              583250 non-null float64\n",
      "AT_2              583250 non-null float64\n",
      "AT_3              583250 non-null float64\n",
      "AT_4              583250 non-null float64\n",
      "AT_5              583250 non-null float64\n",
      "AT_6              583250 non-null float64\n",
      "NA_0              583250 non-null int64\n",
      "NA_1              583250 non-null int64\n",
      "NA_2              583250 non-null int64\n",
      "NA_3              583250 non-null int64\n",
      "NA_4              583250 non-null int64\n",
      "NA_5              583250 non-null int64\n",
      "NA_6              583250 non-null int64\n",
      "ADL_0             583250 non-null float64\n",
      "ADL_1             583250 non-null float64\n",
      "ADL_2             583250 non-null float64\n",
      "ADL_3             583250 non-null float64\n",
      "ADL_4             583250 non-null float64\n",
      "ADL_5             583250 non-null float64\n",
      "ADL_6             583250 non-null float64\n",
      "NAD_0             583250 non-null int64\n",
      "NAD_1             583250 non-null int64\n",
      "NAD_2             583250 non-null int64\n",
      "NAD_3             583250 non-null int64\n",
      "NAD_4             583250 non-null int64\n",
      "NAD_5             583250 non-null int64\n",
      "NAD_6             583250 non-null int64\n",
      "Buzz_Magnitude    583250 non-null float64\n",
      "dtypes: float64(43), int64(35)\n",
      "memory usage: 347.1 MB\n"
     ]
    }
   ],
   "source": [
    "data.info()"
   ]
  },
  {
   "cell_type": "code",
   "execution_count": 7,
   "metadata": {
    "scrolled": true
   },
   "outputs": [
    {
     "data": {
      "text/html": [
       "<div>\n",
       "<style>\n",
       "    .dataframe thead tr:only-child th {\n",
       "        text-align: right;\n",
       "    }\n",
       "\n",
       "    .dataframe thead th {\n",
       "        text-align: left;\n",
       "    }\n",
       "\n",
       "    .dataframe tbody tr th {\n",
       "        vertical-align: top;\n",
       "    }\n",
       "</style>\n",
       "<table border=\"1\" class=\"dataframe\">\n",
       "  <thead>\n",
       "    <tr style=\"text-align: right;\">\n",
       "      <th></th>\n",
       "      <th>NCD_0</th>\n",
       "      <th>NCD_1</th>\n",
       "      <th>NCD_2</th>\n",
       "      <th>NCD_3</th>\n",
       "      <th>NCD_4</th>\n",
       "      <th>NCD_5</th>\n",
       "      <th>NCD_6</th>\n",
       "      <th>AI_0</th>\n",
       "      <th>AI_1</th>\n",
       "      <th>AI_2</th>\n",
       "      <th>...</th>\n",
       "      <th>ADL_5</th>\n",
       "      <th>ADL_6</th>\n",
       "      <th>NAD_0</th>\n",
       "      <th>NAD_1</th>\n",
       "      <th>NAD_2</th>\n",
       "      <th>NAD_3</th>\n",
       "      <th>NAD_4</th>\n",
       "      <th>NAD_5</th>\n",
       "      <th>NAD_6</th>\n",
       "      <th>Buzz_Magnitude</th>\n",
       "    </tr>\n",
       "  </thead>\n",
       "  <tbody>\n",
       "    <tr>\n",
       "      <th>count</th>\n",
       "      <td>583250.000000</td>\n",
       "      <td>583250.000000</td>\n",
       "      <td>583250.000000</td>\n",
       "      <td>583250.000000</td>\n",
       "      <td>583250.000000</td>\n",
       "      <td>583250.000000</td>\n",
       "      <td>583250.000000</td>\n",
       "      <td>583250.000000</td>\n",
       "      <td>583250.000000</td>\n",
       "      <td>583250.000000</td>\n",
       "      <td>...</td>\n",
       "      <td>583250.000000</td>\n",
       "      <td>583250.000000</td>\n",
       "      <td>583250.000000</td>\n",
       "      <td>583250.000000</td>\n",
       "      <td>583250.000000</td>\n",
       "      <td>583250.000000</td>\n",
       "      <td>583250.000000</td>\n",
       "      <td>583250.000000</td>\n",
       "      <td>583250.000000</td>\n",
       "      <td>583250.000000</td>\n",
       "    </tr>\n",
       "    <tr>\n",
       "      <th>mean</th>\n",
       "      <td>140.339640</td>\n",
       "      <td>136.770147</td>\n",
       "      <td>159.679271</td>\n",
       "      <td>181.592091</td>\n",
       "      <td>201.097445</td>\n",
       "      <td>220.175371</td>\n",
       "      <td>219.388214</td>\n",
       "      <td>71.038051</td>\n",
       "      <td>69.829631</td>\n",
       "      <td>82.198203</td>\n",
       "      <td>...</td>\n",
       "      <td>1.136688</td>\n",
       "      <td>1.140372</td>\n",
       "      <td>140.789860</td>\n",
       "      <td>137.181270</td>\n",
       "      <td>160.105922</td>\n",
       "      <td>182.057440</td>\n",
       "      <td>201.596482</td>\n",
       "      <td>220.705900</td>\n",
       "      <td>219.936864</td>\n",
       "      <td>191.279493</td>\n",
       "    </tr>\n",
       "    <tr>\n",
       "      <th>std</th>\n",
       "      <td>431.772639</td>\n",
       "      <td>432.305129</td>\n",
       "      <td>502.057428</td>\n",
       "      <td>574.883713</td>\n",
       "      <td>630.448432</td>\n",
       "      <td>669.205930</td>\n",
       "      <td>672.182204</td>\n",
       "      <td>196.876718</td>\n",
       "      <td>202.199758</td>\n",
       "      <td>239.523042</td>\n",
       "      <td>...</td>\n",
       "      <td>1.432327</td>\n",
       "      <td>1.552313</td>\n",
       "      <td>432.624954</td>\n",
       "      <td>433.026611</td>\n",
       "      <td>502.774408</td>\n",
       "      <td>575.658022</td>\n",
       "      <td>631.258318</td>\n",
       "      <td>670.050977</td>\n",
       "      <td>673.032541</td>\n",
       "      <td>612.352354</td>\n",
       "    </tr>\n",
       "    <tr>\n",
       "      <th>min</th>\n",
       "      <td>0.000000</td>\n",
       "      <td>0.000000</td>\n",
       "      <td>0.000000</td>\n",
       "      <td>0.000000</td>\n",
       "      <td>0.000000</td>\n",
       "      <td>0.000000</td>\n",
       "      <td>0.000000</td>\n",
       "      <td>0.000000</td>\n",
       "      <td>0.000000</td>\n",
       "      <td>0.000000</td>\n",
       "      <td>...</td>\n",
       "      <td>0.000000</td>\n",
       "      <td>0.000000</td>\n",
       "      <td>0.000000</td>\n",
       "      <td>0.000000</td>\n",
       "      <td>0.000000</td>\n",
       "      <td>0.000000</td>\n",
       "      <td>0.000000</td>\n",
       "      <td>0.000000</td>\n",
       "      <td>0.000000</td>\n",
       "      <td>0.000000</td>\n",
       "    </tr>\n",
       "    <tr>\n",
       "      <th>25%</th>\n",
       "      <td>3.000000</td>\n",
       "      <td>3.000000</td>\n",
       "      <td>4.000000</td>\n",
       "      <td>4.000000</td>\n",
       "      <td>5.000000</td>\n",
       "      <td>6.000000</td>\n",
       "      <td>6.000000</td>\n",
       "      <td>2.000000</td>\n",
       "      <td>2.000000</td>\n",
       "      <td>2.000000</td>\n",
       "      <td>...</td>\n",
       "      <td>1.000000</td>\n",
       "      <td>1.000000</td>\n",
       "      <td>3.000000</td>\n",
       "      <td>3.000000</td>\n",
       "      <td>4.000000</td>\n",
       "      <td>4.000000</td>\n",
       "      <td>5.000000</td>\n",
       "      <td>6.000000</td>\n",
       "      <td>6.000000</td>\n",
       "      <td>4.500000</td>\n",
       "    </tr>\n",
       "    <tr>\n",
       "      <th>50%</th>\n",
       "      <td>18.000000</td>\n",
       "      <td>17.000000</td>\n",
       "      <td>21.000000</td>\n",
       "      <td>24.000000</td>\n",
       "      <td>27.000000</td>\n",
       "      <td>31.000000</td>\n",
       "      <td>30.000000</td>\n",
       "      <td>11.000000</td>\n",
       "      <td>11.000000</td>\n",
       "      <td>13.000000</td>\n",
       "      <td>...</td>\n",
       "      <td>1.000000</td>\n",
       "      <td>1.000000</td>\n",
       "      <td>18.000000</td>\n",
       "      <td>17.000000</td>\n",
       "      <td>21.000000</td>\n",
       "      <td>24.000000</td>\n",
       "      <td>27.000000</td>\n",
       "      <td>31.000000</td>\n",
       "      <td>31.000000</td>\n",
       "      <td>25.500000</td>\n",
       "    </tr>\n",
       "    <tr>\n",
       "      <th>75%</th>\n",
       "      <td>104.000000</td>\n",
       "      <td>100.000000</td>\n",
       "      <td>115.000000</td>\n",
       "      <td>131.000000</td>\n",
       "      <td>147.000000</td>\n",
       "      <td>166.000000</td>\n",
       "      <td>164.000000</td>\n",
       "      <td>59.000000</td>\n",
       "      <td>57.000000</td>\n",
       "      <td>65.000000</td>\n",
       "      <td>...</td>\n",
       "      <td>1.090909</td>\n",
       "      <td>1.091296</td>\n",
       "      <td>104.000000</td>\n",
       "      <td>101.000000</td>\n",
       "      <td>115.000000</td>\n",
       "      <td>131.000000</td>\n",
       "      <td>148.000000</td>\n",
       "      <td>167.000000</td>\n",
       "      <td>165.000000</td>\n",
       "      <td>139.000000</td>\n",
       "    </tr>\n",
       "    <tr>\n",
       "      <th>max</th>\n",
       "      <td>24210.000000</td>\n",
       "      <td>29574.000000</td>\n",
       "      <td>37505.000000</td>\n",
       "      <td>72366.000000</td>\n",
       "      <td>79079.000000</td>\n",
       "      <td>79079.000000</td>\n",
       "      <td>79079.000000</td>\n",
       "      <td>18654.000000</td>\n",
       "      <td>22035.000000</td>\n",
       "      <td>29402.000000</td>\n",
       "      <td>...</td>\n",
       "      <td>262.000000</td>\n",
       "      <td>295.000000</td>\n",
       "      <td>24301.000000</td>\n",
       "      <td>29574.000000</td>\n",
       "      <td>37505.000000</td>\n",
       "      <td>72366.000000</td>\n",
       "      <td>79083.000000</td>\n",
       "      <td>79083.000000</td>\n",
       "      <td>79083.000000</td>\n",
       "      <td>75724.500000</td>\n",
       "    </tr>\n",
       "  </tbody>\n",
       "</table>\n",
       "<p>8 rows × 78 columns</p>\n",
       "</div>"
      ],
      "text/plain": [
       "               NCD_0          NCD_1          NCD_2          NCD_3  \\\n",
       "count  583250.000000  583250.000000  583250.000000  583250.000000   \n",
       "mean      140.339640     136.770147     159.679271     181.592091   \n",
       "std       431.772639     432.305129     502.057428     574.883713   \n",
       "min         0.000000       0.000000       0.000000       0.000000   \n",
       "25%         3.000000       3.000000       4.000000       4.000000   \n",
       "50%        18.000000      17.000000      21.000000      24.000000   \n",
       "75%       104.000000     100.000000     115.000000     131.000000   \n",
       "max     24210.000000   29574.000000   37505.000000   72366.000000   \n",
       "\n",
       "               NCD_4          NCD_5          NCD_6           AI_0  \\\n",
       "count  583250.000000  583250.000000  583250.000000  583250.000000   \n",
       "mean      201.097445     220.175371     219.388214      71.038051   \n",
       "std       630.448432     669.205930     672.182204     196.876718   \n",
       "min         0.000000       0.000000       0.000000       0.000000   \n",
       "25%         5.000000       6.000000       6.000000       2.000000   \n",
       "50%        27.000000      31.000000      30.000000      11.000000   \n",
       "75%       147.000000     166.000000     164.000000      59.000000   \n",
       "max     79079.000000   79079.000000   79079.000000   18654.000000   \n",
       "\n",
       "                AI_1           AI_2       ...                ADL_5  \\\n",
       "count  583250.000000  583250.000000       ...        583250.000000   \n",
       "mean       69.829631      82.198203       ...             1.136688   \n",
       "std       202.199758     239.523042       ...             1.432327   \n",
       "min         0.000000       0.000000       ...             0.000000   \n",
       "25%         2.000000       2.000000       ...             1.000000   \n",
       "50%        11.000000      13.000000       ...             1.000000   \n",
       "75%        57.000000      65.000000       ...             1.090909   \n",
       "max     22035.000000   29402.000000       ...           262.000000   \n",
       "\n",
       "               ADL_6          NAD_0          NAD_1          NAD_2  \\\n",
       "count  583250.000000  583250.000000  583250.000000  583250.000000   \n",
       "mean        1.140372     140.789860     137.181270     160.105922   \n",
       "std         1.552313     432.624954     433.026611     502.774408   \n",
       "min         0.000000       0.000000       0.000000       0.000000   \n",
       "25%         1.000000       3.000000       3.000000       4.000000   \n",
       "50%         1.000000      18.000000      17.000000      21.000000   \n",
       "75%         1.091296     104.000000     101.000000     115.000000   \n",
       "max       295.000000   24301.000000   29574.000000   37505.000000   \n",
       "\n",
       "               NAD_3          NAD_4          NAD_5          NAD_6  \\\n",
       "count  583250.000000  583250.000000  583250.000000  583250.000000   \n",
       "mean      182.057440     201.596482     220.705900     219.936864   \n",
       "std       575.658022     631.258318     670.050977     673.032541   \n",
       "min         0.000000       0.000000       0.000000       0.000000   \n",
       "25%         4.000000       5.000000       6.000000       6.000000   \n",
       "50%        24.000000      27.000000      31.000000      31.000000   \n",
       "75%       131.000000     148.000000     167.000000     165.000000   \n",
       "max     72366.000000   79083.000000   79083.000000   79083.000000   \n",
       "\n",
       "       Buzz_Magnitude  \n",
       "count   583250.000000  \n",
       "mean       191.279493  \n",
       "std        612.352354  \n",
       "min          0.000000  \n",
       "25%          4.500000  \n",
       "50%         25.500000  \n",
       "75%        139.000000  \n",
       "max      75724.500000  \n",
       "\n",
       "[8 rows x 78 columns]"
      ]
     },
     "execution_count": 7,
     "metadata": {},
     "output_type": "execute_result"
    }
   ],
   "source": [
    "data.describe()"
   ]
  },
  {
   "cell_type": "markdown",
   "metadata": {},
   "source": [
    "### Checking For Data Leakage"
   ]
  },
  {
   "cell_type": "code",
   "execution_count": 8,
   "metadata": {
    "scrolled": true
   },
   "outputs": [
    {
     "data": {
      "text/plain": [
       "Buzz_Magnitude    1.000000\n",
       "NCD_6             0.955330\n",
       "NAD_6             0.955299\n",
       "NAC_6             0.951809\n",
       "NCD_5             0.918565\n",
       "NAD_5             0.918533\n",
       "NAC_5             0.915110\n",
       "NA_6              0.905061\n",
       "NCD_1             0.889884\n",
       "NAD_1             0.889744\n",
       "NCD_4             0.886262\n",
       "NAD_4             0.886251\n",
       "NAC_1             0.883589\n",
       "NAC_4             0.883327\n",
       "NCD_0             0.883316\n",
       "NAD_0             0.883073\n",
       "NAC_0             0.875533\n",
       "NCD_2             0.875168\n",
       "NAD_2             0.875099\n",
       "NCD_3             0.873060\n",
       "NAD_3             0.873026\n",
       "NAC_2             0.869843\n",
       "NAC_3             0.869301\n",
       "NA_5              0.868421\n",
       "AS(NAC)_6         0.866314\n",
       "AS(NAC)_0         0.853992\n",
       "NA_1              0.850840\n",
       "AS(NAC)_1         0.850498\n",
       "AS(NAC)_5         0.845093\n",
       "NA_0              0.843521\n",
       "                    ...   \n",
       "AI_3              0.756556\n",
       "AI_4              0.756219\n",
       "BL_2              0.091175\n",
       "CS_2              0.089560\n",
       "BL_0              0.085147\n",
       "BL_3              0.085041\n",
       "CS_3              0.083078\n",
       "CS_0              0.082975\n",
       "BL_4              0.079438\n",
       "BL_1              0.077459\n",
       "CS_4              0.077113\n",
       "CS_1              0.075664\n",
       "BL_6              0.065126\n",
       "BL_5              0.063627\n",
       "CS_6              0.061593\n",
       "CS_5              0.060520\n",
       "AT_2              0.016898\n",
       "AT_3              0.011833\n",
       "AT_0              0.010957\n",
       "ADL_2             0.010894\n",
       "AT_1              0.009756\n",
       "AT_4              0.007522\n",
       "ADL_0             0.006126\n",
       "ADL_3             0.005531\n",
       "ADL_1             0.005531\n",
       "ADL_4             0.001111\n",
       "AT_5             -0.000393\n",
       "AT_6             -0.000786\n",
       "ADL_6            -0.007005\n",
       "ADL_5            -0.007131\n",
       "Name: Buzz_Magnitude, Length: 78, dtype: float64"
      ]
     },
     "execution_count": 8,
     "metadata": {},
     "output_type": "execute_result"
    }
   ],
   "source": [
    "co_matrix=data.corr()\n",
    "co_matrix[\"Buzz_Magnitude\"].sort_values(ascending=False)"
   ]
  },
  {
   "cell_type": "markdown",
   "metadata": {},
   "source": [
    "### Split Data"
   ]
  },
  {
   "cell_type": "code",
   "execution_count": 6,
   "metadata": {},
   "outputs": [],
   "source": [
    "XFull = data.iloc[:, :-1]\n",
    "YFull = data.iloc[:, -1]"
   ]
  },
  {
   "cell_type": "code",
   "execution_count": 7,
   "metadata": {},
   "outputs": [],
   "source": [
    "from sklearn.model_selection import train_test_split\n",
    "_, sample_data, _, sample_target = train_test_split(XFull, YFull, shuffle = True, test_size = 0.1)"
   ]
  },
  {
   "cell_type": "code",
   "execution_count": 8,
   "metadata": {},
   "outputs": [],
   "source": [
    "X_train_org, X_test_org, Y_train, Y_test = train_test_split(sample_data[:1000],sample_target[:1000])"
   ]
  },
  {
   "cell_type": "code",
   "execution_count": 14,
   "metadata": {},
   "outputs": [
    {
     "data": {
      "text/html": [
       "<div>\n",
       "<style>\n",
       "    .dataframe thead tr:only-child th {\n",
       "        text-align: right;\n",
       "    }\n",
       "\n",
       "    .dataframe thead th {\n",
       "        text-align: left;\n",
       "    }\n",
       "\n",
       "    .dataframe tbody tr th {\n",
       "        vertical-align: top;\n",
       "    }\n",
       "</style>\n",
       "<table border=\"1\" class=\"dataframe\">\n",
       "  <thead>\n",
       "    <tr style=\"text-align: right;\">\n",
       "      <th></th>\n",
       "      <th>mean</th>\n",
       "      <th>median</th>\n",
       "    </tr>\n",
       "  </thead>\n",
       "  <tbody>\n",
       "    <tr>\n",
       "      <th>NCD_0</th>\n",
       "      <td>140.339640</td>\n",
       "      <td>18.000000</td>\n",
       "    </tr>\n",
       "    <tr>\n",
       "      <th>NCD_1</th>\n",
       "      <td>136.770147</td>\n",
       "      <td>17.000000</td>\n",
       "    </tr>\n",
       "    <tr>\n",
       "      <th>NCD_2</th>\n",
       "      <td>159.679271</td>\n",
       "      <td>21.000000</td>\n",
       "    </tr>\n",
       "    <tr>\n",
       "      <th>NCD_3</th>\n",
       "      <td>181.592091</td>\n",
       "      <td>24.000000</td>\n",
       "    </tr>\n",
       "    <tr>\n",
       "      <th>NCD_4</th>\n",
       "      <td>201.097445</td>\n",
       "      <td>27.000000</td>\n",
       "    </tr>\n",
       "    <tr>\n",
       "      <th>NCD_5</th>\n",
       "      <td>220.175371</td>\n",
       "      <td>31.000000</td>\n",
       "    </tr>\n",
       "    <tr>\n",
       "      <th>NCD_6</th>\n",
       "      <td>219.388214</td>\n",
       "      <td>30.000000</td>\n",
       "    </tr>\n",
       "    <tr>\n",
       "      <th>AI_0</th>\n",
       "      <td>71.038051</td>\n",
       "      <td>11.000000</td>\n",
       "    </tr>\n",
       "    <tr>\n",
       "      <th>AI_1</th>\n",
       "      <td>69.829631</td>\n",
       "      <td>11.000000</td>\n",
       "    </tr>\n",
       "    <tr>\n",
       "      <th>AI_2</th>\n",
       "      <td>82.198203</td>\n",
       "      <td>13.000000</td>\n",
       "    </tr>\n",
       "    <tr>\n",
       "      <th>AI_3</th>\n",
       "      <td>93.774819</td>\n",
       "      <td>14.000000</td>\n",
       "    </tr>\n",
       "    <tr>\n",
       "      <th>AI_4</th>\n",
       "      <td>103.895695</td>\n",
       "      <td>16.000000</td>\n",
       "    </tr>\n",
       "    <tr>\n",
       "      <th>AI_5</th>\n",
       "      <td>113.611141</td>\n",
       "      <td>19.000000</td>\n",
       "    </tr>\n",
       "    <tr>\n",
       "      <th>AI_6</th>\n",
       "      <td>112.940921</td>\n",
       "      <td>18.000000</td>\n",
       "    </tr>\n",
       "    <tr>\n",
       "      <th>AS(NA)_0</th>\n",
       "      <td>0.000202</td>\n",
       "      <td>0.000026</td>\n",
       "    </tr>\n",
       "    <tr>\n",
       "      <th>AS(NA)_1</th>\n",
       "      <td>0.000196</td>\n",
       "      <td>0.000025</td>\n",
       "    </tr>\n",
       "    <tr>\n",
       "      <th>AS(NA)_2</th>\n",
       "      <td>0.000221</td>\n",
       "      <td>0.000029</td>\n",
       "    </tr>\n",
       "    <tr>\n",
       "      <th>AS(NA)_3</th>\n",
       "      <td>0.000242</td>\n",
       "      <td>0.000033</td>\n",
       "    </tr>\n",
       "    <tr>\n",
       "      <th>AS(NA)_4</th>\n",
       "      <td>0.000261</td>\n",
       "      <td>0.000037</td>\n",
       "    </tr>\n",
       "    <tr>\n",
       "      <th>AS(NA)_5</th>\n",
       "      <td>0.000282</td>\n",
       "      <td>0.000042</td>\n",
       "    </tr>\n",
       "    <tr>\n",
       "      <th>AS(NA)_6</th>\n",
       "      <td>0.000279</td>\n",
       "      <td>0.000041</td>\n",
       "    </tr>\n",
       "    <tr>\n",
       "      <th>BL_0</th>\n",
       "      <td>0.925390</td>\n",
       "      <td>1.000000</td>\n",
       "    </tr>\n",
       "    <tr>\n",
       "      <th>BL_1</th>\n",
       "      <td>0.918146</td>\n",
       "      <td>1.000000</td>\n",
       "    </tr>\n",
       "    <tr>\n",
       "      <th>BL_2</th>\n",
       "      <td>0.907052</td>\n",
       "      <td>1.000000</td>\n",
       "    </tr>\n",
       "    <tr>\n",
       "      <th>BL_3</th>\n",
       "      <td>0.919954</td>\n",
       "      <td>1.000000</td>\n",
       "    </tr>\n",
       "    <tr>\n",
       "      <th>BL_4</th>\n",
       "      <td>0.930657</td>\n",
       "      <td>1.000000</td>\n",
       "    </tr>\n",
       "    <tr>\n",
       "      <th>BL_5</th>\n",
       "      <td>0.956070</td>\n",
       "      <td>1.000000</td>\n",
       "    </tr>\n",
       "    <tr>\n",
       "      <th>BL_6</th>\n",
       "      <td>0.955341</td>\n",
       "      <td>1.000000</td>\n",
       "    </tr>\n",
       "    <tr>\n",
       "      <th>NAC_0</th>\n",
       "      <td>150.662500</td>\n",
       "      <td>20.000000</td>\n",
       "    </tr>\n",
       "    <tr>\n",
       "      <th>NAC_1</th>\n",
       "      <td>146.641742</td>\n",
       "      <td>19.000000</td>\n",
       "    </tr>\n",
       "    <tr>\n",
       "      <th>...</th>\n",
       "      <td>...</td>\n",
       "      <td>...</td>\n",
       "    </tr>\n",
       "    <tr>\n",
       "      <th>CS_6</th>\n",
       "      <td>0.960626</td>\n",
       "      <td>1.000000</td>\n",
       "    </tr>\n",
       "    <tr>\n",
       "      <th>AT_0</th>\n",
       "      <td>1.045500</td>\n",
       "      <td>1.000000</td>\n",
       "    </tr>\n",
       "    <tr>\n",
       "      <th>AT_1</th>\n",
       "      <td>1.035194</td>\n",
       "      <td>1.000000</td>\n",
       "    </tr>\n",
       "    <tr>\n",
       "      <th>AT_2</th>\n",
       "      <td>1.017044</td>\n",
       "      <td>1.000000</td>\n",
       "    </tr>\n",
       "    <tr>\n",
       "      <th>AT_3</th>\n",
       "      <td>1.032634</td>\n",
       "      <td>1.000000</td>\n",
       "    </tr>\n",
       "    <tr>\n",
       "      <th>AT_4</th>\n",
       "      <td>1.045863</td>\n",
       "      <td>1.000000</td>\n",
       "    </tr>\n",
       "    <tr>\n",
       "      <th>AT_5</th>\n",
       "      <td>1.078122</td>\n",
       "      <td>1.000000</td>\n",
       "    </tr>\n",
       "    <tr>\n",
       "      <th>AT_6</th>\n",
       "      <td>1.081759</td>\n",
       "      <td>1.000000</td>\n",
       "    </tr>\n",
       "    <tr>\n",
       "      <th>NA_0</th>\n",
       "      <td>123.063726</td>\n",
       "      <td>17.000000</td>\n",
       "    </tr>\n",
       "    <tr>\n",
       "      <th>NA_1</th>\n",
       "      <td>119.579506</td>\n",
       "      <td>17.000000</td>\n",
       "    </tr>\n",
       "    <tr>\n",
       "      <th>NA_2</th>\n",
       "      <td>138.958520</td>\n",
       "      <td>20.000000</td>\n",
       "    </tr>\n",
       "    <tr>\n",
       "      <th>NA_3</th>\n",
       "      <td>157.423923</td>\n",
       "      <td>22.000000</td>\n",
       "    </tr>\n",
       "    <tr>\n",
       "      <th>NA_4</th>\n",
       "      <td>173.702114</td>\n",
       "      <td>25.000000</td>\n",
       "    </tr>\n",
       "    <tr>\n",
       "      <th>NA_5</th>\n",
       "      <td>189.521478</td>\n",
       "      <td>29.000000</td>\n",
       "    </tr>\n",
       "    <tr>\n",
       "      <th>NA_6</th>\n",
       "      <td>188.410279</td>\n",
       "      <td>28.000000</td>\n",
       "    </tr>\n",
       "    <tr>\n",
       "      <th>ADL_0</th>\n",
       "      <td>1.095255</td>\n",
       "      <td>1.000000</td>\n",
       "    </tr>\n",
       "    <tr>\n",
       "      <th>ADL_1</th>\n",
       "      <td>1.083723</td>\n",
       "      <td>1.000000</td>\n",
       "    </tr>\n",
       "    <tr>\n",
       "      <th>ADL_2</th>\n",
       "      <td>1.066749</td>\n",
       "      <td>1.000000</td>\n",
       "    </tr>\n",
       "    <tr>\n",
       "      <th>ADL_3</th>\n",
       "      <td>1.085214</td>\n",
       "      <td>1.000000</td>\n",
       "    </tr>\n",
       "    <tr>\n",
       "      <th>ADL_4</th>\n",
       "      <td>1.100215</td>\n",
       "      <td>1.000000</td>\n",
       "    </tr>\n",
       "    <tr>\n",
       "      <th>ADL_5</th>\n",
       "      <td>1.136688</td>\n",
       "      <td>1.000000</td>\n",
       "    </tr>\n",
       "    <tr>\n",
       "      <th>ADL_6</th>\n",
       "      <td>1.140372</td>\n",
       "      <td>1.000000</td>\n",
       "    </tr>\n",
       "    <tr>\n",
       "      <th>NAD_0</th>\n",
       "      <td>140.789860</td>\n",
       "      <td>18.000000</td>\n",
       "    </tr>\n",
       "    <tr>\n",
       "      <th>NAD_1</th>\n",
       "      <td>137.181270</td>\n",
       "      <td>17.000000</td>\n",
       "    </tr>\n",
       "    <tr>\n",
       "      <th>NAD_2</th>\n",
       "      <td>160.105922</td>\n",
       "      <td>21.000000</td>\n",
       "    </tr>\n",
       "    <tr>\n",
       "      <th>NAD_3</th>\n",
       "      <td>182.057440</td>\n",
       "      <td>24.000000</td>\n",
       "    </tr>\n",
       "    <tr>\n",
       "      <th>NAD_4</th>\n",
       "      <td>201.596482</td>\n",
       "      <td>27.000000</td>\n",
       "    </tr>\n",
       "    <tr>\n",
       "      <th>NAD_5</th>\n",
       "      <td>220.705900</td>\n",
       "      <td>31.000000</td>\n",
       "    </tr>\n",
       "    <tr>\n",
       "      <th>NAD_6</th>\n",
       "      <td>219.936864</td>\n",
       "      <td>31.000000</td>\n",
       "    </tr>\n",
       "    <tr>\n",
       "      <th>Buzz_Magnitude</th>\n",
       "      <td>191.279493</td>\n",
       "      <td>25.500000</td>\n",
       "    </tr>\n",
       "  </tbody>\n",
       "</table>\n",
       "<p>78 rows × 2 columns</p>\n",
       "</div>"
      ],
      "text/plain": [
       "                      mean     median\n",
       "NCD_0           140.339640  18.000000\n",
       "NCD_1           136.770147  17.000000\n",
       "NCD_2           159.679271  21.000000\n",
       "NCD_3           181.592091  24.000000\n",
       "NCD_4           201.097445  27.000000\n",
       "NCD_5           220.175371  31.000000\n",
       "NCD_6           219.388214  30.000000\n",
       "AI_0             71.038051  11.000000\n",
       "AI_1             69.829631  11.000000\n",
       "AI_2             82.198203  13.000000\n",
       "AI_3             93.774819  14.000000\n",
       "AI_4            103.895695  16.000000\n",
       "AI_5            113.611141  19.000000\n",
       "AI_6            112.940921  18.000000\n",
       "AS(NA)_0          0.000202   0.000026\n",
       "AS(NA)_1          0.000196   0.000025\n",
       "AS(NA)_2          0.000221   0.000029\n",
       "AS(NA)_3          0.000242   0.000033\n",
       "AS(NA)_4          0.000261   0.000037\n",
       "AS(NA)_5          0.000282   0.000042\n",
       "AS(NA)_6          0.000279   0.000041\n",
       "BL_0              0.925390   1.000000\n",
       "BL_1              0.918146   1.000000\n",
       "BL_2              0.907052   1.000000\n",
       "BL_3              0.919954   1.000000\n",
       "BL_4              0.930657   1.000000\n",
       "BL_5              0.956070   1.000000\n",
       "BL_6              0.955341   1.000000\n",
       "NAC_0           150.662500  20.000000\n",
       "NAC_1           146.641742  19.000000\n",
       "...                    ...        ...\n",
       "CS_6              0.960626   1.000000\n",
       "AT_0              1.045500   1.000000\n",
       "AT_1              1.035194   1.000000\n",
       "AT_2              1.017044   1.000000\n",
       "AT_3              1.032634   1.000000\n",
       "AT_4              1.045863   1.000000\n",
       "AT_5              1.078122   1.000000\n",
       "AT_6              1.081759   1.000000\n",
       "NA_0            123.063726  17.000000\n",
       "NA_1            119.579506  17.000000\n",
       "NA_2            138.958520  20.000000\n",
       "NA_3            157.423923  22.000000\n",
       "NA_4            173.702114  25.000000\n",
       "NA_5            189.521478  29.000000\n",
       "NA_6            188.410279  28.000000\n",
       "ADL_0             1.095255   1.000000\n",
       "ADL_1             1.083723   1.000000\n",
       "ADL_2             1.066749   1.000000\n",
       "ADL_3             1.085214   1.000000\n",
       "ADL_4             1.100215   1.000000\n",
       "ADL_5             1.136688   1.000000\n",
       "ADL_6             1.140372   1.000000\n",
       "NAD_0           140.789860  18.000000\n",
       "NAD_1           137.181270  17.000000\n",
       "NAD_2           160.105922  21.000000\n",
       "NAD_3           182.057440  24.000000\n",
       "NAD_4           201.596482  27.000000\n",
       "NAD_5           220.705900  31.000000\n",
       "NAD_6           219.936864  31.000000\n",
       "Buzz_Magnitude  191.279493  25.500000\n",
       "\n",
       "[78 rows x 2 columns]"
      ]
     },
     "execution_count": 14,
     "metadata": {},
     "output_type": "execute_result"
    }
   ],
   "source": [
    "def Skewness(data):\n",
    "    s = (data.mean(),data.median())\n",
    "    s = pd.concat(s,axis=1)\n",
    "    s.columns = ['mean','median']\n",
    "    return(s)\n",
    "Skewness(data)"
   ]
  },
  {
   "cell_type": "markdown",
   "metadata": {},
   "source": [
    "#### We will proceed to use MinMax Scaler as independent variables are not normally distributed. Min Max scalar Works well with our data set as compared to Standard Scaler"
   ]
  },
  {
   "cell_type": "code",
   "execution_count": 9,
   "metadata": {},
   "outputs": [],
   "source": [
    "from sklearn.preprocessing import MinMaxScaler\n",
    "scaler = MinMaxScaler()\n",
    "X_train = scaler.fit_transform(X_train_org)\n",
    "X_test = scaler.transform(X_test_org)"
   ]
  },
  {
   "cell_type": "markdown",
   "metadata": {},
   "source": [
    "## 1 :  Linear regression"
   ]
  },
  {
   "cell_type": "code",
   "execution_count": 17,
   "metadata": {},
   "outputs": [],
   "source": [
    "from sklearn.linear_model import LinearRegression\n",
    "lreg = LinearRegression()\n",
    "from sklearn.model_selection import cross_val_score"
   ]
  },
  {
   "cell_type": "code",
   "execution_count": 18,
   "metadata": {
    "scrolled": true
   },
   "outputs": [
    {
     "name": "stdout",
     "output_type": "stream",
     "text": [
      "CV Scores: [ 0.91734389  0.79901594  0.94631502 -2.50757904  0.85919064]\n"
     ]
    },
    {
     "data": {
      "text/plain": [
       "array([ 0.91734389,  0.79901594,  0.94631502, -2.50757904,  0.85919064])"
      ]
     },
     "execution_count": 18,
     "metadata": {},
     "output_type": "execute_result"
    }
   ],
   "source": [
    "CvScores = cross_val_score(lreg, X_train, Y_train, cv=5)\n",
    "print(\"CV Scores: {}\".format(CvScores))\n",
    "CvScores"
   ]
  },
  {
   "cell_type": "code",
   "execution_count": 19,
   "metadata": {
    "scrolled": false
   },
   "outputs": [
    {
     "name": "stdout",
     "output_type": "stream",
     "text": [
      "Train Set Score: 0.20\n",
      "Test Set Score: 0.96\n"
     ]
    }
   ],
   "source": [
    "Train_Score = CvScores.mean()\n",
    "print(\"Train Set Score: {:.2f}\".format(Train_Score))\n",
    "lreg.fit(X_train, Y_train)\n",
    "Test_Score = lreg.score(X_test,Y_test)\n",
    "print(\"Test Set Score: {:.2f}\".format(Test_Score))"
   ]
  },
  {
   "cell_type": "markdown",
   "metadata": {},
   "source": [
    "### Bagging"
   ]
  },
  {
   "cell_type": "code",
   "execution_count": 20,
   "metadata": {},
   "outputs": [
    {
     "data": {
      "text/plain": [
       "GridSearchCV(cv=5, error_score='raise-deprecating',\n",
       "       estimator=BaggingRegressor(base_estimator=LinearRegression(copy_X=True, fit_intercept=True, n_jobs=None,\n",
       "         normalize=False),\n",
       "         bootstrap=True, bootstrap_features=False, max_features=1.0,\n",
       "         max_samples=1.0, n_estimators=10, n_jobs=None, oob_score=True,\n",
       "         random_state=0, verbose=0, warm_start=False),\n",
       "       fit_params=None, iid='warn', n_jobs=None,\n",
       "       param_grid={'n_estimators': [50, 100, 200]},\n",
       "       pre_dispatch='2*n_jobs', refit=True, return_train_score=True,\n",
       "       scoring=None, verbose=0)"
      ]
     },
     "execution_count": 20,
     "metadata": {},
     "output_type": "execute_result"
    }
   ],
   "source": [
    "from sklearn.ensemble import BaggingRegressor\n",
    "from sklearn.model_selection import GridSearchCV\n",
    "\n",
    "bag_lreg = BaggingRegressor(lreg, bootstrap = True,oob_score=True,random_state=0)\n",
    "param_grid = {'n_estimators': [50,100,200]}\n",
    "grid_bag_lreg = GridSearchCV(bag_lreg, param_grid, cv = 5,return_train_score=True)\n",
    "grid_bag_lreg.fit(X_train, Y_train)"
   ]
  },
  {
   "cell_type": "code",
   "execution_count": 21,
   "metadata": {
    "scrolled": true
   },
   "outputs": [
    {
     "name": "stdout",
     "output_type": "stream",
     "text": [
      "Best parameters: {'n_estimators': 50}\n"
     ]
    }
   ],
   "source": [
    "print(\"Best parameters: {}\".format(grid_bag_lreg.best_params_))"
   ]
  },
  {
   "cell_type": "code",
   "execution_count": 22,
   "metadata": {
    "scrolled": true
   },
   "outputs": [
    {
     "name": "stdout",
     "output_type": "stream",
     "text": [
      "Best cross-validation accuracy: 0.62\n",
      "Train Set Score: 0.9360635314602892\n",
      "Test Set Score: 0.9663858785171237\n",
      "Oob Score: 0.7584193652369599\n"
     ]
    }
   ],
   "source": [
    "bag_lreg = BaggingRegressor(lreg,n_estimators = grid_bag_lreg.best_params_['n_estimators'],bootstrap = True,oob_score=True,random_state=0)\n",
    "bag_lreg.fit(X_train, Y_train)\n",
    "print(\"Best cross-validation accuracy: {:.2f}\".format(grid_bag_lreg.best_score_))\n",
    "print(\"Train Set Score: {}\".format(grid_bag_lreg.score(X_train, Y_train)))\n",
    "print(\"Test Set Score: {}\".format(grid_bag_lreg.score(X_test,Y_test)))\n",
    "print(\"Oob Score: {}\".format(bag_lreg.oob_score_))"
   ]
  },
  {
   "cell_type": "markdown",
   "metadata": {},
   "source": [
    "### Pasting"
   ]
  },
  {
   "cell_type": "code",
   "execution_count": 23,
   "metadata": {},
   "outputs": [
    {
     "data": {
      "text/plain": [
       "GridSearchCV(cv=5, error_score='raise-deprecating',\n",
       "       estimator=BaggingRegressor(base_estimator=LinearRegression(copy_X=True, fit_intercept=True, n_jobs=None,\n",
       "         normalize=False),\n",
       "         bootstrap=False, bootstrap_features=False, max_features=1.0,\n",
       "         max_samples=1.0, n_estimators=10, n_jobs=None, oob_score=False,\n",
       "         random_state=0, verbose=0, warm_start=False),\n",
       "       fit_params=None, iid='warn', n_jobs=None,\n",
       "       param_grid={'n_estimators': [50, 100, 200]},\n",
       "       pre_dispatch='2*n_jobs', refit=True, return_train_score=True,\n",
       "       scoring=None, verbose=0)"
      ]
     },
     "execution_count": 23,
     "metadata": {},
     "output_type": "execute_result"
    }
   ],
   "source": [
    "p_lreg = BaggingRegressor(lreg, bootstrap = False,random_state=0)\n",
    "param_grid = {'n_estimators': [50,100,200]}\n",
    "grid_p_lreg = GridSearchCV(p_lreg, param_grid, cv = 5,return_train_score=True)\n",
    "grid_p_lreg.fit(X_train, Y_train)"
   ]
  },
  {
   "cell_type": "code",
   "execution_count": 24,
   "metadata": {},
   "outputs": [
    {
     "name": "stdout",
     "output_type": "stream",
     "text": [
      "Best parameters: {'n_estimators': 100}\n",
      "Best cross-validation accuracy: 0.62\n",
      "Train Set Score: 0.9360635314602892\n",
      "Test Set Score: 0.9663858785171237\n"
     ]
    }
   ],
   "source": [
    "print(\"Best parameters: {}\".format(grid_p_lreg.best_params_))\n",
    "print(\"Best cross-validation accuracy: {:.2f}\".format(grid_bag_lreg.best_score_))\n",
    "print(\"Train Set Score: {}\".format(grid_bag_lreg.score(X_train, Y_train)))\n",
    "print(\"Test Set Score: {}\".format(grid_bag_lreg.score(X_test,Y_test)))"
   ]
  },
  {
   "cell_type": "markdown",
   "metadata": {},
   "source": [
    "### AdaBoost"
   ]
  },
  {
   "cell_type": "code",
   "execution_count": 25,
   "metadata": {},
   "outputs": [
    {
     "data": {
      "text/plain": [
       "GridSearchCV(cv=5, error_score='raise-deprecating',\n",
       "       estimator=AdaBoostRegressor(base_estimator=LinearRegression(copy_X=True, fit_intercept=True, n_jobs=None,\n",
       "         normalize=False),\n",
       "         learning_rate=1.0, loss='linear', n_estimators=50, random_state=0),\n",
       "       fit_params=None, iid='warn', n_jobs=None,\n",
       "       param_grid={'learning_rate': [0.01, 0.03, 0.1, 0.3, 1.0], 'n_estimators': [50, 100, 200]},\n",
       "       pre_dispatch='2*n_jobs', refit=True, return_train_score=True,\n",
       "       scoring=None, verbose=0)"
      ]
     },
     "execution_count": 25,
     "metadata": {},
     "output_type": "execute_result"
    }
   ],
   "source": [
    "from sklearn.ensemble import AdaBoostRegressor\n",
    "\n",
    "adbst_lreg = AdaBoostRegressor(lreg,random_state=0)\n",
    "param_grid = {'learning_rate': [0.01,0.03,0.1,0.3,1.0],\n",
    "              'n_estimators': [50,100,200]}\n",
    "grid_adbst_lreg = GridSearchCV(adbst_lreg, param_grid, cv = 5,return_train_score=True)\n",
    "grid_adbst_lreg.fit(X_train, Y_train)"
   ]
  },
  {
   "cell_type": "code",
   "execution_count": 26,
   "metadata": {},
   "outputs": [
    {
     "name": "stdout",
     "output_type": "stream",
     "text": [
      "Best cross-validation accuracy: 0.41\n",
      "Best parameters: {'learning_rate': 0.03, 'n_estimators': 50}\n",
      "Train Set Score: 0.9666407538206327\n",
      "Test Set Score: 0.9520733731182087\n"
     ]
    }
   ],
   "source": [
    "print(\"Best cross-validation accuracy: {:.2f}\".format(grid_adbst_lreg.best_score_))\n",
    "print(\"Best parameters: {}\".format(grid_adbst_lreg.best_params_))\n",
    "print(\"Train Set Score: {}\".format(grid_adbst_lreg.score(X_train, Y_train)))\n",
    "print(\"Test Set Score: {}\".format(grid_adbst_lreg.score(X_test,Y_test)))"
   ]
  },
  {
   "cell_type": "markdown",
   "metadata": {},
   "source": [
    "### Gradient Boosting"
   ]
  },
  {
   "cell_type": "code",
   "execution_count": 27,
   "metadata": {},
   "outputs": [
    {
     "data": {
      "text/plain": [
       "GridSearchCV(cv=5, error_score='raise-deprecating',\n",
       "       estimator=GradientBoostingRegressor(alpha=0.9, criterion='friedman_mse', init=None,\n",
       "             learning_rate=0.1, loss='ls', max_depth=3, max_features=None,\n",
       "             max_leaf_nodes=None, min_impurity_decrease=0.0,\n",
       "             min_impurity_split=None, min_samples_leaf=1,\n",
       "             min_sampl...ate=0, subsample=1.0, tol=0.0001,\n",
       "             validation_fraction=0.1, verbose=0, warm_start=False),\n",
       "       fit_params=None, iid='warn', n_jobs=None,\n",
       "       param_grid={'max_depth': [1, 2], 'learning_rate': [0.01, 0.03, 0.1, 0.3, 1.0], 'n_estimators': [50, 100, 200]},\n",
       "       pre_dispatch='2*n_jobs', refit=True, return_train_score=True,\n",
       "       scoring=None, verbose=0)"
      ]
     },
     "execution_count": 27,
     "metadata": {},
     "output_type": "execute_result"
    }
   ],
   "source": [
    "from  sklearn.ensemble import GradientBoostingRegressor\n",
    "\n",
    "gbrt_lreg = GradientBoostingRegressor(random_state=0)\n",
    "param_grid = {'max_depth':[1,2],\n",
    "              'learning_rate' : [0.01,0.03,0.1,0.3,1.0],\n",
    "              'n_estimators': [50,100,200]}\n",
    "grid_gbrt_lreg = GridSearchCV(gbrt_lreg, param_grid, cv = 5,return_train_score=True)\n",
    "grid_gbrt_lreg.fit(X_train, Y_train)"
   ]
  },
  {
   "cell_type": "code",
   "execution_count": 28,
   "metadata": {},
   "outputs": [
    {
     "name": "stdout",
     "output_type": "stream",
     "text": [
      "Best cross-validation accuracy: 0.91\n",
      "Best parameters: {'learning_rate': 0.3, 'max_depth': 1, 'n_estimators': 50}\n",
      "Train Set Score: 0.9643050053938437\n",
      "Test Set Score: 0.7469108841142499\n"
     ]
    }
   ],
   "source": [
    "print(\"Best cross-validation accuracy: {:.2f}\".format(grid_gbrt_lreg.best_score_))\n",
    "print(\"Best parameters: {}\".format(grid_gbrt_lreg.best_params_))\n",
    "print(\"Train Set Score: {}\".format(grid_gbrt_lreg.score(X_train, Y_train)))\n",
    "print(\"Test Set Score: {}\".format(grid_gbrt_lreg.score(X_test,Y_test)))"
   ]
  },
  {
   "cell_type": "markdown",
   "metadata": {},
   "source": [
    "## 2 : KNN Regressor "
   ]
  },
  {
   "cell_type": "code",
   "execution_count": 29,
   "metadata": {},
   "outputs": [],
   "source": [
    "from sklearn.neighbors import KNeighborsRegressor\n",
    "from sklearn.model_selection import GridSearchCV\n",
    "model_knn = KNeighborsRegressor()"
   ]
  },
  {
   "cell_type": "code",
   "execution_count": 30,
   "metadata": {},
   "outputs": [
    {
     "name": "stdout",
     "output_type": "stream",
     "text": [
      "Defined Parameters:\n",
      "{'n_neighbors': [1, 5, 10, 15, 20]}\n"
     ]
    }
   ],
   "source": [
    "param_knn = {'n_neighbors':[1, 5, 10, 15, 20]}\n",
    "print(\"Defined Parameters:\\n{}\".format(param_knn))"
   ]
  },
  {
   "cell_type": "code",
   "execution_count": 31,
   "metadata": {},
   "outputs": [
    {
     "data": {
      "text/plain": [
       "GridSearchCV(cv=5, error_score='raise-deprecating',\n",
       "       estimator=KNeighborsRegressor(algorithm='auto', leaf_size=30, metric='minkowski',\n",
       "          metric_params=None, n_jobs=None, n_neighbors=5, p=2,\n",
       "          weights='uniform'),\n",
       "       fit_params=None, iid='warn', n_jobs=None,\n",
       "       param_grid={'n_neighbors': [1, 5, 10, 15, 20]},\n",
       "       pre_dispatch='2*n_jobs', refit=True, return_train_score=True,\n",
       "       scoring=None, verbose=0)"
      ]
     },
     "execution_count": 31,
     "metadata": {},
     "output_type": "execute_result"
    }
   ],
   "source": [
    "grid_knn = GridSearchCV(model_knn, param_grid = param_knn, cv=5, return_train_score=True)\n",
    "grid_knn.fit(X_train, Y_train)"
   ]
  },
  {
   "cell_type": "code",
   "execution_count": 32,
   "metadata": {
    "scrolled": true
   },
   "outputs": [
    {
     "name": "stdout",
     "output_type": "stream",
     "text": [
      "Best cross-validation accuracy: 0.86\n",
      "Best parameters: {'n_neighbors': 5}\n",
      "Train Set Score: 0.9217826281635184\n",
      "Test Set Score: 0.6218434686971733\n"
     ]
    }
   ],
   "source": [
    "print(\"Best cross-validation accuracy: {:.2f}\".format(grid_knn.best_score_))\n",
    "print(\"Best parameters: {}\".format(grid_knn.best_params_))\n",
    "print(\"Train Set Score: {}\".format(grid_knn.score(X_train, Y_train)))\n",
    "print(\"Test Set Score: {}\".format(grid_knn.score(X_test,Y_test)))"
   ]
  },
  {
   "cell_type": "code",
   "execution_count": 33,
   "metadata": {},
   "outputs": [],
   "source": [
    "best_model_knn = KNeighborsRegressor(n_neighbors = grid_knn.best_params_['n_neighbors'])"
   ]
  },
  {
   "cell_type": "markdown",
   "metadata": {},
   "source": [
    "### Bagging"
   ]
  },
  {
   "cell_type": "code",
   "execution_count": 34,
   "metadata": {},
   "outputs": [
    {
     "data": {
      "text/plain": [
       "GridSearchCV(cv=5, error_score='raise-deprecating',\n",
       "       estimator=BaggingRegressor(base_estimator=KNeighborsRegressor(algorithm='auto', leaf_size=30, metric='minkowski',\n",
       "          metric_params=None, n_jobs=None, n_neighbors=5, p=2,\n",
       "          weights='uniform'),\n",
       "         bootstrap=True, bootstrap_features=False, max_features=1.0,\n",
       "         max_samples=1.0, n_estimators=10, n_jobs=None, oob_score=True,\n",
       "         random_state=0, verbose=0, warm_start=False),\n",
       "       fit_params=None, iid='warn', n_jobs=None,\n",
       "       param_grid={'n_estimators': [50, 100, 200]},\n",
       "       pre_dispatch='2*n_jobs', refit=True, return_train_score=True,\n",
       "       scoring=None, verbose=0)"
      ]
     },
     "execution_count": 34,
     "metadata": {},
     "output_type": "execute_result"
    }
   ],
   "source": [
    "bag_knn = BaggingRegressor(best_model_knn, bootstrap = True,oob_score=True,random_state=0)\n",
    "param_grid = {'n_estimators': [50,100,200]}\n",
    "grid_bag_knn = GridSearchCV(bag_knn, param_grid, cv = 5,return_train_score=True)\n",
    "grid_bag_knn.fit(X_train, Y_train)"
   ]
  },
  {
   "cell_type": "code",
   "execution_count": 35,
   "metadata": {
    "scrolled": true
   },
   "outputs": [
    {
     "name": "stdout",
     "output_type": "stream",
     "text": [
      "Best parameters: {'n_estimators': 200}\n"
     ]
    }
   ],
   "source": [
    "print(\"Best parameters: {}\".format(grid_bag_knn.best_params_))"
   ]
  },
  {
   "cell_type": "code",
   "execution_count": 36,
   "metadata": {},
   "outputs": [
    {
     "name": "stdout",
     "output_type": "stream",
     "text": [
      "Best cross-validation accuracy: 0.86\n",
      "Train Set Score: 0.9233014753742587\n",
      "Test Set Score: 0.6176881839957373\n",
      "Oob Score: 0.8810135647834894\n"
     ]
    }
   ],
   "source": [
    "best_bag_knn = BaggingRegressor(best_model_knn,n_estimators = grid_bag_knn.best_params_['n_estimators'],bootstrap = True,oob_score=True,random_state=0)\n",
    "best_bag_knn.fit(X_train, Y_train)\n",
    "print(\"Best cross-validation accuracy: {:.2f}\".format(grid_bag_knn.best_score_))\n",
    "print(\"Train Set Score: {}\".format(grid_bag_knn.score(X_train, Y_train)))\n",
    "print(\"Test Set Score: {}\".format(grid_bag_knn.score(X_test,Y_test)))\n",
    "print(\"Oob Score: {}\".format(best_bag_knn.oob_score_))"
   ]
  },
  {
   "cell_type": "markdown",
   "metadata": {},
   "source": [
    "### Pasting"
   ]
  },
  {
   "cell_type": "code",
   "execution_count": 37,
   "metadata": {},
   "outputs": [
    {
     "data": {
      "text/plain": [
       "GridSearchCV(cv=5, error_score='raise-deprecating',\n",
       "       estimator=BaggingRegressor(base_estimator=KNeighborsRegressor(algorithm='auto', leaf_size=30, metric='minkowski',\n",
       "          metric_params=None, n_jobs=None, n_neighbors=5, p=2,\n",
       "          weights='uniform'),\n",
       "         bootstrap=False, bootstrap_features=False, max_features=1.0,\n",
       "         max_samples=1.0, n_estimators=10, n_jobs=None, oob_score=False,\n",
       "         random_state=0, verbose=0, warm_start=False),\n",
       "       fit_params=None, iid='warn', n_jobs=None,\n",
       "       param_grid={'n_estimators': [50, 100, 200]},\n",
       "       pre_dispatch='2*n_jobs', refit=True, return_train_score=True,\n",
       "       scoring=None, verbose=0)"
      ]
     },
     "execution_count": 37,
     "metadata": {},
     "output_type": "execute_result"
    }
   ],
   "source": [
    "p_knn = BaggingRegressor(best_model_knn, bootstrap = False,random_state=0)\n",
    "param_grid = {'n_estimators': [50,100,200]}\n",
    "grid_p_knn = GridSearchCV(p_knn, param_grid, cv = 5,return_train_score=True)\n",
    "grid_p_knn.fit(X_train, Y_train)"
   ]
  },
  {
   "cell_type": "code",
   "execution_count": 38,
   "metadata": {},
   "outputs": [
    {
     "name": "stdout",
     "output_type": "stream",
     "text": [
      "Best cross-validation accuracy: 0.86\n",
      "Best parameters: {'n_estimators': 50}\n",
      "Train Set Score: 0.9217826281635184\n",
      "Test Set Score: 0.621843468697173\n"
     ]
    }
   ],
   "source": [
    "print(\"Best cross-validation accuracy: {:.2f}\".format(grid_p_knn.best_score_))\n",
    "print(\"Best parameters: {}\".format(grid_p_knn.best_params_))\n",
    "print(\"Train Set Score: {}\".format(grid_p_knn.score(X_train, Y_train)))\n",
    "print(\"Test Set Score: {}\".format(grid_p_knn.score(X_test,Y_test)))"
   ]
  },
  {
   "cell_type": "markdown",
   "metadata": {},
   "source": [
    "### AdaBoost"
   ]
  },
  {
   "cell_type": "code",
   "execution_count": 39,
   "metadata": {},
   "outputs": [
    {
     "data": {
      "text/plain": [
       "GridSearchCV(cv=5, error_score='raise-deprecating',\n",
       "       estimator=AdaBoostRegressor(base_estimator=KNeighborsRegressor(algorithm='auto', leaf_size=30, metric='minkowski',\n",
       "          metric_params=None, n_jobs=None, n_neighbors=5, p=2,\n",
       "          weights='uniform'),\n",
       "         learning_rate=1.0, loss='linear', n_estimators=50, random_state=0),\n",
       "       fit_params=None, iid='warn', n_jobs=None,\n",
       "       param_grid={'learning_rate': [0.01, 0.03, 0.1, 0.3, 1.0], 'n_estimators': [50, 100, 200]},\n",
       "       pre_dispatch='2*n_jobs', refit=True, return_train_score=True,\n",
       "       scoring=None, verbose=0)"
      ]
     },
     "execution_count": 39,
     "metadata": {},
     "output_type": "execute_result"
    }
   ],
   "source": [
    "adbst_knn = AdaBoostRegressor(best_model_knn,random_state=0)\n",
    "param_grid = {'learning_rate': [0.01,0.03,0.1,0.3,1.0],\n",
    "              'n_estimators': [50,100,200]}\n",
    "grid_adbst_knn = GridSearchCV(adbst_knn, param_grid, cv = 5,return_train_score=True)\n",
    "grid_adbst_knn.fit(X_train, Y_train)"
   ]
  },
  {
   "cell_type": "code",
   "execution_count": 40,
   "metadata": {},
   "outputs": [
    {
     "name": "stdout",
     "output_type": "stream",
     "text": [
      "Best cross-validation accuracy: 0.87\n",
      "Best parameters: {'learning_rate': 0.03, 'n_estimators': 100}\n",
      "Train Set Score: 0.9761442593244664\n",
      "Test Set Score: 0.6640348528245732\n"
     ]
    }
   ],
   "source": [
    "print(\"Best cross-validation accuracy: {:.2f}\".format(grid_adbst_knn.best_score_))\n",
    "print(\"Best parameters: {}\".format(grid_adbst_knn.best_params_))\n",
    "print(\"Train Set Score: {}\".format(grid_adbst_knn.score(X_train, Y_train)))\n",
    "print(\"Test Set Score: {}\".format(grid_adbst_knn.score(X_test,Y_test)))"
   ]
  },
  {
   "cell_type": "markdown",
   "metadata": {},
   "source": [
    "### Gradient Boosting"
   ]
  },
  {
   "cell_type": "code",
   "execution_count": 41,
   "metadata": {},
   "outputs": [
    {
     "data": {
      "text/plain": [
       "GridSearchCV(cv=5, error_score='raise-deprecating',\n",
       "       estimator=GradientBoostingRegressor(alpha=0.9, criterion='friedman_mse', init=None,\n",
       "             learning_rate=0.1, loss='ls', max_depth=3, max_features=None,\n",
       "             max_leaf_nodes=None, min_impurity_decrease=0.0,\n",
       "             min_impurity_split=None, min_samples_leaf=1,\n",
       "             min_sampl...ate=0, subsample=1.0, tol=0.0001,\n",
       "             validation_fraction=0.1, verbose=0, warm_start=False),\n",
       "       fit_params=None, iid='warn', n_jobs=None,\n",
       "       param_grid={'max_depth': [1, 2], 'learning_rate': [0.01, 0.03, 0.1, 0.3, 1.0], 'n_estimators': [50, 100, 200]},\n",
       "       pre_dispatch='2*n_jobs', refit=True, return_train_score=True,\n",
       "       scoring=None, verbose=0)"
      ]
     },
     "execution_count": 41,
     "metadata": {},
     "output_type": "execute_result"
    }
   ],
   "source": [
    "gbrt_knn = GradientBoostingRegressor(random_state=0)\n",
    "param_grid = {'max_depth':[1,2],\n",
    "              'learning_rate' : [0.01,0.03,0.1,0.3,1.0],\n",
    "              'n_estimators': [50,100,200]}\n",
    "grid_gbrt_knn = GridSearchCV(gbrt_knn, param_grid, cv = 5,return_train_score=True)\n",
    "grid_gbrt_knn.fit(X_train, Y_train)"
   ]
  },
  {
   "cell_type": "code",
   "execution_count": 42,
   "metadata": {},
   "outputs": [
    {
     "name": "stdout",
     "output_type": "stream",
     "text": [
      "Best cross-validation accuracy: 0.91\n",
      "Best parameters: {'learning_rate': 0.3, 'max_depth': 1, 'n_estimators': 50}\n",
      "Train Set Score: 0.9643050053938437\n",
      "Test Set Score: 0.7469108841142499\n"
     ]
    }
   ],
   "source": [
    "print(\"Best cross-validation accuracy: {:.2f}\".format(grid_gbrt_knn.best_score_))\n",
    "print(\"Best parameters: {}\".format(grid_gbrt_knn.best_params_))\n",
    "print(\"Train Set Score: {}\".format(grid_gbrt_knn.score(X_train, Y_train)))\n",
    "print(\"Test Set Score: {}\".format(grid_gbrt_knn.score(X_test,Y_test)))"
   ]
  },
  {
   "cell_type": "markdown",
   "metadata": {},
   "source": [
    "## 3 : Stochastic Gradient Descent"
   ]
  },
  {
   "cell_type": "code",
   "execution_count": 43,
   "metadata": {},
   "outputs": [],
   "source": [
    "from sklearn.model_selection import GridSearchCV\n",
    "from sklearn.linear_model import SGDRegressor\n",
    "sgd_reg=SGDRegressor()"
   ]
  },
  {
   "cell_type": "code",
   "execution_count": 44,
   "metadata": {},
   "outputs": [
    {
     "name": "stdout",
     "output_type": "stream",
     "text": [
      "Defined Parameters:\n",
      "{'max_iter': [10, 100, 1000], 'learning_rate': ['optimal'], 'penalty': ['l1', 'l2'], 'random_state': [0]}\n"
     ]
    }
   ],
   "source": [
    "param_sgd = {'max_iter': [10, 100, 1000],'learning_rate':['optimal'], 'penalty' :['l1','l2'],'random_state':[0]}\n",
    "print(\"Defined Parameters:\\n{}\".format(param_sgd))"
   ]
  },
  {
   "cell_type": "code",
   "execution_count": 45,
   "metadata": {},
   "outputs": [
    {
     "data": {
      "text/plain": [
       "GridSearchCV(cv=5, error_score='raise-deprecating',\n",
       "       estimator=SGDRegressor(alpha=0.0001, average=False, early_stopping=False, epsilon=0.1,\n",
       "       eta0=0.01, fit_intercept=True, l1_ratio=0.15,\n",
       "       learning_rate='invscaling', loss='squared_loss', max_iter=None,\n",
       "       n_iter=None, n_iter_no_change=5, penalty='l2', power_t=0.25,\n",
       "       random_state=None, shuffle=True, tol=None, validation_fraction=0.1,\n",
       "       verbose=0, warm_start=False),\n",
       "       fit_params=None, iid='warn', n_jobs=None,\n",
       "       param_grid={'max_iter': [10, 100, 1000], 'learning_rate': ['optimal'], 'penalty': ['l1', 'l2'], 'random_state': [0]},\n",
       "       pre_dispatch='2*n_jobs', refit=True, return_train_score=True,\n",
       "       scoring=None, verbose=0)"
      ]
     },
     "execution_count": 45,
     "metadata": {},
     "output_type": "execute_result"
    }
   ],
   "source": [
    "grid_sgd = GridSearchCV(estimator = sgd_reg, param_grid = param_sgd, cv=5, return_train_score=True)\n",
    "grid_sgd.fit(X_train, Y_train)"
   ]
  },
  {
   "cell_type": "code",
   "execution_count": 46,
   "metadata": {},
   "outputs": [
    {
     "name": "stdout",
     "output_type": "stream",
     "text": [
      "Best cross-validation accuracy: -711638552861.15\n",
      "Best parameters: {'learning_rate': 'optimal', 'max_iter': 1000, 'penalty': 'l2', 'random_state': 0}\n",
      "Train Set Score: -107484545826.84642\n",
      "Test Set Score: -79888906589.90059\n"
     ]
    }
   ],
   "source": [
    "print(\"Best cross-validation accuracy: {:.2f}\".format(grid_sgd.best_score_))\n",
    "print(\"Best parameters: {}\".format(grid_sgd.best_params_))\n",
    "print(\"Train Set Score: {}\".format(grid_sgd.score(X_train, Y_train)))\n",
    "print(\"Test Set Score: {}\".format(grid_sgd.score(X_test, Y_test)))"
   ]
  },
  {
   "cell_type": "code",
   "execution_count": 47,
   "metadata": {},
   "outputs": [],
   "source": [
    "best_sgd_reg=SGDRegressor(learning_rate=grid_sgd.best_params_['learning_rate'],max_iter=grid_sgd.best_params_['max_iter'],penalty=grid_sgd.best_params_['penalty'],random_state=0)"
   ]
  },
  {
   "cell_type": "markdown",
   "metadata": {},
   "source": [
    "### Bagging"
   ]
  },
  {
   "cell_type": "code",
   "execution_count": 48,
   "metadata": {},
   "outputs": [
    {
     "data": {
      "text/plain": [
       "GridSearchCV(cv=5, error_score='raise-deprecating',\n",
       "       estimator=BaggingRegressor(base_estimator=SGDRegressor(alpha=0.0001, average=False, early_stopping=False, epsilon=0.1,\n",
       "       eta0=0.01, fit_intercept=True, l1_ratio=0.15,\n",
       "       learning_rate='optimal', loss='squared_loss', max_iter=1000,\n",
       "       n_iter=None, n_iter_no_change=5, penalty='l2', power_... n_estimators=10, n_jobs=None, oob_score=True,\n",
       "         random_state=0, verbose=0, warm_start=False),\n",
       "       fit_params=None, iid='warn', n_jobs=None,\n",
       "       param_grid={'n_estimators': [50, 100, 200]},\n",
       "       pre_dispatch='2*n_jobs', refit=True, return_train_score=True,\n",
       "       scoring=None, verbose=0)"
      ]
     },
     "execution_count": 48,
     "metadata": {},
     "output_type": "execute_result"
    }
   ],
   "source": [
    "bag_sgd = BaggingRegressor(best_sgd_reg, bootstrap = True,oob_score=True,random_state=0)\n",
    "param_grid = {'n_estimators': [50,100,200]}\n",
    "grid_bag_sgd = GridSearchCV(bag_sgd, param_grid, cv = 5,return_train_score=True)\n",
    "grid_bag_sgd.fit(X_train, Y_train)"
   ]
  },
  {
   "cell_type": "code",
   "execution_count": 49,
   "metadata": {},
   "outputs": [
    {
     "name": "stdout",
     "output_type": "stream",
     "text": [
      "Best parameters: {'n_estimators': 200}\n"
     ]
    }
   ],
   "source": [
    "print(\"Best parameters: {}\".format(grid_bag_sgd.best_params_))"
   ]
  },
  {
   "cell_type": "code",
   "execution_count": 50,
   "metadata": {},
   "outputs": [
    {
     "name": "stdout",
     "output_type": "stream",
     "text": [
      "Best cross-validation accuracy: -73497614945.74\n",
      "Train Set Score: -9553233893.248554\n",
      "Test Set Score: -3586255036.95716\n",
      "Oob Score: -52910347519.02106\n"
     ]
    }
   ],
   "source": [
    "best_bag_sgd = BaggingRegressor(best_sgd_reg,n_estimators = grid_bag_sgd.best_params_['n_estimators'],bootstrap = True,oob_score=True,random_state=0)\n",
    "best_bag_sgd.fit(X_train, Y_train)\n",
    "print(\"Best cross-validation accuracy: {:.2f}\".format(grid_bag_sgd.best_score_))\n",
    "print(\"Train Set Score: {}\".format(grid_bag_sgd.score(X_train, Y_train)))\n",
    "print(\"Test Set Score: {}\".format(grid_bag_sgd.score(X_test,Y_test)))\n",
    "print(\"Oob Score: {}\".format(best_bag_sgd.oob_score_))"
   ]
  },
  {
   "cell_type": "markdown",
   "metadata": {},
   "source": [
    "### Pasting"
   ]
  },
  {
   "cell_type": "code",
   "execution_count": 51,
   "metadata": {},
   "outputs": [
    {
     "data": {
      "text/plain": [
       "GridSearchCV(cv=5, error_score='raise-deprecating',\n",
       "       estimator=BaggingRegressor(base_estimator=SGDRegressor(alpha=0.0001, average=False, early_stopping=False, epsilon=0.1,\n",
       "       eta0=0.01, fit_intercept=True, l1_ratio=0.15,\n",
       "       learning_rate='optimal', loss='squared_loss', max_iter=1000,\n",
       "       n_iter=None, n_iter_no_change=5, penalty='l2', power_...n_estimators=10, n_jobs=None, oob_score=False,\n",
       "         random_state=0, verbose=0, warm_start=False),\n",
       "       fit_params=None, iid='warn', n_jobs=None,\n",
       "       param_grid={'n_estimators': [50, 100, 200]},\n",
       "       pre_dispatch='2*n_jobs', refit=True, return_train_score=True,\n",
       "       scoring=None, verbose=0)"
      ]
     },
     "execution_count": 51,
     "metadata": {},
     "output_type": "execute_result"
    }
   ],
   "source": [
    "p_sgd = BaggingRegressor(best_sgd_reg, bootstrap = False,random_state=0)\n",
    "param_grid = {'n_estimators': [50,100,200]}\n",
    "grid_p_sgd = GridSearchCV(p_sgd, param_grid, cv = 5,return_train_score=True)\n",
    "grid_p_sgd.fit(X_train, Y_train)"
   ]
  },
  {
   "cell_type": "code",
   "execution_count": 52,
   "metadata": {},
   "outputs": [
    {
     "name": "stdout",
     "output_type": "stream",
     "text": [
      "Best cross-validation accuracy: -8927036776.59\n",
      "Best parameters: {'n_estimators': 200}\n",
      "Train Set Score: -1058890255.3373134\n",
      "Test Set Score: -3307987981.7685046\n"
     ]
    }
   ],
   "source": [
    "print(\"Best cross-validation accuracy: {:.2f}\".format(grid_p_sgd.best_score_))\n",
    "print(\"Best parameters: {}\".format(grid_p_sgd.best_params_))\n",
    "print(\"Train Set Score: {}\".format(grid_p_sgd.score(X_train, Y_train)))\n",
    "print(\"Test Set Score: {}\".format(grid_p_sgd.score(X_test,Y_test)))"
   ]
  },
  {
   "cell_type": "markdown",
   "metadata": {},
   "source": [
    "### AdaBoost"
   ]
  },
  {
   "cell_type": "code",
   "execution_count": 53,
   "metadata": {},
   "outputs": [
    {
     "data": {
      "text/plain": [
       "GridSearchCV(cv=5, error_score='raise-deprecating',\n",
       "       estimator=AdaBoostRegressor(base_estimator=SGDRegressor(alpha=0.0001, average=False, early_stopping=False, epsilon=0.1,\n",
       "       eta0=0.01, fit_intercept=True, l1_ratio=0.15,\n",
       "       learning_rate='optimal', loss='squared_loss', max_iter=1000,\n",
       "       n_iter=None, n_iter_no_change=5, penalty='l2', power_t=0.25,\n",
       "       random_state=0, shuffle=True, tol=None, validation_fraction=0.1,\n",
       "       verbose=0, warm_start=False),\n",
       "         learning_rate=1.0, loss='linear', n_estimators=50, random_state=0),\n",
       "       fit_params=None, iid='warn', n_jobs=None,\n",
       "       param_grid={'learning_rate': [0.01, 0.03, 0.1, 0.3, 1.0], 'n_estimators': [50, 100, 200]},\n",
       "       pre_dispatch='2*n_jobs', refit=True, return_train_score=True,\n",
       "       scoring=None, verbose=0)"
      ]
     },
     "execution_count": 53,
     "metadata": {},
     "output_type": "execute_result"
    }
   ],
   "source": [
    "adbst_sgd = AdaBoostRegressor(best_sgd_reg,random_state=0)\n",
    "param_grid = {'learning_rate': [0.01,0.03,0.1,0.3,1.0],\n",
    "              'n_estimators': [50,100,200]}\n",
    "grid_adbst_sgd = GridSearchCV(adbst_sgd, param_grid, cv = 5,return_train_score=True)\n",
    "grid_adbst_sgd.fit(X_train, Y_train)"
   ]
  },
  {
   "cell_type": "code",
   "execution_count": 54,
   "metadata": {},
   "outputs": [
    {
     "name": "stdout",
     "output_type": "stream",
     "text": [
      "Best cross-validation accuracy: -5485318331.42\n",
      "Best parameters: {'learning_rate': 0.03, 'n_estimators': 200}\n",
      "Train Set Score: -925668160.083588\n",
      "Test Set Score: -1690038363.2698963\n"
     ]
    }
   ],
   "source": [
    "print(\"Best cross-validation accuracy: {:.2f}\".format(grid_adbst_sgd.best_score_))\n",
    "print(\"Best parameters: {}\".format(grid_adbst_sgd.best_params_))\n",
    "print(\"Train Set Score: {}\".format(grid_adbst_sgd.score(X_train, Y_train)))\n",
    "print(\"Test Set Score: {}\".format(grid_adbst_sgd.score(X_test,Y_test)))"
   ]
  },
  {
   "cell_type": "markdown",
   "metadata": {},
   "source": [
    "### Gradient Boosting"
   ]
  },
  {
   "cell_type": "code",
   "execution_count": 55,
   "metadata": {},
   "outputs": [
    {
     "data": {
      "text/plain": [
       "GridSearchCV(cv=5, error_score='raise-deprecating',\n",
       "       estimator=GradientBoostingRegressor(alpha=0.9, criterion='friedman_mse', init=None,\n",
       "             learning_rate=0.1, loss='ls', max_depth=3, max_features=None,\n",
       "             max_leaf_nodes=None, min_impurity_decrease=0.0,\n",
       "             min_impurity_split=None, min_samples_leaf=1,\n",
       "             min_sampl...ate=0, subsample=1.0, tol=0.0001,\n",
       "             validation_fraction=0.1, verbose=0, warm_start=False),\n",
       "       fit_params=None, iid='warn', n_jobs=None,\n",
       "       param_grid={'max_depth': [1, 2], 'learning_rate': [0.01, 0.03, 0.1, 0.3, 1.0], 'n_estimators': [50, 100, 200]},\n",
       "       pre_dispatch='2*n_jobs', refit=True, return_train_score=True,\n",
       "       scoring=None, verbose=0)"
      ]
     },
     "execution_count": 55,
     "metadata": {},
     "output_type": "execute_result"
    }
   ],
   "source": [
    "gbrt_sgd = GradientBoostingRegressor(random_state=0)\n",
    "param_grid = {'max_depth':[1,2],\n",
    "              'learning_rate' : [0.01,0.03,0.1,0.3,1.0],\n",
    "              'n_estimators': [50,100,200]}\n",
    "grid_gbrt_sgd = GridSearchCV(gbrt_sgd, param_grid, cv = 5,return_train_score=True)\n",
    "grid_gbrt_sgd.fit(X_train, Y_train)"
   ]
  },
  {
   "cell_type": "code",
   "execution_count": 56,
   "metadata": {},
   "outputs": [
    {
     "name": "stdout",
     "output_type": "stream",
     "text": [
      "Best cross-validation accuracy: 0.91\n",
      "Best parameters: {'learning_rate': 0.3, 'max_depth': 1, 'n_estimators': 50}\n",
      "Train Set Score: 0.9643050053938437\n",
      "Test Set Score: 0.7469108841142499\n"
     ]
    }
   ],
   "source": [
    "print(\"Best cross-validation accuracy: {:.2f}\".format(grid_gbrt_sgd.best_score_))\n",
    "print(\"Best parameters: {}\".format(grid_gbrt_sgd.best_params_))\n",
    "print(\"Train Set Score: {}\".format(grid_gbrt_sgd.score(X_train, Y_train)))\n",
    "print(\"Test Set Score: {}\".format(grid_gbrt_sgd.score(X_test,Y_test)))"
   ]
  },
  {
   "cell_type": "markdown",
   "metadata": {},
   "source": [
    "## 4 : Support Vector Machines"
   ]
  },
  {
   "cell_type": "code",
   "execution_count": 57,
   "metadata": {},
   "outputs": [
    {
     "name": "stdout",
     "output_type": "stream",
     "text": [
      "Defined Parameters:\n",
      "{'C': [0.001, 0.01, 0.1, 1, 10, 100], 'gamma': [0.001, 0.01, 0.1, 1, 10, 100]}\n"
     ]
    }
   ],
   "source": [
    "from sklearn.svm import SVR\n",
    "model_RadSVM = SVR(kernel = 'rbf')\n",
    "param_RadSVM = {'C': [0.001, 0.01, 0.1, 1, 10, 100],'gamma': [0.001, 0.01, 0.1, 1, 10, 100]}\n",
    "print(\"Defined Parameters:\\n{}\".format(param_RadSVM))"
   ]
  },
  {
   "cell_type": "code",
   "execution_count": 58,
   "metadata": {
    "scrolled": true
   },
   "outputs": [
    {
     "data": {
      "text/plain": [
       "GridSearchCV(cv=5, error_score='raise-deprecating',\n",
       "       estimator=SVR(C=1.0, cache_size=200, coef0=0.0, degree=3, epsilon=0.1,\n",
       "  gamma='auto_deprecated', kernel='rbf', max_iter=-1, shrinking=True,\n",
       "  tol=0.001, verbose=False),\n",
       "       fit_params=None, iid='warn', n_jobs=None,\n",
       "       param_grid={'C': [0.001, 0.01, 0.1, 1, 10, 100], 'gamma': [0.001, 0.01, 0.1, 1, 10, 100]},\n",
       "       pre_dispatch='2*n_jobs', refit=True, return_train_score=True,\n",
       "       scoring=None, verbose=0)"
      ]
     },
     "execution_count": 58,
     "metadata": {},
     "output_type": "execute_result"
    }
   ],
   "source": [
    "grid_RadSVM = GridSearchCV(model_RadSVM, param_grid = param_RadSVM, cv=5, return_train_score=True)\n",
    "grid_RadSVM.fit(X_train, Y_train)"
   ]
  },
  {
   "cell_type": "code",
   "execution_count": 59,
   "metadata": {},
   "outputs": [
    {
     "name": "stdout",
     "output_type": "stream",
     "text": [
      "Best parameters: {'C': 100, 'gamma': 0.1}\n"
     ]
    },
    {
     "data": {
      "text/html": [
       "<div>\n",
       "<style>\n",
       "    .dataframe thead tr:only-child th {\n",
       "        text-align: right;\n",
       "    }\n",
       "\n",
       "    .dataframe thead th {\n",
       "        text-align: left;\n",
       "    }\n",
       "\n",
       "    .dataframe tbody tr th {\n",
       "        vertical-align: top;\n",
       "    }\n",
       "</style>\n",
       "<table border=\"1\" class=\"dataframe\">\n",
       "  <thead>\n",
       "    <tr style=\"text-align: right;\">\n",
       "      <th></th>\n",
       "      <th>params</th>\n",
       "      <th>mean_train_score</th>\n",
       "      <th>mean_test_score</th>\n",
       "    </tr>\n",
       "  </thead>\n",
       "  <tbody>\n",
       "    <tr>\n",
       "      <th>0</th>\n",
       "      <td>{'C': 0.001, 'gamma': 0.001}</td>\n",
       "      <td>-0.146889</td>\n",
       "      <td>-0.155298</td>\n",
       "    </tr>\n",
       "    <tr>\n",
       "      <th>1</th>\n",
       "      <td>{'C': 0.001, 'gamma': 0.01}</td>\n",
       "      <td>-0.146881</td>\n",
       "      <td>-0.155289</td>\n",
       "    </tr>\n",
       "    <tr>\n",
       "      <th>2</th>\n",
       "      <td>{'C': 0.001, 'gamma': 0.1}</td>\n",
       "      <td>-0.146852</td>\n",
       "      <td>-0.155258</td>\n",
       "    </tr>\n",
       "    <tr>\n",
       "      <th>3</th>\n",
       "      <td>{'C': 0.001, 'gamma': 1}</td>\n",
       "      <td>-0.146866</td>\n",
       "      <td>-0.155273</td>\n",
       "    </tr>\n",
       "    <tr>\n",
       "      <th>4</th>\n",
       "      <td>{'C': 0.001, 'gamma': 10}</td>\n",
       "      <td>-0.146821</td>\n",
       "      <td>-0.155226</td>\n",
       "    </tr>\n",
       "    <tr>\n",
       "      <th>5</th>\n",
       "      <td>{'C': 0.001, 'gamma': 100}</td>\n",
       "      <td>-0.146799</td>\n",
       "      <td>-0.155198</td>\n",
       "    </tr>\n",
       "    <tr>\n",
       "      <th>6</th>\n",
       "      <td>{'C': 0.01, 'gamma': 0.001}</td>\n",
       "      <td>-0.146879</td>\n",
       "      <td>-0.155288</td>\n",
       "    </tr>\n",
       "    <tr>\n",
       "      <th>7</th>\n",
       "      <td>{'C': 0.01, 'gamma': 0.01}</td>\n",
       "      <td>-0.146792</td>\n",
       "      <td>-0.155200</td>\n",
       "    </tr>\n",
       "    <tr>\n",
       "      <th>8</th>\n",
       "      <td>{'C': 0.01, 'gamma': 0.1}</td>\n",
       "      <td>-0.146505</td>\n",
       "      <td>-0.154889</td>\n",
       "    </tr>\n",
       "    <tr>\n",
       "      <th>9</th>\n",
       "      <td>{'C': 0.01, 'gamma': 1}</td>\n",
       "      <td>-0.146649</td>\n",
       "      <td>-0.155036</td>\n",
       "    </tr>\n",
       "    <tr>\n",
       "      <th>10</th>\n",
       "      <td>{'C': 0.01, 'gamma': 10}</td>\n",
       "      <td>-0.146192</td>\n",
       "      <td>-0.154567</td>\n",
       "    </tr>\n",
       "    <tr>\n",
       "      <th>11</th>\n",
       "      <td>{'C': 0.01, 'gamma': 100}</td>\n",
       "      <td>-0.146029</td>\n",
       "      <td>-0.154418</td>\n",
       "    </tr>\n",
       "    <tr>\n",
       "      <th>12</th>\n",
       "      <td>{'C': 0.1, 'gamma': 0.001}</td>\n",
       "      <td>-0.146779</td>\n",
       "      <td>-0.155189</td>\n",
       "    </tr>\n",
       "    <tr>\n",
       "      <th>13</th>\n",
       "      <td>{'C': 0.1, 'gamma': 0.01}</td>\n",
       "      <td>-0.145904</td>\n",
       "      <td>-0.154314</td>\n",
       "    </tr>\n",
       "    <tr>\n",
       "      <th>14</th>\n",
       "      <td>{'C': 0.1, 'gamma': 0.1}</td>\n",
       "      <td>-0.142836</td>\n",
       "      <td>-0.150991</td>\n",
       "    </tr>\n",
       "    <tr>\n",
       "      <th>15</th>\n",
       "      <td>{'C': 0.1, 'gamma': 1}</td>\n",
       "      <td>-0.144002</td>\n",
       "      <td>-0.152162</td>\n",
       "    </tr>\n",
       "    <tr>\n",
       "      <th>16</th>\n",
       "      <td>{'C': 0.1, 'gamma': 10}</td>\n",
       "      <td>-0.141010</td>\n",
       "      <td>-0.149256</td>\n",
       "    </tr>\n",
       "    <tr>\n",
       "      <th>17</th>\n",
       "      <td>{'C': 0.1, 'gamma': 100}</td>\n",
       "      <td>-0.141626</td>\n",
       "      <td>-0.149870</td>\n",
       "    </tr>\n",
       "    <tr>\n",
       "      <th>18</th>\n",
       "      <td>{'C': 1, 'gamma': 0.001}</td>\n",
       "      <td>-0.145773</td>\n",
       "      <td>-0.154196</td>\n",
       "    </tr>\n",
       "    <tr>\n",
       "      <th>19</th>\n",
       "      <td>{'C': 1, 'gamma': 0.01}</td>\n",
       "      <td>-0.136877</td>\n",
       "      <td>-0.145287</td>\n",
       "    </tr>\n",
       "    <tr>\n",
       "      <th>20</th>\n",
       "      <td>{'C': 1, 'gamma': 0.1}</td>\n",
       "      <td>-0.104351</td>\n",
       "      <td>-0.110242</td>\n",
       "    </tr>\n",
       "    <tr>\n",
       "      <th>21</th>\n",
       "      <td>{'C': 1, 'gamma': 1}</td>\n",
       "      <td>-0.106066</td>\n",
       "      <td>-0.111492</td>\n",
       "    </tr>\n",
       "    <tr>\n",
       "      <th>22</th>\n",
       "      <td>{'C': 1, 'gamma': 10}</td>\n",
       "      <td>-0.107636</td>\n",
       "      <td>-0.115202</td>\n",
       "    </tr>\n",
       "    <tr>\n",
       "      <th>23</th>\n",
       "      <td>{'C': 1, 'gamma': 100}</td>\n",
       "      <td>-0.112700</td>\n",
       "      <td>-0.121562</td>\n",
       "    </tr>\n",
       "    <tr>\n",
       "      <th>24</th>\n",
       "      <td>{'C': 10, 'gamma': 0.001}</td>\n",
       "      <td>-0.135581</td>\n",
       "      <td>-0.144117</td>\n",
       "    </tr>\n",
       "    <tr>\n",
       "      <th>25</th>\n",
       "      <td>{'C': 10, 'gamma': 0.01}</td>\n",
       "      <td>-0.046188</td>\n",
       "      <td>-0.054849</td>\n",
       "    </tr>\n",
       "    <tr>\n",
       "      <th>26</th>\n",
       "      <td>{'C': 10, 'gamma': 0.1}</td>\n",
       "      <td>0.267427</td>\n",
       "      <td>0.275474</td>\n",
       "    </tr>\n",
       "    <tr>\n",
       "      <th>27</th>\n",
       "      <td>{'C': 10, 'gamma': 1}</td>\n",
       "      <td>0.126601</td>\n",
       "      <td>0.131520</td>\n",
       "    </tr>\n",
       "    <tr>\n",
       "      <th>28</th>\n",
       "      <td>{'C': 10, 'gamma': 10}</td>\n",
       "      <td>-0.044923</td>\n",
       "      <td>-0.061840</td>\n",
       "    </tr>\n",
       "    <tr>\n",
       "      <th>29</th>\n",
       "      <td>{'C': 10, 'gamma': 100}</td>\n",
       "      <td>-0.066791</td>\n",
       "      <td>-0.090868</td>\n",
       "    </tr>\n",
       "    <tr>\n",
       "      <th>30</th>\n",
       "      <td>{'C': 100, 'gamma': 0.001}</td>\n",
       "      <td>-0.035588</td>\n",
       "      <td>-0.045281</td>\n",
       "    </tr>\n",
       "    <tr>\n",
       "      <th>31</th>\n",
       "      <td>{'C': 100, 'gamma': 0.01}</td>\n",
       "      <td>0.553009</td>\n",
       "      <td>0.542266</td>\n",
       "    </tr>\n",
       "    <tr>\n",
       "      <th>32</th>\n",
       "      <td>{'C': 100, 'gamma': 0.1}</td>\n",
       "      <td>0.761143</td>\n",
       "      <td>0.758410</td>\n",
       "    </tr>\n",
       "    <tr>\n",
       "      <th>33</th>\n",
       "      <td>{'C': 100, 'gamma': 1}</td>\n",
       "      <td>0.424279</td>\n",
       "      <td>0.390953</td>\n",
       "    </tr>\n",
       "    <tr>\n",
       "      <th>34</th>\n",
       "      <td>{'C': 100, 'gamma': 10}</td>\n",
       "      <td>0.229099</td>\n",
       "      <td>0.118080</td>\n",
       "    </tr>\n",
       "    <tr>\n",
       "      <th>35</th>\n",
       "      <td>{'C': 100, 'gamma': 100}</td>\n",
       "      <td>0.192894</td>\n",
       "      <td>0.044437</td>\n",
       "    </tr>\n",
       "  </tbody>\n",
       "</table>\n",
       "</div>"
      ],
      "text/plain": [
       "                          params  mean_train_score  mean_test_score\n",
       "0   {'C': 0.001, 'gamma': 0.001}         -0.146889        -0.155298\n",
       "1    {'C': 0.001, 'gamma': 0.01}         -0.146881        -0.155289\n",
       "2     {'C': 0.001, 'gamma': 0.1}         -0.146852        -0.155258\n",
       "3       {'C': 0.001, 'gamma': 1}         -0.146866        -0.155273\n",
       "4      {'C': 0.001, 'gamma': 10}         -0.146821        -0.155226\n",
       "5     {'C': 0.001, 'gamma': 100}         -0.146799        -0.155198\n",
       "6    {'C': 0.01, 'gamma': 0.001}         -0.146879        -0.155288\n",
       "7     {'C': 0.01, 'gamma': 0.01}         -0.146792        -0.155200\n",
       "8      {'C': 0.01, 'gamma': 0.1}         -0.146505        -0.154889\n",
       "9        {'C': 0.01, 'gamma': 1}         -0.146649        -0.155036\n",
       "10      {'C': 0.01, 'gamma': 10}         -0.146192        -0.154567\n",
       "11     {'C': 0.01, 'gamma': 100}         -0.146029        -0.154418\n",
       "12    {'C': 0.1, 'gamma': 0.001}         -0.146779        -0.155189\n",
       "13     {'C': 0.1, 'gamma': 0.01}         -0.145904        -0.154314\n",
       "14      {'C': 0.1, 'gamma': 0.1}         -0.142836        -0.150991\n",
       "15        {'C': 0.1, 'gamma': 1}         -0.144002        -0.152162\n",
       "16       {'C': 0.1, 'gamma': 10}         -0.141010        -0.149256\n",
       "17      {'C': 0.1, 'gamma': 100}         -0.141626        -0.149870\n",
       "18      {'C': 1, 'gamma': 0.001}         -0.145773        -0.154196\n",
       "19       {'C': 1, 'gamma': 0.01}         -0.136877        -0.145287\n",
       "20        {'C': 1, 'gamma': 0.1}         -0.104351        -0.110242\n",
       "21          {'C': 1, 'gamma': 1}         -0.106066        -0.111492\n",
       "22         {'C': 1, 'gamma': 10}         -0.107636        -0.115202\n",
       "23        {'C': 1, 'gamma': 100}         -0.112700        -0.121562\n",
       "24     {'C': 10, 'gamma': 0.001}         -0.135581        -0.144117\n",
       "25      {'C': 10, 'gamma': 0.01}         -0.046188        -0.054849\n",
       "26       {'C': 10, 'gamma': 0.1}          0.267427         0.275474\n",
       "27         {'C': 10, 'gamma': 1}          0.126601         0.131520\n",
       "28        {'C': 10, 'gamma': 10}         -0.044923        -0.061840\n",
       "29       {'C': 10, 'gamma': 100}         -0.066791        -0.090868\n",
       "30    {'C': 100, 'gamma': 0.001}         -0.035588        -0.045281\n",
       "31     {'C': 100, 'gamma': 0.01}          0.553009         0.542266\n",
       "32      {'C': 100, 'gamma': 0.1}          0.761143         0.758410\n",
       "33        {'C': 100, 'gamma': 1}          0.424279         0.390953\n",
       "34       {'C': 100, 'gamma': 10}          0.229099         0.118080\n",
       "35      {'C': 100, 'gamma': 100}          0.192894         0.044437"
      ]
     },
     "execution_count": 59,
     "metadata": {},
     "output_type": "execute_result"
    }
   ],
   "source": [
    "print(\"Best parameters: {}\".format(grid_RadSVM.best_params_))\n",
    "grid_RadSVMdata = pd.DataFrame(grid_RadSVM.cv_results_)\n",
    "grid_RadSVMdata = grid_RadSVMdata[['params','mean_train_score','mean_test_score']]\n",
    "grid_RadSVMdata"
   ]
  },
  {
   "cell_type": "code",
   "execution_count": 60,
   "metadata": {
    "scrolled": true
   },
   "outputs": [
    {
     "name": "stdout",
     "output_type": "stream",
     "text": [
      "Best cross-validation accuracy: 0.76\n",
      "Best parameters: {'C': 100, 'gamma': 0.1}\n",
      "Train Set Score: 0.7850569855945213\n",
      "Test Set Score: 0.2657644395494879\n"
     ]
    }
   ],
   "source": [
    "print(\"Best cross-validation accuracy: {:.2f}\".format(grid_RadSVM.best_score_))\n",
    "print(\"Best parameters: {}\".format(grid_RadSVM.best_params_))\n",
    "print(\"Train Set Score: {}\".format(grid_RadSVM.score(X_train, Y_train)))\n",
    "print(\"Test Set Score: {}\".format(grid_RadSVM.score(X_test, Y_test)))"
   ]
  },
  {
   "cell_type": "code",
   "execution_count": 61,
   "metadata": {},
   "outputs": [],
   "source": [
    "best_model_RadSVM=SVR(kernel = 'rbf',C=grid_RadSVM.best_params_['C'],gamma=grid_RadSVM.best_params_['gamma'])"
   ]
  },
  {
   "cell_type": "markdown",
   "metadata": {},
   "source": [
    "### Bagging"
   ]
  },
  {
   "cell_type": "code",
   "execution_count": 62,
   "metadata": {},
   "outputs": [
    {
     "data": {
      "text/plain": [
       "GridSearchCV(cv=5, error_score='raise-deprecating',\n",
       "       estimator=BaggingRegressor(base_estimator=SVR(C=100, cache_size=200, coef0=0.0, degree=3, epsilon=0.1, gamma=0.1,\n",
       "  kernel='rbf', max_iter=-1, shrinking=True, tol=0.001, verbose=False),\n",
       "         bootstrap=True, bootstrap_features=False, max_features=1.0,\n",
       "         max_samples=1.0, n_estimators=10, n_jobs=None, oob_score=True,\n",
       "         random_state=0, verbose=0, warm_start=False),\n",
       "       fit_params=None, iid='warn', n_jobs=None,\n",
       "       param_grid={'n_estimators': [50, 100, 200]},\n",
       "       pre_dispatch='2*n_jobs', refit=True, return_train_score=True,\n",
       "       scoring=None, verbose=0)"
      ]
     },
     "execution_count": 62,
     "metadata": {},
     "output_type": "execute_result"
    }
   ],
   "source": [
    "bag_RadSVM = BaggingRegressor(best_model_RadSVM, bootstrap = True,oob_score=True,random_state=0)\n",
    "param_grid = {'n_estimators': [50,100,200]}\n",
    "grid_bag_RadSVM = GridSearchCV(bag_RadSVM, param_grid, cv = 5,return_train_score=True)\n",
    "grid_bag_RadSVM.fit(X_train, Y_train)"
   ]
  },
  {
   "cell_type": "code",
   "execution_count": 63,
   "metadata": {},
   "outputs": [
    {
     "name": "stdout",
     "output_type": "stream",
     "text": [
      "Best parameters: {'n_estimators': 100}\n"
     ]
    }
   ],
   "source": [
    "print(\"Best parameters: {}\".format(grid_bag_RadSVM.best_params_))"
   ]
  },
  {
   "cell_type": "code",
   "execution_count": 64,
   "metadata": {},
   "outputs": [
    {
     "name": "stdout",
     "output_type": "stream",
     "text": [
      "Best cross-validation accuracy: 0.76\n",
      "Train Set Score: 0.7809271313912293\n",
      "Test Set Score: 0.26336218549677937\n",
      "Oob Score: 0.7612752237174518\n"
     ]
    }
   ],
   "source": [
    "best_bag_RadSVM = BaggingRegressor(best_model_RadSVM,n_estimators = grid_bag_RadSVM.best_params_['n_estimators'],bootstrap = True,oob_score=True,random_state=0)\n",
    "best_bag_RadSVM.fit(X_train, Y_train)\n",
    "print(\"Best cross-validation accuracy: {:.2f}\".format(grid_bag_RadSVM.best_score_))\n",
    "print(\"Train Set Score: {}\".format(grid_bag_RadSVM.score(X_train, Y_train)))\n",
    "print(\"Test Set Score: {}\".format(grid_bag_RadSVM.score(X_test,Y_test)))\n",
    "print(\"Oob Score: {}\".format(best_bag_RadSVM.oob_score_))"
   ]
  },
  {
   "cell_type": "markdown",
   "metadata": {},
   "source": [
    "### Pasting"
   ]
  },
  {
   "cell_type": "code",
   "execution_count": 65,
   "metadata": {},
   "outputs": [
    {
     "data": {
      "text/plain": [
       "GridSearchCV(cv=5, error_score='raise-deprecating',\n",
       "       estimator=BaggingRegressor(base_estimator=SVR(C=100, cache_size=200, coef0=0.0, degree=3, epsilon=0.1, gamma=0.1,\n",
       "  kernel='rbf', max_iter=-1, shrinking=True, tol=0.001, verbose=False),\n",
       "         bootstrap=False, bootstrap_features=False, max_features=1.0,\n",
       "         max_samples=1.0, n_estimators=10, n_jobs=None, oob_score=False,\n",
       "         random_state=0, verbose=0, warm_start=False),\n",
       "       fit_params=None, iid='warn', n_jobs=None,\n",
       "       param_grid={'n_estimators': [50, 100, 200]},\n",
       "       pre_dispatch='2*n_jobs', refit=True, return_train_score=True,\n",
       "       scoring=None, verbose=0)"
      ]
     },
     "execution_count": 65,
     "metadata": {},
     "output_type": "execute_result"
    }
   ],
   "source": [
    "p_RadSVM = BaggingRegressor(best_model_RadSVM, bootstrap = False,random_state=0)\n",
    "param_grid = {'n_estimators': [50,100,200]}\n",
    "grid_p_RadSVM = GridSearchCV(p_RadSVM, param_grid, cv = 5,return_train_score=True)\n",
    "grid_p_RadSVM.fit(X_train, Y_train)"
   ]
  },
  {
   "cell_type": "code",
   "execution_count": 66,
   "metadata": {},
   "outputs": [
    {
     "name": "stdout",
     "output_type": "stream",
     "text": [
      "Best cross-validation accuracy: 0.76\n",
      "Best parameters: {'n_estimators': 50}\n",
      "Train Set Score: 0.7850569855945213\n",
      "Test Set Score: 0.2657644395494879\n"
     ]
    }
   ],
   "source": [
    "print(\"Best cross-validation accuracy: {:.2f}\".format(grid_p_RadSVM.best_score_))\n",
    "print(\"Best parameters: {}\".format(grid_p_RadSVM.best_params_))\n",
    "print(\"Train Set Score: {}\".format(grid_p_RadSVM.score(X_train, Y_train)))\n",
    "print(\"Test Set Score: {}\".format(grid_p_RadSVM.score(X_test,Y_test)))"
   ]
  },
  {
   "cell_type": "markdown",
   "metadata": {},
   "source": [
    "### AdaBoost"
   ]
  },
  {
   "cell_type": "code",
   "execution_count": 67,
   "metadata": {},
   "outputs": [
    {
     "data": {
      "text/plain": [
       "GridSearchCV(cv=5, error_score='raise-deprecating',\n",
       "       estimator=AdaBoostRegressor(base_estimator=SVR(C=100, cache_size=200, coef0=0.0, degree=3, epsilon=0.1, gamma=0.1,\n",
       "  kernel='rbf', max_iter=-1, shrinking=True, tol=0.001, verbose=False),\n",
       "         learning_rate=1.0, loss='linear', n_estimators=50, random_state=0),\n",
       "       fit_params=None, iid='warn', n_jobs=None,\n",
       "       param_grid={'learning_rate': [0.01, 0.03, 0.1, 0.3, 1.0], 'n_estimators': [50, 100, 200]},\n",
       "       pre_dispatch='2*n_jobs', refit=True, return_train_score=True,\n",
       "       scoring=None, verbose=0)"
      ]
     },
     "execution_count": 67,
     "metadata": {},
     "output_type": "execute_result"
    }
   ],
   "source": [
    "adbst_RadSVM = AdaBoostRegressor(best_model_RadSVM,random_state=0)\n",
    "param_grid = {'learning_rate': [0.01,0.03,0.1,0.3,1.0],\n",
    "              'n_estimators': [50,100,200]}\n",
    "grid_adbst_RadSVM = GridSearchCV(adbst_RadSVM, param_grid, cv = 5,return_train_score=True)\n",
    "grid_adbst_RadSVM.fit(X_train, Y_train)"
   ]
  },
  {
   "cell_type": "code",
   "execution_count": 68,
   "metadata": {},
   "outputs": [
    {
     "name": "stdout",
     "output_type": "stream",
     "text": [
      "Best cross-validation accuracy: 0.88\n",
      "Best parameters: {'learning_rate': 0.3, 'n_estimators': 50}\n",
      "Train Set Score: 0.9276826565485606\n",
      "Test Set Score: 0.42058043658337174\n"
     ]
    }
   ],
   "source": [
    "print(\"Best cross-validation accuracy: {:.2f}\".format(grid_adbst_RadSVM.best_score_))\n",
    "print(\"Best parameters: {}\".format(grid_adbst_RadSVM.best_params_))\n",
    "print(\"Train Set Score: {}\".format(grid_adbst_RadSVM.score(X_train, Y_train)))\n",
    "print(\"Test Set Score: {}\".format(grid_adbst_RadSVM.score(X_test,Y_test)))"
   ]
  },
  {
   "cell_type": "markdown",
   "metadata": {},
   "source": [
    "### Gradient Boosting"
   ]
  },
  {
   "cell_type": "code",
   "execution_count": 69,
   "metadata": {},
   "outputs": [
    {
     "data": {
      "text/plain": [
       "GridSearchCV(cv=5, error_score='raise-deprecating',\n",
       "       estimator=GradientBoostingRegressor(alpha=0.9, criterion='friedman_mse', init=None,\n",
       "             learning_rate=0.1, loss='ls', max_depth=3, max_features=None,\n",
       "             max_leaf_nodes=None, min_impurity_decrease=0.0,\n",
       "             min_impurity_split=None, min_samples_leaf=1,\n",
       "             min_sampl...ate=0, subsample=1.0, tol=0.0001,\n",
       "             validation_fraction=0.1, verbose=0, warm_start=False),\n",
       "       fit_params=None, iid='warn', n_jobs=None,\n",
       "       param_grid={'max_depth': [1, 2], 'learning_rate': [0.01, 0.03, 0.1, 0.3, 1.0], 'n_estimators': [50, 100, 200]},\n",
       "       pre_dispatch='2*n_jobs', refit=True, return_train_score=True,\n",
       "       scoring=None, verbose=0)"
      ]
     },
     "execution_count": 69,
     "metadata": {},
     "output_type": "execute_result"
    }
   ],
   "source": [
    "gbrt_RadSVM = GradientBoostingRegressor(random_state=0)\n",
    "param_grid = {'max_depth':[1,2],\n",
    "              'learning_rate' : [0.01,0.03,0.1,0.3,1.0],\n",
    "              'n_estimators': [50,100,200]}\n",
    "grid_gbrt_RadSVM = GridSearchCV(gbrt_RadSVM, param_grid, cv = 5,return_train_score=True)\n",
    "grid_gbrt_RadSVM.fit(X_train, Y_train)"
   ]
  },
  {
   "cell_type": "code",
   "execution_count": 70,
   "metadata": {},
   "outputs": [
    {
     "name": "stdout",
     "output_type": "stream",
     "text": [
      "Best cross-validation accuracy: 0.91\n",
      "Best parameters: {'learning_rate': 0.3, 'max_depth': 1, 'n_estimators': 50}\n",
      "Train Set Score: 0.9643050053938437\n",
      "Test Set Score: 0.7469108841142499\n"
     ]
    }
   ],
   "source": [
    "print(\"Best cross-validation accuracy: {:.2f}\".format(grid_gbrt_RadSVM.best_score_))\n",
    "print(\"Best parameters: {}\".format(grid_gbrt_RadSVM.best_params_))\n",
    "print(\"Train Set Score: {}\".format(grid_gbrt_RadSVM.score(X_train, Y_train)))\n",
    "print(\"Test Set Score: {}\".format(grid_gbrt_RadSVM.score(X_test,Y_test)))"
   ]
  },
  {
   "cell_type": "markdown",
   "metadata": {},
   "source": [
    "## Principal Components Analysis"
   ]
  },
  {
   "cell_type": "code",
   "execution_count": 13,
   "metadata": {},
   "outputs": [],
   "source": [
    "from sklearn.decomposition import PCA\n",
    "\n",
    "pca = PCA(n_components=0.95)\n",
    "X_reduced_train = pca.fit_transform(X_train)\n",
    "X_reduced_test = pca.transform(X_test)"
   ]
  },
  {
   "cell_type": "code",
   "execution_count": 14,
   "metadata": {},
   "outputs": [
    {
     "data": {
      "text/plain": [
       "array([[ -2.28970620e-01,  -1.17548199e-02,  -1.21755077e-01, ...,\n",
       "         -2.73881541e-02,   1.56835513e-02,   7.46708731e-03],\n",
       "       [  7.40617520e-01,   1.93652192e-01,  -1.25140955e-02, ...,\n",
       "         -1.61879203e-01,   7.10926300e-01,   2.06954638e-04],\n",
       "       [ -2.39321565e-01,  -9.61155022e-03,  -9.25995381e-02, ...,\n",
       "         -3.50237237e-02,   1.66773494e-03,  -2.42314928e-02],\n",
       "       ..., \n",
       "       [ -2.26894351e-01,  -1.23149760e-02,  -5.06825078e-02, ...,\n",
       "         -4.36226997e-02,  -1.12389330e-03,   4.14938859e-02],\n",
       "       [ -2.29053024e-01,  -1.44871049e-02,  -1.48203999e-01, ...,\n",
       "         -3.75252268e-02,   1.39751935e-03,  -2.46395446e-02],\n",
       "       [ -3.10347564e-01,   3.61042112e-02,   3.92195919e-01, ...,\n",
       "         -1.48921475e-02,   5.31182977e-03,   1.40779651e-02]])"
      ]
     },
     "execution_count": 14,
     "metadata": {},
     "output_type": "execute_result"
    }
   ],
   "source": [
    "X_reduced_train"
   ]
  },
  {
   "cell_type": "code",
   "execution_count": 15,
   "metadata": {
    "scrolled": true
   },
   "outputs": [
    {
     "data": {
      "text/plain": [
       "array([[ -2.31559729e-01,  -1.35319379e-02,  -1.36872994e-01, ...,\n",
       "         -3.75146889e-02,   1.51487978e-03,  -2.39300548e-02],\n",
       "       [ -2.06997642e-01,  -5.30630761e-03,  -1.76976214e-01, ...,\n",
       "         -4.94357413e-02,   4.16476304e-03,   1.68076562e-02],\n",
       "       [ -2.94954835e-01,   1.73602390e-02,   2.12375759e-01, ...,\n",
       "         -2.09255121e-02,   3.01791927e-03,  -2.16058744e-02],\n",
       "       ..., \n",
       "       [  1.29356326e+00,  -1.29460430e+00,   1.86045708e-01, ...,\n",
       "          5.96165804e-01,   3.00280091e-01,   8.46431481e-03],\n",
       "       [  1.86720929e+00,  -4.37738360e-01,   1.36457697e-01, ...,\n",
       "         -1.77143598e-02,   1.43646412e-01,  -4.97757295e-03],\n",
       "       [ -2.63998663e-01,   7.85966225e-03,   8.26801852e-02, ...,\n",
       "         -2.10086106e-02,   1.06658939e-02,  -1.01856847e-03]])"
      ]
     },
     "execution_count": 15,
     "metadata": {},
     "output_type": "execute_result"
    }
   ],
   "source": [
    "X_reduced_test"
   ]
  },
  {
   "cell_type": "code",
   "execution_count": 16,
   "metadata": {},
   "outputs": [
    {
     "data": {
      "text/plain": [
       "0.9608257827630603"
      ]
     },
     "execution_count": 16,
     "metadata": {},
     "output_type": "execute_result"
    }
   ],
   "source": [
    "pca.explained_variance_ratio_.sum()"
   ]
  },
  {
   "cell_type": "code",
   "execution_count": 17,
   "metadata": {},
   "outputs": [
    {
     "data": {
      "text/plain": [
       "0.039174217236939701"
      ]
     },
     "execution_count": 17,
     "metadata": {},
     "output_type": "execute_result"
    }
   ],
   "source": [
    "1-pca.explained_variance_ratio_.sum()"
   ]
  },
  {
   "cell_type": "markdown",
   "metadata": {},
   "source": [
    "### 1 :  Linear regression"
   ]
  },
  {
   "cell_type": "code",
   "execution_count": 18,
   "metadata": {},
   "outputs": [],
   "source": [
    "from sklearn.linear_model import LinearRegression\n",
    "lreg = LinearRegression()\n",
    "from sklearn.model_selection import cross_val_score"
   ]
  },
  {
   "cell_type": "code",
   "execution_count": 19,
   "metadata": {},
   "outputs": [
    {
     "name": "stdout",
     "output_type": "stream",
     "text": [
      "CV Scores: [ 0.7173823   0.86887584  0.72321096  0.82341475  0.80897773]\n"
     ]
    }
   ],
   "source": [
    "CvScores = cross_val_score(lreg, X_reduced_train, Y_train, cv=5)\n",
    "print(\"CV Scores: {}\".format(CvScores))"
   ]
  },
  {
   "cell_type": "code",
   "execution_count": 20,
   "metadata": {},
   "outputs": [
    {
     "name": "stdout",
     "output_type": "stream",
     "text": [
      "Train Set Score: 0.79\n",
      "Test Set Score: 0.72\n"
     ]
    }
   ],
   "source": [
    "Train_Score = CvScores.mean()\n",
    "print(\"Train Set Score: {:.2f}\".format(Train_Score))\n",
    "lreg.fit(X_reduced_train, Y_train)\n",
    "Test_Score = lreg.score(X_reduced_test,Y_test)\n",
    "print(\"Test Set Score: {:.2f}\".format(Test_Score))"
   ]
  },
  {
   "cell_type": "code",
   "execution_count": 21,
   "metadata": {},
   "outputs": [],
   "source": [
    "report_table = [['Linear Regression', 'None', Train_Score, Test_Score]]"
   ]
  },
  {
   "cell_type": "markdown",
   "metadata": {},
   "source": [
    "### 2 : KNN Regressor "
   ]
  },
  {
   "cell_type": "code",
   "execution_count": 22,
   "metadata": {},
   "outputs": [],
   "source": [
    "from sklearn.neighbors import KNeighborsRegressor\n",
    "from sklearn.model_selection import GridSearchCV\n",
    "model_knn = KNeighborsRegressor()"
   ]
  },
  {
   "cell_type": "code",
   "execution_count": 23,
   "metadata": {},
   "outputs": [
    {
     "name": "stdout",
     "output_type": "stream",
     "text": [
      "Defined Parameters:\n",
      "{'n_neighbors': [1, 5, 10, 15, 20]}\n"
     ]
    }
   ],
   "source": [
    "param_knn = {'n_neighbors':[1, 5, 10, 15, 20]}\n",
    "print(\"Defined Parameters:\\n{}\".format(param_knn))"
   ]
  },
  {
   "cell_type": "code",
   "execution_count": 24,
   "metadata": {},
   "outputs": [
    {
     "data": {
      "text/plain": [
       "GridSearchCV(cv=5, error_score='raise-deprecating',\n",
       "       estimator=KNeighborsRegressor(algorithm='auto', leaf_size=30, metric='minkowski',\n",
       "          metric_params=None, n_jobs=None, n_neighbors=5, p=2,\n",
       "          weights='uniform'),\n",
       "       fit_params=None, iid='warn', n_jobs=None,\n",
       "       param_grid={'n_neighbors': [1, 5, 10, 15, 20]},\n",
       "       pre_dispatch='2*n_jobs', refit=True, return_train_score=True,\n",
       "       scoring=None, verbose=0)"
      ]
     },
     "execution_count": 24,
     "metadata": {},
     "output_type": "execute_result"
    }
   ],
   "source": [
    "grid_knn = GridSearchCV(model_knn, param_grid = param_knn, cv=5, return_train_score=True)\n",
    "grid_knn.fit(X_reduced_train, Y_train)"
   ]
  },
  {
   "cell_type": "code",
   "execution_count": 25,
   "metadata": {},
   "outputs": [
    {
     "name": "stdout",
     "output_type": "stream",
     "text": [
      "Best cross-validation accuracy: 0.73\n",
      "Best parameters: {'n_neighbors': 5}\n",
      "Train Set Score: 0.7729707402651411\n",
      "Test Set Score: 0.6634346085568215\n"
     ]
    }
   ],
   "source": [
    "print(\"Best cross-validation accuracy: {:.2f}\".format(grid_knn.best_score_))\n",
    "print(\"Best parameters: {}\".format(grid_knn.best_params_))\n",
    "print(\"Train Set Score: {}\".format(grid_knn.score(X_reduced_train, Y_train)))\n",
    "print(\"Test Set Score: {}\".format(grid_knn.score(X_reduced_test,Y_test)))"
   ]
  },
  {
   "cell_type": "code",
   "execution_count": 26,
   "metadata": {},
   "outputs": [],
   "source": [
    "report_table = report_table + [['KNN Regression', 'K = 5', grid_knn.score(X_reduced_train, Y_train), grid_knn.score(X_reduced_test,Y_test)]]"
   ]
  },
  {
   "cell_type": "markdown",
   "metadata": {},
   "source": [
    "### 3 : Ridge"
   ]
  },
  {
   "cell_type": "code",
   "execution_count": 27,
   "metadata": {},
   "outputs": [
    {
     "name": "stdout",
     "output_type": "stream",
     "text": [
      "Defined Parameters:\n",
      "{'alpha': [0.001, 0.003, 0.01, 0.03, 0.1, 0.3, 1, 3, 10, 30, 100, 300, 1000]}\n"
     ]
    }
   ],
   "source": [
    "from sklearn.linear_model import Ridge\n",
    "model_ridge = Ridge()\n",
    "param_ridge = {'alpha': [0.001,0.003,0.01,0.03,0.1,0.3,1,3,10,30,100,300,1000]}\n",
    "print(\"Defined Parameters:\\n{}\".format(param_ridge))"
   ]
  },
  {
   "cell_type": "code",
   "execution_count": 28,
   "metadata": {},
   "outputs": [
    {
     "data": {
      "text/plain": [
       "GridSearchCV(cv=5, error_score='raise-deprecating',\n",
       "       estimator=Ridge(alpha=1.0, copy_X=True, fit_intercept=True, max_iter=None,\n",
       "   normalize=False, random_state=None, solver='auto', tol=0.001),\n",
       "       fit_params=None, iid='warn', n_jobs=None,\n",
       "       param_grid={'alpha': [0.001, 0.003, 0.01, 0.03, 0.1, 0.3, 1, 3, 10, 30, 100, 300, 1000]},\n",
       "       pre_dispatch='2*n_jobs', refit=True, return_train_score=True,\n",
       "       scoring=None, verbose=0)"
      ]
     },
     "execution_count": 28,
     "metadata": {},
     "output_type": "execute_result"
    }
   ],
   "source": [
    "grid_ridge = GridSearchCV(estimator = model_ridge,param_grid = param_ridge, cv=5, return_train_score=True)\n",
    "grid_ridge.fit(X_reduced_train, Y_train)"
   ]
  },
  {
   "cell_type": "code",
   "execution_count": 29,
   "metadata": {},
   "outputs": [
    {
     "name": "stdout",
     "output_type": "stream",
     "text": [
      "Best cross-validation accuracy: 0.83\n",
      "Best parameters: {'alpha': 30}\n",
      "Train Set Score: 0.8329935912876725\n",
      "Test Set Score: 0.8061452850650876\n"
     ]
    }
   ],
   "source": [
    "print(\"Best cross-validation accuracy: {:.2f}\".format(grid_ridge.best_score_))\n",
    "print(\"Best parameters: {}\".format(grid_ridge.best_params_))\n",
    "print(\"Train Set Score: {}\".format(grid_ridge.score(X_reduced_train, Y_train)))\n",
    "print(\"Test Set Score: {}\".format(grid_ridge.score(X_reduced_test, Y_test)))"
   ]
  },
  {
   "cell_type": "code",
   "execution_count": 30,
   "metadata": {},
   "outputs": [],
   "source": [
    "report_table = report_table + [['Ridge Regression', 'alpha = 0.3', grid_ridge.score(X_reduced_train, Y_train), grid_ridge.score(X_reduced_test,Y_test)]]"
   ]
  },
  {
   "cell_type": "markdown",
   "metadata": {},
   "source": [
    "### 4 : Lasso"
   ]
  },
  {
   "cell_type": "code",
   "execution_count": 31,
   "metadata": {},
   "outputs": [],
   "source": [
    "from  sklearn.linear_model import Lasso\n",
    "model_lasso = Lasso()"
   ]
  },
  {
   "cell_type": "code",
   "execution_count": 32,
   "metadata": {},
   "outputs": [
    {
     "name": "stdout",
     "output_type": "stream",
     "text": [
      "Defined Parameters:\n",
      "{'alpha': [0.001, 0.003, 0.01, 0.03, 0.1, 0.3, 1, 3, 10, 30, 100, 300, 1000]}\n"
     ]
    }
   ],
   "source": [
    "param_lasso = {'alpha': [0.001,0.003,0.01,0.03,0.1,0.3,1,3,10,30,100,300,1000]}\n",
    "print(\"Defined Parameters:\\n{}\".format(param_lasso))"
   ]
  },
  {
   "cell_type": "code",
   "execution_count": 33,
   "metadata": {},
   "outputs": [
    {
     "data": {
      "text/plain": [
       "GridSearchCV(cv=5, error_score='raise-deprecating',\n",
       "       estimator=Lasso(alpha=1.0, copy_X=True, fit_intercept=True, max_iter=1000,\n",
       "   normalize=False, positive=False, precompute=False, random_state=None,\n",
       "   selection='cyclic', tol=0.0001, warm_start=False),\n",
       "       fit_params=None, iid='warn', n_jobs=None,\n",
       "       param_grid={'alpha': [0.001, 0.003, 0.01, 0.03, 0.1, 0.3, 1, 3, 10, 30, 100, 300, 1000]},\n",
       "       pre_dispatch='2*n_jobs', refit=True, return_train_score=True,\n",
       "       scoring=None, verbose=0)"
      ]
     },
     "execution_count": 33,
     "metadata": {},
     "output_type": "execute_result"
    }
   ],
   "source": [
    "grid_lasso = GridSearchCV(model_lasso, param_grid = param_lasso, cv=5, return_train_score=True)\n",
    "grid_lasso.fit(X_reduced_train, Y_train)"
   ]
  },
  {
   "cell_type": "code",
   "execution_count": 34,
   "metadata": {},
   "outputs": [
    {
     "name": "stdout",
     "output_type": "stream",
     "text": [
      "Best cross-validation accuracy: 0.80\n",
      "Best parameters: {'alpha': 3}\n",
      "Train Set Score: 0.8751343199605988\n",
      "Test Set Score: 0.7332974374871495\n"
     ]
    }
   ],
   "source": [
    "print(\"Best cross-validation accuracy: {:.2f}\".format(grid_lasso.best_score_))\n",
    "print(\"Best parameters: {}\".format(grid_lasso.best_params_))\n",
    "print(\"Train Set Score: {}\".format(grid_lasso.score(X_reduced_train, Y_train)))\n",
    "print(\"Test Set Score: {}\".format(grid_lasso.score(X_reduced_test, Y_test)))"
   ]
  },
  {
   "cell_type": "code",
   "execution_count": 35,
   "metadata": {},
   "outputs": [],
   "source": [
    "report_table = report_table + [['Lasso Regression', 'alpha = 1', grid_lasso.score(X_reduced_train, Y_train), grid_lasso.score(X_reduced_test,Y_test)]]"
   ]
  },
  {
   "cell_type": "markdown",
   "metadata": {},
   "source": [
    "### 5 : Polynomial Regression"
   ]
  },
  {
   "cell_type": "code",
   "execution_count": 36,
   "metadata": {},
   "outputs": [],
   "source": [
    "from sklearn.preprocessing import PolynomialFeatures\n",
    "poly = PolynomialFeatures(degree=2)"
   ]
  },
  {
   "cell_type": "code",
   "execution_count": 37,
   "metadata": {},
   "outputs": [
    {
     "name": "stdout",
     "output_type": "stream",
     "text": [
      "Train Set Score: -1.13\n",
      "Test Set Score: -1.13\n"
     ]
    }
   ],
   "source": [
    "Train_Score_List = []\n",
    "Test_Score_List = []\n",
    "lreg_poly = LinearRegression()\n",
    "\n",
    "X_Train_Poly = poly.fit_transform(X_reduced_train)\n",
    "X_Test_Poly = poly.transform(X_reduced_test)\n",
    "PolCVScore = cross_val_score(lreg_poly, X_Train_Poly, Y_train, cv=5)\n",
    "lreg_poly.fit(X_Train_Poly,Y_train)\n",
    "Train_ScorePoly = lreg_poly.score(X_Test_Poly,Y_test)\n",
    "\n",
    "Train_ScorePoly = PolCVScore.mean()\n",
    "print(\"Train Set Score: {:.2f}\".format(PolCVScore.mean()))\n",
    "print(\"Test Set Score: {:.2f}\".format(Train_ScorePoly))"
   ]
  },
  {
   "cell_type": "code",
   "execution_count": 38,
   "metadata": {},
   "outputs": [],
   "source": [
    "report_table = report_table + [['Polynomial Regression', 'Degree = 2', PolCVScore.mean(), Train_ScorePoly]]"
   ]
  },
  {
   "cell_type": "markdown",
   "metadata": {},
   "source": [
    "### 6 : Stochastic Gradient Descent"
   ]
  },
  {
   "cell_type": "code",
   "execution_count": 39,
   "metadata": {},
   "outputs": [],
   "source": [
    "from sklearn.linear_model import SGDRegressor\n",
    "sgd_reg=SGDRegressor()"
   ]
  },
  {
   "cell_type": "code",
   "execution_count": 40,
   "metadata": {},
   "outputs": [
    {
     "name": "stdout",
     "output_type": "stream",
     "text": [
      "Defined Parameters:\n",
      "{'max_iter': [10, 100, 1000], 'learning_rate': ['optimal'], 'penalty': ['l1', 'l2'], 'random_state': [0]}\n"
     ]
    }
   ],
   "source": [
    "param_sgd = {'max_iter': [10, 100, 1000],'learning_rate':['optimal'], 'penalty' :['l1','l2'],'random_state':[0]}\n",
    "print(\"Defined Parameters:\\n{}\".format(param_sgd))"
   ]
  },
  {
   "cell_type": "code",
   "execution_count": 41,
   "metadata": {},
   "outputs": [
    {
     "data": {
      "text/plain": [
       "GridSearchCV(cv=5, error_score='raise-deprecating',\n",
       "       estimator=SGDRegressor(alpha=0.0001, average=False, early_stopping=False, epsilon=0.1,\n",
       "       eta0=0.01, fit_intercept=True, l1_ratio=0.15,\n",
       "       learning_rate='invscaling', loss='squared_loss', max_iter=None,\n",
       "       n_iter=None, n_iter_no_change=5, penalty='l2', power_t=0.25,\n",
       "       random_state=None, shuffle=True, tol=None, validation_fraction=0.1,\n",
       "       verbose=0, warm_start=False),\n",
       "       fit_params=None, iid='warn', n_jobs=None,\n",
       "       param_grid={'max_iter': [10, 100, 1000], 'learning_rate': ['optimal'], 'penalty': ['l1', 'l2'], 'random_state': [0]},\n",
       "       pre_dispatch='2*n_jobs', refit=True, return_train_score=True,\n",
       "       scoring=None, verbose=0)"
      ]
     },
     "execution_count": 41,
     "metadata": {},
     "output_type": "execute_result"
    }
   ],
   "source": [
    "grid_sgd = GridSearchCV(estimator = sgd_reg, param_grid = param_sgd, cv=5, return_train_score=True)\n",
    "grid_sgd.fit(X_reduced_train, Y_train)"
   ]
  },
  {
   "cell_type": "code",
   "execution_count": 42,
   "metadata": {},
   "outputs": [
    {
     "name": "stdout",
     "output_type": "stream",
     "text": [
      "Best parameters: {'learning_rate': 'optimal', 'max_iter': 1000, 'penalty': 'l2', 'random_state': 0}\n"
     ]
    },
    {
     "data": {
      "text/html": [
       "<div>\n",
       "<style>\n",
       "    .dataframe thead tr:only-child th {\n",
       "        text-align: right;\n",
       "    }\n",
       "\n",
       "    .dataframe thead th {\n",
       "        text-align: left;\n",
       "    }\n",
       "\n",
       "    .dataframe tbody tr th {\n",
       "        vertical-align: top;\n",
       "    }\n",
       "</style>\n",
       "<table border=\"1\" class=\"dataframe\">\n",
       "  <thead>\n",
       "    <tr style=\"text-align: right;\">\n",
       "      <th></th>\n",
       "      <th>params</th>\n",
       "      <th>mean_train_score</th>\n",
       "      <th>mean_test_score</th>\n",
       "    </tr>\n",
       "  </thead>\n",
       "  <tbody>\n",
       "    <tr>\n",
       "      <th>0</th>\n",
       "      <td>{'learning_rate': 'optimal', 'max_iter': 10, '...</td>\n",
       "      <td>-1.179081e+19</td>\n",
       "      <td>-3.054691e+19</td>\n",
       "    </tr>\n",
       "    <tr>\n",
       "      <th>1</th>\n",
       "      <td>{'learning_rate': 'optimal', 'max_iter': 10, '...</td>\n",
       "      <td>-1.001653e+19</td>\n",
       "      <td>-2.238984e+19</td>\n",
       "    </tr>\n",
       "    <tr>\n",
       "      <th>2</th>\n",
       "      <td>{'learning_rate': 'optimal', 'max_iter': 100, ...</td>\n",
       "      <td>7.639210e-01</td>\n",
       "      <td>6.933970e-01</td>\n",
       "    </tr>\n",
       "    <tr>\n",
       "      <th>3</th>\n",
       "      <td>{'learning_rate': 'optimal', 'max_iter': 100, ...</td>\n",
       "      <td>7.648809e-01</td>\n",
       "      <td>6.955235e-01</td>\n",
       "    </tr>\n",
       "    <tr>\n",
       "      <th>4</th>\n",
       "      <td>{'learning_rate': 'optimal', 'max_iter': 1000,...</td>\n",
       "      <td>8.810997e-01</td>\n",
       "      <td>7.531622e-01</td>\n",
       "    </tr>\n",
       "    <tr>\n",
       "      <th>5</th>\n",
       "      <td>{'learning_rate': 'optimal', 'max_iter': 1000,...</td>\n",
       "      <td>8.811359e-01</td>\n",
       "      <td>7.539381e-01</td>\n",
       "    </tr>\n",
       "  </tbody>\n",
       "</table>\n",
       "</div>"
      ],
      "text/plain": [
       "                                              params  mean_train_score  \\\n",
       "0  {'learning_rate': 'optimal', 'max_iter': 10, '...     -1.179081e+19   \n",
       "1  {'learning_rate': 'optimal', 'max_iter': 10, '...     -1.001653e+19   \n",
       "2  {'learning_rate': 'optimal', 'max_iter': 100, ...      7.639210e-01   \n",
       "3  {'learning_rate': 'optimal', 'max_iter': 100, ...      7.648809e-01   \n",
       "4  {'learning_rate': 'optimal', 'max_iter': 1000,...      8.810997e-01   \n",
       "5  {'learning_rate': 'optimal', 'max_iter': 1000,...      8.811359e-01   \n",
       "\n",
       "   mean_test_score  \n",
       "0    -3.054691e+19  \n",
       "1    -2.238984e+19  \n",
       "2     6.933970e-01  \n",
       "3     6.955235e-01  \n",
       "4     7.531622e-01  \n",
       "5     7.539381e-01  "
      ]
     },
     "execution_count": 42,
     "metadata": {},
     "output_type": "execute_result"
    }
   ],
   "source": [
    "print(\"Best parameters: {}\".format(grid_sgd.best_params_))\n",
    "grid_sgdata = pd.DataFrame(grid_sgd.cv_results_)\n",
    "grid_sgdata = grid_sgdata[['params','mean_train_score','mean_test_score']]\n",
    "grid_sgdata"
   ]
  },
  {
   "cell_type": "code",
   "execution_count": 43,
   "metadata": {},
   "outputs": [
    {
     "name": "stdout",
     "output_type": "stream",
     "text": [
      "Best cross-validation accuracy: 0.75\n",
      "Best parameters: {'learning_rate': 'optimal', 'max_iter': 1000, 'penalty': 'l2', 'random_state': 0}\n",
      "Train Set Score: 0.875339292501002\n",
      "Test Set Score: 0.6966473567478744\n"
     ]
    }
   ],
   "source": [
    "print(\"Best cross-validation accuracy: {:.2f}\".format(grid_sgd.best_score_))\n",
    "print(\"Best parameters: {}\".format(grid_sgd.best_params_))\n",
    "print(\"Train Set Score: {}\".format(grid_sgd.score(X_reduced_train, Y_train)))\n",
    "print(\"Test Set Score: {}\".format(grid_sgd.score(X_reduced_test, Y_test)))"
   ]
  },
  {
   "cell_type": "code",
   "execution_count": 44,
   "metadata": {},
   "outputs": [],
   "source": [
    "report_table = report_table + [['SGD Regression', grid_sgd.best_params_, grid_sgd.score(X_reduced_train, Y_train), grid_sgd.score(X_reduced_test, Y_test)]]"
   ]
  },
  {
   "cell_type": "markdown",
   "metadata": {},
   "source": [
    "### 7 : Linear SVR"
   ]
  },
  {
   "cell_type": "code",
   "execution_count": 45,
   "metadata": {},
   "outputs": [
    {
     "name": "stdout",
     "output_type": "stream",
     "text": [
      "Defined Parameters:\n",
      "{'C': [0.001, 0.01, 0.1, 1, 10, 100, 1000]}\n"
     ]
    }
   ],
   "source": [
    "from sklearn.svm import LinearSVR\n",
    "model_LSVM = LinearSVR()\n",
    "param_LSVM = {'C':[0.001, 0.01, 0.1, 1, 10, 100, 1000]}\n",
    "print(\"Defined Parameters:\\n{}\".format(param_LSVM))"
   ]
  },
  {
   "cell_type": "code",
   "execution_count": 46,
   "metadata": {},
   "outputs": [
    {
     "data": {
      "text/plain": [
       "GridSearchCV(cv=5, error_score='raise-deprecating',\n",
       "       estimator=LinearSVR(C=1.0, dual=True, epsilon=0.0, fit_intercept=True,\n",
       "     intercept_scaling=1.0, loss='epsilon_insensitive', max_iter=1000,\n",
       "     random_state=None, tol=0.0001, verbose=0),\n",
       "       fit_params=None, iid='warn', n_jobs=None,\n",
       "       param_grid={'C': [0.001, 0.01, 0.1, 1, 10, 100, 1000]},\n",
       "       pre_dispatch='2*n_jobs', refit=True, return_train_score=True,\n",
       "       scoring=None, verbose=0)"
      ]
     },
     "execution_count": 46,
     "metadata": {},
     "output_type": "execute_result"
    }
   ],
   "source": [
    "grid_LSVM = GridSearchCV(model_LSVM, param_grid = param_LSVM, cv=5, return_train_score=True)\n",
    "grid_LSVM.fit(X_reduced_train, Y_train)"
   ]
  },
  {
   "cell_type": "code",
   "execution_count": 47,
   "metadata": {},
   "outputs": [
    {
     "name": "stdout",
     "output_type": "stream",
     "text": [
      "Best parameters: {'C': 1000}\n"
     ]
    },
    {
     "data": {
      "text/html": [
       "<div>\n",
       "<style>\n",
       "    .dataframe thead tr:only-child th {\n",
       "        text-align: right;\n",
       "    }\n",
       "\n",
       "    .dataframe thead th {\n",
       "        text-align: left;\n",
       "    }\n",
       "\n",
       "    .dataframe tbody tr th {\n",
       "        vertical-align: top;\n",
       "    }\n",
       "</style>\n",
       "<table border=\"1\" class=\"dataframe\">\n",
       "  <thead>\n",
       "    <tr style=\"text-align: right;\">\n",
       "      <th></th>\n",
       "      <th>params</th>\n",
       "      <th>mean_train_score</th>\n",
       "      <th>mean_test_score</th>\n",
       "    </tr>\n",
       "  </thead>\n",
       "  <tbody>\n",
       "    <tr>\n",
       "      <th>0</th>\n",
       "      <td>{'C': 0.001}</td>\n",
       "      <td>-0.086498</td>\n",
       "      <td>-0.152192</td>\n",
       "    </tr>\n",
       "    <tr>\n",
       "      <th>1</th>\n",
       "      <td>{'C': 0.01}</td>\n",
       "      <td>-0.082917</td>\n",
       "      <td>-0.145129</td>\n",
       "    </tr>\n",
       "    <tr>\n",
       "      <th>2</th>\n",
       "      <td>{'C': 0.1}</td>\n",
       "      <td>-0.065735</td>\n",
       "      <td>-0.115859</td>\n",
       "    </tr>\n",
       "    <tr>\n",
       "      <th>3</th>\n",
       "      <td>{'C': 1}</td>\n",
       "      <td>0.027983</td>\n",
       "      <td>0.007725</td>\n",
       "    </tr>\n",
       "    <tr>\n",
       "      <th>4</th>\n",
       "      <td>{'C': 10}</td>\n",
       "      <td>0.548050</td>\n",
       "      <td>0.608811</td>\n",
       "    </tr>\n",
       "    <tr>\n",
       "      <th>5</th>\n",
       "      <td>{'C': 100}</td>\n",
       "      <td>0.797658</td>\n",
       "      <td>0.842952</td>\n",
       "    </tr>\n",
       "    <tr>\n",
       "      <th>6</th>\n",
       "      <td>{'C': 1000}</td>\n",
       "      <td>0.824513</td>\n",
       "      <td>0.859820</td>\n",
       "    </tr>\n",
       "  </tbody>\n",
       "</table>\n",
       "</div>"
      ],
      "text/plain": [
       "         params  mean_train_score  mean_test_score\n",
       "0  {'C': 0.001}         -0.086498        -0.152192\n",
       "1   {'C': 0.01}         -0.082917        -0.145129\n",
       "2    {'C': 0.1}         -0.065735        -0.115859\n",
       "3      {'C': 1}          0.027983         0.007725\n",
       "4     {'C': 10}          0.548050         0.608811\n",
       "5    {'C': 100}          0.797658         0.842952\n",
       "6   {'C': 1000}          0.824513         0.859820"
      ]
     },
     "execution_count": 47,
     "metadata": {},
     "output_type": "execute_result"
    }
   ],
   "source": [
    "print(\"Best parameters: {}\".format(grid_LSVM.best_params_))\n",
    "grid_LSVMdata = pd.DataFrame(grid_LSVM.cv_results_)\n",
    "grid_LSVMdata = grid_LSVMdata[['params','mean_train_score','mean_test_score']]\n",
    "grid_LSVMdata"
   ]
  },
  {
   "cell_type": "code",
   "execution_count": 48,
   "metadata": {},
   "outputs": [
    {
     "name": "stdout",
     "output_type": "stream",
     "text": [
      "Best cross-validation accuracy: 0.86\n",
      "Best parameters: {'C': 1000}\n",
      "Train Set Score: 0.8247458736852817\n",
      "Test Set Score: 0.8099948635281169\n"
     ]
    }
   ],
   "source": [
    "print(\"Best cross-validation accuracy: {:.2f}\".format(grid_LSVM.best_score_))\n",
    "print(\"Best parameters: {}\".format(grid_LSVM.best_params_))\n",
    "print(\"Train Set Score: {}\".format(grid_LSVM.score(X_reduced_train, Y_train)))\n",
    "print(\"Test Set Score: {}\".format(grid_LSVM.score(X_reduced_test, Y_test)))"
   ]
  },
  {
   "cell_type": "code",
   "execution_count": 49,
   "metadata": {},
   "outputs": [],
   "source": [
    "report_table = report_table + [['Linear SVM', grid_LSVM.best_params_, grid_LSVM.score(X_reduced_train, Y_train), grid_LSVM.score(X_reduced_test, Y_test)]]"
   ]
  },
  {
   "cell_type": "markdown",
   "metadata": {},
   "source": [
    "### 8 : Support Vector Machines"
   ]
  },
  {
   "cell_type": "code",
   "execution_count": 50,
   "metadata": {},
   "outputs": [
    {
     "name": "stdout",
     "output_type": "stream",
     "text": [
      "Defined Parameters:\n",
      "{'C': [0.001, 0.01, 0.1, 1, 10, 100], 'gamma': [0.001, 0.01, 0.1, 1, 10, 100]}\n"
     ]
    }
   ],
   "source": [
    "from sklearn.svm import SVR\n",
    "model_RadSVM = SVR(kernel = 'rbf')\n",
    "param_RadSVM = {'C': [0.001, 0.01, 0.1, 1, 10, 100],'gamma': [0.001, 0.01, 0.1, 1, 10, 100]}\n",
    "print(\"Defined Parameters:\\n{}\".format(param_RadSVM))"
   ]
  },
  {
   "cell_type": "code",
   "execution_count": 51,
   "metadata": {},
   "outputs": [
    {
     "data": {
      "text/plain": [
       "GridSearchCV(cv=5, error_score='raise-deprecating',\n",
       "       estimator=SVR(C=1.0, cache_size=200, coef0=0.0, degree=3, epsilon=0.1,\n",
       "  gamma='auto_deprecated', kernel='rbf', max_iter=-1, shrinking=True,\n",
       "  tol=0.001, verbose=False),\n",
       "       fit_params=None, iid='warn', n_jobs=None,\n",
       "       param_grid={'C': [0.001, 0.01, 0.1, 1, 10, 100], 'gamma': [0.001, 0.01, 0.1, 1, 10, 100]},\n",
       "       pre_dispatch='2*n_jobs', refit=True, return_train_score=True,\n",
       "       scoring=None, verbose=0)"
      ]
     },
     "execution_count": 51,
     "metadata": {},
     "output_type": "execute_result"
    }
   ],
   "source": [
    "grid_RadSVM = GridSearchCV(model_RadSVM, param_grid = param_RadSVM, cv=5, return_train_score=True)\n",
    "grid_RadSVM.fit(X_reduced_train, Y_train)"
   ]
  },
  {
   "cell_type": "code",
   "execution_count": 52,
   "metadata": {},
   "outputs": [
    {
     "name": "stdout",
     "output_type": "stream",
     "text": [
      "Best parameters: {'C': 100, 'gamma': 0.1}\n"
     ]
    },
    {
     "data": {
      "text/html": [
       "<div>\n",
       "<style>\n",
       "    .dataframe thead tr:only-child th {\n",
       "        text-align: right;\n",
       "    }\n",
       "\n",
       "    .dataframe thead th {\n",
       "        text-align: left;\n",
       "    }\n",
       "\n",
       "    .dataframe tbody tr th {\n",
       "        vertical-align: top;\n",
       "    }\n",
       "</style>\n",
       "<table border=\"1\" class=\"dataframe\">\n",
       "  <thead>\n",
       "    <tr style=\"text-align: right;\">\n",
       "      <th></th>\n",
       "      <th>params</th>\n",
       "      <th>mean_train_score</th>\n",
       "      <th>mean_test_score</th>\n",
       "    </tr>\n",
       "  </thead>\n",
       "  <tbody>\n",
       "    <tr>\n",
       "      <th>0</th>\n",
       "      <td>{'C': 0.001, 'gamma': 0.001}</td>\n",
       "      <td>-0.065296</td>\n",
       "      <td>-0.109261</td>\n",
       "    </tr>\n",
       "    <tr>\n",
       "      <th>1</th>\n",
       "      <td>{'C': 0.001, 'gamma': 0.01}</td>\n",
       "      <td>-0.065295</td>\n",
       "      <td>-0.109259</td>\n",
       "    </tr>\n",
       "    <tr>\n",
       "      <th>2</th>\n",
       "      <td>{'C': 0.001, 'gamma': 0.1}</td>\n",
       "      <td>-0.065291</td>\n",
       "      <td>-0.109247</td>\n",
       "    </tr>\n",
       "    <tr>\n",
       "      <th>3</th>\n",
       "      <td>{'C': 0.001, 'gamma': 1}</td>\n",
       "      <td>-0.065284</td>\n",
       "      <td>-0.109224</td>\n",
       "    </tr>\n",
       "    <tr>\n",
       "      <th>4</th>\n",
       "      <td>{'C': 0.001, 'gamma': 10}</td>\n",
       "      <td>-0.065276</td>\n",
       "      <td>-0.109215</td>\n",
       "    </tr>\n",
       "    <tr>\n",
       "      <th>5</th>\n",
       "      <td>{'C': 0.001, 'gamma': 100}</td>\n",
       "      <td>-0.065258</td>\n",
       "      <td>-0.109189</td>\n",
       "    </tr>\n",
       "    <tr>\n",
       "      <th>6</th>\n",
       "      <td>{'C': 0.01, 'gamma': 0.001}</td>\n",
       "      <td>-0.065294</td>\n",
       "      <td>-0.109259</td>\n",
       "    </tr>\n",
       "    <tr>\n",
       "      <th>7</th>\n",
       "      <td>{'C': 0.01, 'gamma': 0.01}</td>\n",
       "      <td>-0.065277</td>\n",
       "      <td>-0.109234</td>\n",
       "    </tr>\n",
       "    <tr>\n",
       "      <th>8</th>\n",
       "      <td>{'C': 0.01, 'gamma': 0.1}</td>\n",
       "      <td>-0.065244</td>\n",
       "      <td>-0.109112</td>\n",
       "    </tr>\n",
       "    <tr>\n",
       "      <th>9</th>\n",
       "      <td>{'C': 0.01, 'gamma': 1}</td>\n",
       "      <td>-0.065284</td>\n",
       "      <td>-0.109030</td>\n",
       "    </tr>\n",
       "    <tr>\n",
       "      <th>10</th>\n",
       "      <td>{'C': 0.01, 'gamma': 10}</td>\n",
       "      <td>-0.065131</td>\n",
       "      <td>-0.108808</td>\n",
       "    </tr>\n",
       "    <tr>\n",
       "      <th>11</th>\n",
       "      <td>{'C': 0.01, 'gamma': 100}</td>\n",
       "      <td>-0.064982</td>\n",
       "      <td>-0.108564</td>\n",
       "    </tr>\n",
       "    <tr>\n",
       "      <th>12</th>\n",
       "      <td>{'C': 0.1, 'gamma': 0.001}</td>\n",
       "      <td>-0.065273</td>\n",
       "      <td>-0.109231</td>\n",
       "    </tr>\n",
       "    <tr>\n",
       "      <th>13</th>\n",
       "      <td>{'C': 0.1, 'gamma': 0.01}</td>\n",
       "      <td>-0.065105</td>\n",
       "      <td>-0.108982</td>\n",
       "    </tr>\n",
       "    <tr>\n",
       "      <th>14</th>\n",
       "      <td>{'C': 0.1, 'gamma': 0.1}</td>\n",
       "      <td>-0.065032</td>\n",
       "      <td>-0.108112</td>\n",
       "    </tr>\n",
       "    <tr>\n",
       "      <th>15</th>\n",
       "      <td>{'C': 0.1, 'gamma': 1}</td>\n",
       "      <td>-0.065063</td>\n",
       "      <td>-0.106679</td>\n",
       "    </tr>\n",
       "    <tr>\n",
       "      <th>16</th>\n",
       "      <td>{'C': 0.1, 'gamma': 10}</td>\n",
       "      <td>-0.063666</td>\n",
       "      <td>-0.105000</td>\n",
       "    </tr>\n",
       "    <tr>\n",
       "      <th>17</th>\n",
       "      <td>{'C': 0.1, 'gamma': 100}</td>\n",
       "      <td>-0.062231</td>\n",
       "      <td>-0.102861</td>\n",
       "    </tr>\n",
       "    <tr>\n",
       "      <th>18</th>\n",
       "      <td>{'C': 1, 'gamma': 0.001}</td>\n",
       "      <td>-0.065064</td>\n",
       "      <td>-0.108952</td>\n",
       "    </tr>\n",
       "    <tr>\n",
       "      <th>19</th>\n",
       "      <td>{'C': 1, 'gamma': 0.01}</td>\n",
       "      <td>-0.063670</td>\n",
       "      <td>-0.106865</td>\n",
       "    </tr>\n",
       "    <tr>\n",
       "      <th>20</th>\n",
       "      <td>{'C': 1, 'gamma': 0.1}</td>\n",
       "      <td>-0.058437</td>\n",
       "      <td>-0.092118</td>\n",
       "    </tr>\n",
       "    <tr>\n",
       "      <th>21</th>\n",
       "      <td>{'C': 1, 'gamma': 1}</td>\n",
       "      <td>-0.042796</td>\n",
       "      <td>-0.052155</td>\n",
       "    </tr>\n",
       "    <tr>\n",
       "      <th>22</th>\n",
       "      <td>{'C': 1, 'gamma': 10}</td>\n",
       "      <td>-0.043097</td>\n",
       "      <td>-0.056414</td>\n",
       "    </tr>\n",
       "    <tr>\n",
       "      <th>23</th>\n",
       "      <td>{'C': 1, 'gamma': 100}</td>\n",
       "      <td>-0.046553</td>\n",
       "      <td>-0.070260</td>\n",
       "    </tr>\n",
       "    <tr>\n",
       "      <th>24</th>\n",
       "      <td>{'C': 10, 'gamma': 0.001}</td>\n",
       "      <td>-0.063260</td>\n",
       "      <td>-0.106564</td>\n",
       "    </tr>\n",
       "    <tr>\n",
       "      <th>25</th>\n",
       "      <td>{'C': 10, 'gamma': 0.01}</td>\n",
       "      <td>-0.045600</td>\n",
       "      <td>-0.079860</td>\n",
       "    </tr>\n",
       "    <tr>\n",
       "      <th>26</th>\n",
       "      <td>{'C': 10, 'gamma': 0.1}</td>\n",
       "      <td>0.011945</td>\n",
       "      <td>0.042006</td>\n",
       "    </tr>\n",
       "    <tr>\n",
       "      <th>27</th>\n",
       "      <td>{'C': 10, 'gamma': 1}</td>\n",
       "      <td>0.094339</td>\n",
       "      <td>0.254818</td>\n",
       "    </tr>\n",
       "    <tr>\n",
       "      <th>28</th>\n",
       "      <td>{'C': 10, 'gamma': 10}</td>\n",
       "      <td>0.052784</td>\n",
       "      <td>0.154655</td>\n",
       "    </tr>\n",
       "    <tr>\n",
       "      <th>29</th>\n",
       "      <td>{'C': 10, 'gamma': 100}</td>\n",
       "      <td>0.002360</td>\n",
       "      <td>0.030881</td>\n",
       "    </tr>\n",
       "    <tr>\n",
       "      <th>30</th>\n",
       "      <td>{'C': 100, 'gamma': 0.001}</td>\n",
       "      <td>-0.042369</td>\n",
       "      <td>-0.077558</td>\n",
       "    </tr>\n",
       "    <tr>\n",
       "      <th>31</th>\n",
       "      <td>{'C': 100, 'gamma': 0.01}</td>\n",
       "      <td>0.098549</td>\n",
       "      <td>0.108446</td>\n",
       "    </tr>\n",
       "    <tr>\n",
       "      <th>32</th>\n",
       "      <td>{'C': 100, 'gamma': 0.1}</td>\n",
       "      <td>0.299885</td>\n",
       "      <td>0.524862</td>\n",
       "    </tr>\n",
       "    <tr>\n",
       "      <th>33</th>\n",
       "      <td>{'C': 100, 'gamma': 1}</td>\n",
       "      <td>0.205733</td>\n",
       "      <td>0.449199</td>\n",
       "    </tr>\n",
       "    <tr>\n",
       "      <th>34</th>\n",
       "      <td>{'C': 100, 'gamma': 10}</td>\n",
       "      <td>0.186232</td>\n",
       "      <td>0.405276</td>\n",
       "    </tr>\n",
       "    <tr>\n",
       "      <th>35</th>\n",
       "      <td>{'C': 100, 'gamma': 100}</td>\n",
       "      <td>0.160433</td>\n",
       "      <td>0.327200</td>\n",
       "    </tr>\n",
       "  </tbody>\n",
       "</table>\n",
       "</div>"
      ],
      "text/plain": [
       "                          params  mean_train_score  mean_test_score\n",
       "0   {'C': 0.001, 'gamma': 0.001}         -0.065296        -0.109261\n",
       "1    {'C': 0.001, 'gamma': 0.01}         -0.065295        -0.109259\n",
       "2     {'C': 0.001, 'gamma': 0.1}         -0.065291        -0.109247\n",
       "3       {'C': 0.001, 'gamma': 1}         -0.065284        -0.109224\n",
       "4      {'C': 0.001, 'gamma': 10}         -0.065276        -0.109215\n",
       "5     {'C': 0.001, 'gamma': 100}         -0.065258        -0.109189\n",
       "6    {'C': 0.01, 'gamma': 0.001}         -0.065294        -0.109259\n",
       "7     {'C': 0.01, 'gamma': 0.01}         -0.065277        -0.109234\n",
       "8      {'C': 0.01, 'gamma': 0.1}         -0.065244        -0.109112\n",
       "9        {'C': 0.01, 'gamma': 1}         -0.065284        -0.109030\n",
       "10      {'C': 0.01, 'gamma': 10}         -0.065131        -0.108808\n",
       "11     {'C': 0.01, 'gamma': 100}         -0.064982        -0.108564\n",
       "12    {'C': 0.1, 'gamma': 0.001}         -0.065273        -0.109231\n",
       "13     {'C': 0.1, 'gamma': 0.01}         -0.065105        -0.108982\n",
       "14      {'C': 0.1, 'gamma': 0.1}         -0.065032        -0.108112\n",
       "15        {'C': 0.1, 'gamma': 1}         -0.065063        -0.106679\n",
       "16       {'C': 0.1, 'gamma': 10}         -0.063666        -0.105000\n",
       "17      {'C': 0.1, 'gamma': 100}         -0.062231        -0.102861\n",
       "18      {'C': 1, 'gamma': 0.001}         -0.065064        -0.108952\n",
       "19       {'C': 1, 'gamma': 0.01}         -0.063670        -0.106865\n",
       "20        {'C': 1, 'gamma': 0.1}         -0.058437        -0.092118\n",
       "21          {'C': 1, 'gamma': 1}         -0.042796        -0.052155\n",
       "22         {'C': 1, 'gamma': 10}         -0.043097        -0.056414\n",
       "23        {'C': 1, 'gamma': 100}         -0.046553        -0.070260\n",
       "24     {'C': 10, 'gamma': 0.001}         -0.063260        -0.106564\n",
       "25      {'C': 10, 'gamma': 0.01}         -0.045600        -0.079860\n",
       "26       {'C': 10, 'gamma': 0.1}          0.011945         0.042006\n",
       "27         {'C': 10, 'gamma': 1}          0.094339         0.254818\n",
       "28        {'C': 10, 'gamma': 10}          0.052784         0.154655\n",
       "29       {'C': 10, 'gamma': 100}          0.002360         0.030881\n",
       "30    {'C': 100, 'gamma': 0.001}         -0.042369        -0.077558\n",
       "31     {'C': 100, 'gamma': 0.01}          0.098549         0.108446\n",
       "32      {'C': 100, 'gamma': 0.1}          0.299885         0.524862\n",
       "33        {'C': 100, 'gamma': 1}          0.205733         0.449199\n",
       "34       {'C': 100, 'gamma': 10}          0.186232         0.405276\n",
       "35      {'C': 100, 'gamma': 100}          0.160433         0.327200"
      ]
     },
     "execution_count": 52,
     "metadata": {},
     "output_type": "execute_result"
    }
   ],
   "source": [
    "print(\"Best parameters: {}\".format(grid_RadSVM.best_params_))\n",
    "grid_RadSVMdata = pd.DataFrame(grid_RadSVM.cv_results_)\n",
    "grid_RadSVMdata = grid_RadSVMdata[['params','mean_train_score','mean_test_score']]\n",
    "grid_RadSVMdata"
   ]
  },
  {
   "cell_type": "code",
   "execution_count": 53,
   "metadata": {},
   "outputs": [
    {
     "name": "stdout",
     "output_type": "stream",
     "text": [
      "Best cross-validation accuracy: 0.52\n",
      "Best parameters: {'C': 100, 'gamma': 0.1}\n",
      "Train Set Score: 0.2950468960459115\n",
      "Test Set Score: 0.6915495856779722\n"
     ]
    }
   ],
   "source": [
    "print(\"Best cross-validation accuracy: {:.2f}\".format(grid_RadSVM.best_score_))\n",
    "print(\"Best parameters: {}\".format(grid_RadSVM.best_params_))\n",
    "print(\"Train Set Score: {}\".format(grid_RadSVM.score(X_reduced_train, Y_train)))\n",
    "print(\"Test Set Score: {}\".format(grid_RadSVM.score(X_reduced_test, Y_test)))"
   ]
  },
  {
   "cell_type": "code",
   "execution_count": null,
   "metadata": {},
   "outputs": [],
   "source": [
    "report_table = report_table + [['SVM kernel Rbf', grid_RadSVM.best_params_, grid_RadSVM.score(X_reduced_train, Y_train), grid_RadSVM.score(X_reduced_test, Y_test)]]"
   ]
  },
  {
   "cell_type": "markdown",
   "metadata": {},
   "source": [
    "### 9 : Support Vector Machine with Kernel"
   ]
  },
  {
   "cell_type": "code",
   "execution_count": 55,
   "metadata": {},
   "outputs": [
    {
     "name": "stdout",
     "output_type": "stream",
     "text": [
      "Defined Parameters:\n",
      "{'C': [0.001, 0.01, 0.1, 1, 10, 100], 'gamma': [0.001, 0.01, 0.1, 1, 10, 100]}\n"
     ]
    }
   ],
   "source": [
    "from sklearn.model_selection import GridSearchCV\n",
    "from sklearn.svm import SVR\n",
    "model_PolySVM = SVR(kernel = 'poly', degree = 2)\n",
    "param_PolySVM = {'C': [0.001, 0.01, 0.1, 1, 10, 100],'gamma': [0.001, 0.01, 0.1, 1, 10, 100]}\n",
    "print(\"Defined Parameters:\\n{}\".format(param_PolySVM))"
   ]
  },
  {
   "cell_type": "code",
   "execution_count": 56,
   "metadata": {
    "scrolled": false
   },
   "outputs": [
    {
     "data": {
      "text/html": [
       "<div>\n",
       "<style>\n",
       "    .dataframe thead tr:only-child th {\n",
       "        text-align: right;\n",
       "    }\n",
       "\n",
       "    .dataframe thead th {\n",
       "        text-align: left;\n",
       "    }\n",
       "\n",
       "    .dataframe tbody tr th {\n",
       "        vertical-align: top;\n",
       "    }\n",
       "</style>\n",
       "<table border=\"1\" class=\"dataframe\">\n",
       "  <thead>\n",
       "    <tr style=\"text-align: right;\">\n",
       "      <th></th>\n",
       "      <th>Model name</th>\n",
       "      <th>Model parameter</th>\n",
       "      <th>Train accuracy</th>\n",
       "      <th>Test accuracy</th>\n",
       "    </tr>\n",
       "  </thead>\n",
       "  <tbody>\n",
       "    <tr>\n",
       "      <th>0</th>\n",
       "      <td>Linear Regression</td>\n",
       "      <td>None</td>\n",
       "      <td>0.7884</td>\n",
       "      <td>0.7233</td>\n",
       "    </tr>\n",
       "    <tr>\n",
       "      <th>1</th>\n",
       "      <td>KNN Regression</td>\n",
       "      <td>K = 5</td>\n",
       "      <td>0.7730</td>\n",
       "      <td>0.6634</td>\n",
       "    </tr>\n",
       "    <tr>\n",
       "      <th>2</th>\n",
       "      <td>Ridge Regression</td>\n",
       "      <td>alpha = 0.3</td>\n",
       "      <td>0.8330</td>\n",
       "      <td>0.8061</td>\n",
       "    </tr>\n",
       "    <tr>\n",
       "      <th>3</th>\n",
       "      <td>Lasso Regression</td>\n",
       "      <td>alpha = 1</td>\n",
       "      <td>0.8751</td>\n",
       "      <td>0.7333</td>\n",
       "    </tr>\n",
       "    <tr>\n",
       "      <th>4</th>\n",
       "      <td>Polynomial Regression</td>\n",
       "      <td>Degree = 2</td>\n",
       "      <td>-1.1268</td>\n",
       "      <td>-1.1268</td>\n",
       "    </tr>\n",
       "    <tr>\n",
       "      <th>5</th>\n",
       "      <td>SGD Regression</td>\n",
       "      <td>{'learning_rate': 'optimal', 'max_iter': 1000,...</td>\n",
       "      <td>0.8753</td>\n",
       "      <td>0.6966</td>\n",
       "    </tr>\n",
       "    <tr>\n",
       "      <th>6</th>\n",
       "      <td>Linear SVM</td>\n",
       "      <td>{'C': 1000}</td>\n",
       "      <td>0.8247</td>\n",
       "      <td>0.8100</td>\n",
       "    </tr>\n",
       "    <tr>\n",
       "      <th>7</th>\n",
       "      <td>SVM kernel Rbf</td>\n",
       "      <td>{'C': 100, 'gamma': 0.1}</td>\n",
       "      <td>0.2950</td>\n",
       "      <td>0.6915</td>\n",
       "    </tr>\n",
       "  </tbody>\n",
       "</table>\n",
       "</div>"
      ],
      "text/plain": [
       "              Model name                                    Model parameter  \\\n",
       "0      Linear Regression                                               None   \n",
       "1         KNN Regression                                              K = 5   \n",
       "2       Ridge Regression                                        alpha = 0.3   \n",
       "3       Lasso Regression                                          alpha = 1   \n",
       "4  Polynomial Regression                                         Degree = 2   \n",
       "5         SGD Regression  {'learning_rate': 'optimal', 'max_iter': 1000,...   \n",
       "6             Linear SVM                                        {'C': 1000}   \n",
       "7         SVM kernel Rbf                           {'C': 100, 'gamma': 0.1}   \n",
       "\n",
       "  Train accuracy Test accuracy  \n",
       "0         0.7884        0.7233  \n",
       "1         0.7730        0.6634  \n",
       "2         0.8330        0.8061  \n",
       "3         0.8751        0.7333  \n",
       "4        -1.1268       -1.1268  \n",
       "5         0.8753        0.6966  \n",
       "6         0.8247        0.8100  \n",
       "7         0.2950        0.6915  "
      ]
     },
     "execution_count": 56,
     "metadata": {},
     "output_type": "execute_result"
    }
   ],
   "source": [
    "report = pd.DataFrame(report_table,columns = ['Model name', 'Model parameter', 'Train accuracy', 'Test accuracy'])\n",
    "report['Test accuracy']=report['Test accuracy'].apply(lambda x: '%.4f' % x)\n",
    "report['Train accuracy']=report['Train accuracy'].apply(lambda x: '%.4f' % x)\n",
    "report"
   ]
  },
  {
   "cell_type": "markdown",
   "metadata": {},
   "source": [
    "### Linear SVM has the highest Test & Train Accuracies"
   ]
  },
  {
   "cell_type": "code",
   "execution_count": 57,
   "metadata": {},
   "outputs": [
    {
     "data": {
      "text/plain": [
       "Model name          Linear SVM\n",
       "Model parameter    {'C': 1000}\n",
       "Train accuracy          0.8247\n",
       "Test accuracy           0.8100\n",
       "Name: 6, dtype: object"
      ]
     },
     "execution_count": 57,
     "metadata": {},
     "output_type": "execute_result"
    }
   ],
   "source": [
    "report.iloc[6,:]"
   ]
  },
  {
   "cell_type": "markdown",
   "metadata": {
    "scrolled": true
   },
   "source": [
    "### Models without PCA  \n",
    "#### Copied from Project 2"
   ]
  },
  {
   "cell_type": "markdown",
   "metadata": {},
   "source": [
    "              model\t       cross val train\t cross val test\t train r2\ttest r2\n",
    "0\tK Neighbor Regression\t  0.878637\t       0.844452\t     0.885631\t0.872666\n",
    "1    \tLinear Regression\t  0.909266\t       0.928121\t     0.946542\t0.930354\n",
    "2    \t Ridge Regression\t  0.913961\t       0.926241\t     0.938993\t0.926606\n",
    "3    \t   SGD Regression\t  0.927683\t       0.928711\t     0.935406\t0.929586\n",
    "4    \t Lasso Regression\t  0.878637\t       0.844452\t     0.885631\t0.872666\n",
    "5\tLinear SVM Regression\t  0.878632\t       0.844464\t     0.875612\t0.882561\n",
    "6   Polynomial Regression     0.865917\t       0.849450\t     0.815620\t0.817351"
   ]
  },
  {
   "cell_type": "code",
   "execution_count": 59,
   "metadata": {},
   "outputs": [
    {
     "data": {
      "text/html": [
       "<div>\n",
       "<style>\n",
       "    .dataframe thead tr:only-child th {\n",
       "        text-align: right;\n",
       "    }\n",
       "\n",
       "    .dataframe thead th {\n",
       "        text-align: left;\n",
       "    }\n",
       "\n",
       "    .dataframe tbody tr th {\n",
       "        vertical-align: top;\n",
       "    }\n",
       "</style>\n",
       "<table border=\"1\" class=\"dataframe\">\n",
       "  <thead>\n",
       "    <tr style=\"text-align: right;\">\n",
       "      <th></th>\n",
       "      <th>Model name</th>\n",
       "      <th>Model parameter</th>\n",
       "      <th>Train accuracy</th>\n",
       "      <th>Test accuracy</th>\n",
       "    </tr>\n",
       "  </thead>\n",
       "  <tbody>\n",
       "    <tr>\n",
       "      <th>0</th>\n",
       "      <td>Linear Regression</td>\n",
       "      <td>None</td>\n",
       "      <td>0.7884</td>\n",
       "      <td>0.7233</td>\n",
       "    </tr>\n",
       "    <tr>\n",
       "      <th>1</th>\n",
       "      <td>KNN Regression</td>\n",
       "      <td>K = 5</td>\n",
       "      <td>0.7730</td>\n",
       "      <td>0.6634</td>\n",
       "    </tr>\n",
       "    <tr>\n",
       "      <th>2</th>\n",
       "      <td>Ridge Regression</td>\n",
       "      <td>alpha = 0.3</td>\n",
       "      <td>0.8330</td>\n",
       "      <td>0.8061</td>\n",
       "    </tr>\n",
       "    <tr>\n",
       "      <th>3</th>\n",
       "      <td>Lasso Regression</td>\n",
       "      <td>alpha = 1</td>\n",
       "      <td>0.8751</td>\n",
       "      <td>0.7333</td>\n",
       "    </tr>\n",
       "    <tr>\n",
       "      <th>4</th>\n",
       "      <td>Polynomial Regression</td>\n",
       "      <td>Degree = 2</td>\n",
       "      <td>-1.1268</td>\n",
       "      <td>-1.1268</td>\n",
       "    </tr>\n",
       "    <tr>\n",
       "      <th>5</th>\n",
       "      <td>SGD Regression</td>\n",
       "      <td>{'learning_rate': 'optimal', 'max_iter': 1000,...</td>\n",
       "      <td>0.8753</td>\n",
       "      <td>0.6966</td>\n",
       "    </tr>\n",
       "    <tr>\n",
       "      <th>6</th>\n",
       "      <td>Linear SVM</td>\n",
       "      <td>{'C': 1000}</td>\n",
       "      <td>0.8247</td>\n",
       "      <td>0.8100</td>\n",
       "    </tr>\n",
       "    <tr>\n",
       "      <th>7</th>\n",
       "      <td>SVM kernel Rbf</td>\n",
       "      <td>{'C': 100, 'gamma': 0.1}</td>\n",
       "      <td>0.2950</td>\n",
       "      <td>0.6915</td>\n",
       "    </tr>\n",
       "  </tbody>\n",
       "</table>\n",
       "</div>"
      ],
      "text/plain": [
       "              Model name                                    Model parameter  \\\n",
       "0      Linear Regression                                               None   \n",
       "1         KNN Regression                                              K = 5   \n",
       "2       Ridge Regression                                        alpha = 0.3   \n",
       "3       Lasso Regression                                          alpha = 1   \n",
       "4  Polynomial Regression                                         Degree = 2   \n",
       "5         SGD Regression  {'learning_rate': 'optimal', 'max_iter': 1000,...   \n",
       "6             Linear SVM                                        {'C': 1000}   \n",
       "7         SVM kernel Rbf                           {'C': 100, 'gamma': 0.1}   \n",
       "\n",
       "  Train accuracy Test accuracy  \n",
       "0         0.7884        0.7233  \n",
       "1         0.7730        0.6634  \n",
       "2         0.8330        0.8061  \n",
       "3         0.8751        0.7333  \n",
       "4        -1.1268       -1.1268  \n",
       "5         0.8753        0.6966  \n",
       "6         0.8247        0.8100  \n",
       "7         0.2950        0.6915  "
      ]
     },
     "execution_count": 59,
     "metadata": {},
     "output_type": "execute_result"
    }
   ],
   "source": [
    "report #Models with PCA"
   ]
  },
  {
   "cell_type": "markdown",
   "metadata": {},
   "source": [
    "### If we compare both table reports, we find that applying PCA hasn't increased the accuracy of the models. It can therefore be concluded that applying dimensionality reduction on our models can be avoided for this specific dataset."
   ]
  },
  {
   "cell_type": "markdown",
   "metadata": {},
   "source": [
    "## Deep Learning Networks"
   ]
  },
  {
   "cell_type": "code",
   "execution_count": 88,
   "metadata": {},
   "outputs": [],
   "source": [
    "from keras.wrappers.scikit_learn import KerasRegressor\n",
    "from sklearn.metrics import r2_score, recall_score, precision_score\n",
    "from keras.models import Sequential\n",
    "from keras.layers import Dense"
   ]
  },
  {
   "cell_type": "code",
   "execution_count": 64,
   "metadata": {},
   "outputs": [],
   "source": [
    "def create_model():\n",
    "    model = Sequential()\n",
    "    model.add(Dense(15, input_dim=77, kernel_initializer='normal', activation='relu'))\n",
    "    model.add(Dense(7, kernel_initializer = 'normal', activation = 'relu'))\n",
    "    model.add(Dense(1, kernel_initializer='normal'))\n",
    "    model.compile(optimizer='adam' , loss = 'mse',  metrics = ['mse'])\n",
    "    return model"
   ]
  },
  {
   "cell_type": "code",
   "execution_count": 105,
   "metadata": {},
   "outputs": [],
   "source": [
    "model = KerasRegressor(build_fn = create_model, verbose = 0)\n",
    "param_grid = {'batch_size':[10,20,30,40] , 'epochs':[10, 50, 100]}\n",
    "grid_search = GridSearchCV(estimator= model, param_grid = param_grid, cv = 5)\n",
    "grid_search_result = grid_search.fit(X_train, Y_train)"
   ]
  },
  {
   "cell_type": "code",
   "execution_count": 106,
   "metadata": {},
   "outputs": [
    {
     "name": "stdout",
     "output_type": "stream",
     "text": [
      "Best parameters: {'batch_size': 20, 'epochs': 100}\n",
      "Train Set Score: -68369.72014811198\n",
      "Test Set Score: -25302.203154296876\n"
     ]
    }
   ],
   "source": [
    "print(\"Best parameters: {}\".format(grid_search.best_params_))\n",
    "print(\"Train Set Score: {}\".format(grid_search.score(X_train, Y_train)))\n",
    "print(\"Test Set Score: {}\".format(grid_search.score(X_test, Y_test)))"
   ]
  },
  {
   "cell_type": "code",
   "execution_count": 107,
   "metadata": {},
   "outputs": [
    {
     "data": {
      "text/plain": [
       "<keras.callbacks.History at 0x7f01b4583e80>"
      ]
     },
     "execution_count": 107,
     "metadata": {},
     "output_type": "execute_result"
    }
   ],
   "source": [
    "model.fit(X_train, Y_train, epochs = grid_search_result.best_params_['epochs'], batch_size =grid_search_result.best_params_['batch_size'] )"
   ]
  },
  {
   "cell_type": "code",
   "execution_count": 78,
   "metadata": {},
   "outputs": [
    {
     "data": {
      "text/plain": [
       "<keras.callbacks.History at 0x7f01c4fd9b00>"
      ]
     },
     "execution_count": 78,
     "metadata": {},
     "output_type": "execute_result"
    }
   ],
   "source": [
    "model.fit(X_train, Y_train, epochs = 100, batch_size = 10)"
   ]
  },
  {
   "cell_type": "code",
   "execution_count": 108,
   "metadata": {},
   "outputs": [
    {
     "name": "stdout",
     "output_type": "stream",
     "text": [
      "Train score: 0.81\n",
      "Test score: 0.77\n"
     ]
    }
   ],
   "source": [
    "y_train_predict = model.predict(X_train)\n",
    "y_test_predict = model.predict(X_test)\n",
    "\n",
    "print('Train score: {:.2f}'.format(r2_score(Y_train, y_train_predict)))\n",
    "print('Test score: {:.2f}'.format(r2_score(Y_test, y_test_predict)))"
   ]
  }
 ],
 "metadata": {
  "kernelspec": {
   "display_name": "Python 3",
   "language": "python",
   "name": "python3"
  },
  "language_info": {
   "codemirror_mode": {
    "name": "ipython",
    "version": 3
   },
   "file_extension": ".py",
   "mimetype": "text/x-python",
   "name": "python",
   "nbconvert_exporter": "python",
   "pygments_lexer": "ipython3",
   "version": "3.6.3"
  }
 },
 "nbformat": 4,
 "nbformat_minor": 2
}
